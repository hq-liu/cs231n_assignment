{
 "cells": [
  {
   "cell_type": "markdown",
   "metadata": {
    "editable": true,
    "deletable": true
   },
   "source": [
    "# Fully-Connected Neural Nets\n",
    "In the previous homework you implemented a fully-connected two-layer neural network on CIFAR-10. The implementation was simple but not very modular since the loss and gradient were computed in a single monolithic function. This is manageable for a simple two-layer network, but would become impractical as we move to bigger models. Ideally we want to build networks using a more modular design so that we can implement different layer types in isolation and then snap them together into models with different architectures.\n",
    "\n",
    "In this exercise we will implement fully-connected networks using a more modular approach. For each layer we will implement a `forward` and a `backward` function. The `forward` function will receive inputs, weights, and other parameters and will return both an output and a `cache` object storing data needed for the backward pass, like this:\n",
    "\n",
    "```python\n",
    "def layer_forward(x, w):\n",
    "  \"\"\" Receive inputs x and weights w \"\"\"\n",
    "  # Do some computations ...\n",
    "  z = # ... some intermediate value\n",
    "  # Do some more computations ...\n",
    "  out = # the output\n",
    "   \n",
    "  cache = (x, w, z, out) # Values we need to compute gradients\n",
    "   \n",
    "  return out, cache\n",
    "```\n",
    "\n",
    "The backward pass will receive upstream derivatives and the `cache` object, and will return gradients with respect to the inputs and weights, like this:\n",
    "\n",
    "```python\n",
    "def layer_backward(dout, cache):\n",
    "  \"\"\"\n",
    "  Receive derivative of loss with respect to outputs and cache,\n",
    "  and compute derivative with respect to inputs.\n",
    "  \"\"\"\n",
    "  # Unpack cache values\n",
    "  x, w, z, out = cache\n",
    "  \n",
    "  # Use values in cache to compute derivatives\n",
    "  dx = # Derivative of loss with respect to x\n",
    "  dw = # Derivative of loss with respect to w\n",
    "  \n",
    "  return dx, dw\n",
    "```\n",
    "\n",
    "After implementing a bunch of layers this way, we will be able to easily combine them to build classifiers with different architectures.\n",
    "\n",
    "In addition to implementing fully-connected networks of arbitrary depth, we will also explore different update rules for optimization, and introduce Dropout as a regularizer and Batch Normalization as a tool to more efficiently optimize deep networks.\n",
    "  "
   ]
  },
  {
   "cell_type": "code",
   "execution_count": 1,
   "metadata": {
    "collapsed": false,
    "editable": true,
    "deletable": true
   },
   "outputs": [],
   "source": [
    "# As usual, a bit of setup\n",
    "from __future__ import print_function\n",
    "import time\n",
    "import numpy as np\n",
    "import matplotlib.pyplot as plt\n",
    "from cs231n.classifiers.fc_net import *\n",
    "from cs231n.data_utils import get_CIFAR10_data\n",
    "from cs231n.gradient_check import eval_numerical_gradient, eval_numerical_gradient_array\n",
    "from cs231n.solver import Solver\n",
    "\n",
    "%matplotlib inline\n",
    "plt.rcParams['figure.figsize'] = (10.0, 8.0) # set default size of plots\n",
    "plt.rcParams['image.interpolation'] = 'nearest'\n",
    "plt.rcParams['image.cmap'] = 'gray'\n",
    "\n",
    "# for auto-reloading external modules\n",
    "# see http://stackoverflow.com/questions/1907993/autoreload-of-modules-in-ipython\n",
    "%load_ext autoreload\n",
    "%autoreload 2\n",
    "\n",
    "def rel_error(x, y):\n",
    "  \"\"\" returns relative error \"\"\"\n",
    "  return np.max(np.abs(x - y) / (np.maximum(1e-8, np.abs(x) + np.abs(y))))"
   ]
  },
  {
   "cell_type": "code",
   "execution_count": 2,
   "metadata": {
    "collapsed": false,
    "editable": true,
    "deletable": true
   },
   "outputs": [
    {
     "name": "stdout",
     "output_type": "stream",
     "text": [
      "('X_train: ', (49000, 3, 32, 32))\n('y_train: ', (49000,))\n('X_val: ', (1000, 3, 32, 32))\n('y_val: ', (1000,))\n('X_test: ', (1000, 3, 32, 32))\n('y_test: ', (1000,))\n"
     ]
    }
   ],
   "source": [
    "# Load the (preprocessed) CIFAR10 data.\n",
    "\n",
    "data = get_CIFAR10_data()\n",
    "for k, v in list(data.items()):\n",
    "  print(('%s: ' % k, v.shape))"
   ]
  },
  {
   "cell_type": "markdown",
   "metadata": {
    "editable": true,
    "deletable": true
   },
   "source": [
    "# Affine layer: foward\n",
    "Open the file `cs231n/layers.py` and implement the `affine_forward` function.\n",
    "\n",
    "Once you are done you can test your implementaion by running the following:"
   ]
  },
  {
   "cell_type": "code",
   "execution_count": 3,
   "metadata": {
    "collapsed": false,
    "editable": true,
    "deletable": true
   },
   "outputs": [
    {
     "name": "stdout",
     "output_type": "stream",
     "text": [
      "Testing affine_forward function:\ndifference:  9.76984772881e-10\n"
     ]
    }
   ],
   "source": [
    "# Test the affine_forward function\n",
    "\n",
    "num_inputs = 2\n",
    "input_shape = (4, 5, 6)\n",
    "output_dim = 3\n",
    "\n",
    "input_size = num_inputs * np.prod(input_shape)\n",
    "weight_size = output_dim * np.prod(input_shape)\n",
    "\n",
    "x = np.linspace(-0.1, 0.5, num=input_size).reshape(num_inputs, *input_shape)\n",
    "w = np.linspace(-0.2, 0.3, num=weight_size).reshape(np.prod(input_shape), output_dim)\n",
    "b = np.linspace(-0.3, 0.1, num=output_dim)\n",
    "\n",
    "out, _ = affine_forward(x, w, b)\n",
    "correct_out = np.array([[ 1.49834967,  1.70660132,  1.91485297],\n",
    "                        [ 3.25553199,  3.5141327,   3.77273342]])\n",
    "\n",
    "# Compare your output with ours. The error should be around 1e-9.\n",
    "print('Testing affine_forward function:')\n",
    "print('difference: ', rel_error(out, correct_out))"
   ]
  },
  {
   "cell_type": "markdown",
   "metadata": {
    "editable": true,
    "deletable": true
   },
   "source": [
    "# Affine layer: backward\n",
    "Now implement the `affine_backward` function and test your implementation using numeric gradient checking."
   ]
  },
  {
   "cell_type": "code",
   "execution_count": 4,
   "metadata": {
    "collapsed": false,
    "editable": true,
    "deletable": true
   },
   "outputs": [
    {
     "name": "stdout",
     "output_type": "stream",
     "text": [
      "Testing affine_backward function:\ndx error:  5.39910036865e-11\ndw error:  9.9042118654e-11\ndb error:  2.41228675681e-11\n"
     ]
    }
   ],
   "source": [
    "# Test the affine_backward function\n",
    "np.random.seed(231)\n",
    "x = np.random.randn(10, 2, 3)\n",
    "w = np.random.randn(6, 5)\n",
    "b = np.random.randn(5)\n",
    "dout = np.random.randn(10, 5)\n",
    "\n",
    "dx_num = eval_numerical_gradient_array(lambda x: affine_forward(x, w, b)[0], x, dout)\n",
    "dw_num = eval_numerical_gradient_array(lambda w: affine_forward(x, w, b)[0], w, dout)\n",
    "db_num = eval_numerical_gradient_array(lambda b: affine_forward(x, w, b)[0], b, dout)\n",
    "\n",
    "_, cache = affine_forward(x, w, b)\n",
    "dx, dw, db = affine_backward(dout, cache)\n",
    "\n",
    "# The error should be around 1e-10\n",
    "print('Testing affine_backward function:')\n",
    "print('dx error: ', rel_error(dx_num, dx))\n",
    "print('dw error: ', rel_error(dw_num, dw))\n",
    "print('db error: ', rel_error(db_num, db))"
   ]
  },
  {
   "cell_type": "markdown",
   "metadata": {
    "editable": true,
    "deletable": true
   },
   "source": [
    "# ReLU layer: forward\n",
    "Implement the forward pass for the ReLU activation function in the `relu_forward` function and test your implementation using the following:"
   ]
  },
  {
   "cell_type": "code",
   "execution_count": 5,
   "metadata": {
    "collapsed": false,
    "editable": true,
    "deletable": true
   },
   "outputs": [
    {
     "name": "stdout",
     "output_type": "stream",
     "text": [
      "Testing relu_forward function:\ndifference:  4.99999979802e-08\n"
     ]
    }
   ],
   "source": [
    "# Test the relu_forward function\n",
    "\n",
    "x = np.linspace(-0.5, 0.5, num=12).reshape(3, 4)\n",
    "\n",
    "out, _ = relu_forward(x)\n",
    "correct_out = np.array([[ 0.,          0.,          0.,          0.,        ],\n",
    "                        [ 0.,          0.,          0.04545455,  0.13636364,],\n",
    "                        [ 0.22727273,  0.31818182,  0.40909091,  0.5,       ]])\n",
    "\n",
    "# Compare your output with ours. The error should be around 5e-8\n",
    "print('Testing relu_forward function:')\n",
    "print('difference: ', rel_error(out, correct_out))"
   ]
  },
  {
   "cell_type": "markdown",
   "metadata": {
    "editable": true,
    "deletable": true
   },
   "source": [
    "# ReLU layer: backward\n",
    "Now implement the backward pass for the ReLU activation function in the `relu_backward` function and test your implementation using numeric gradient checking:"
   ]
  },
  {
   "cell_type": "code",
   "execution_count": 6,
   "metadata": {
    "collapsed": false,
    "editable": true,
    "deletable": true
   },
   "outputs": [
    {
     "name": "stdout",
     "output_type": "stream",
     "text": [
      "Testing relu_backward function:\ndx error:  3.27563491363e-12\n"
     ]
    }
   ],
   "source": [
    "np.random.seed(231)\n",
    "x = np.random.randn(10, 10)\n",
    "dout = np.random.randn(*x.shape)\n",
    "\n",
    "dx_num = eval_numerical_gradient_array(lambda x: relu_forward(x)[0], x, dout)\n",
    "\n",
    "_, cache = relu_forward(x)\n",
    "dx = relu_backward(dout, cache)\n",
    "\n",
    "# The error should be around 3e-12\n",
    "print('Testing relu_backward function:')\n",
    "print('dx error: ', rel_error(dx_num, dx))"
   ]
  },
  {
   "cell_type": "markdown",
   "metadata": {
    "editable": true,
    "deletable": true
   },
   "source": [
    "# \"Sandwich\" layers\n",
    "There are some common patterns of layers that are frequently used in neural nets. For example, affine layers are frequently followed by a ReLU nonlinearity. To make these common patterns easy, we define several convenience layers in the file `cs231n/layer_utils.py`.\n",
    "\n",
    "For now take a look at the `affine_relu_forward` and `affine_relu_backward` functions, and run the following to numerically gradient check the backward pass:"
   ]
  },
  {
   "cell_type": "code",
   "execution_count": 7,
   "metadata": {
    "collapsed": false,
    "editable": true,
    "deletable": true
   },
   "outputs": [
    {
     "name": "stdout",
     "output_type": "stream",
     "text": [
      "Testing affine_relu_forward:\ndx error:  6.7505621216e-11\ndw error:  8.16201557044e-11\ndb error:  7.82672402146e-12\n"
     ]
    }
   ],
   "source": [
    "from cs231n.layer_utils import affine_relu_forward, affine_relu_backward\n",
    "np.random.seed(231)\n",
    "x = np.random.randn(2, 3, 4)\n",
    "w = np.random.randn(12, 10)\n",
    "b = np.random.randn(10)\n",
    "dout = np.random.randn(2, 10)\n",
    "\n",
    "out, cache = affine_relu_forward(x, w, b)\n",
    "dx, dw, db = affine_relu_backward(dout, cache)\n",
    "\n",
    "dx_num = eval_numerical_gradient_array(lambda x: affine_relu_forward(x, w, b)[0], x, dout)\n",
    "dw_num = eval_numerical_gradient_array(lambda w: affine_relu_forward(x, w, b)[0], w, dout)\n",
    "db_num = eval_numerical_gradient_array(lambda b: affine_relu_forward(x, w, b)[0], b, dout)\n",
    "\n",
    "print('Testing affine_relu_forward:')\n",
    "print('dx error: ', rel_error(dx_num, dx))\n",
    "print('dw error: ', rel_error(dw_num, dw))\n",
    "print('db error: ', rel_error(db_num, db))"
   ]
  },
  {
   "cell_type": "markdown",
   "metadata": {
    "editable": true,
    "deletable": true
   },
   "source": [
    "# Loss layers: Softmax and SVM\n",
    "You implemented these loss functions in the last assignment, so we'll give them to you for free here. You should still make sure you understand how they work by looking at the implementations in `cs231n/layers.py`.\n",
    "\n",
    "You can make sure that the implementations are correct by running the following:"
   ]
  },
  {
   "cell_type": "code",
   "execution_count": 8,
   "metadata": {
    "collapsed": false,
    "editable": true,
    "deletable": true
   },
   "outputs": [
    {
     "name": "stdout",
     "output_type": "stream",
     "text": [
      "Testing svm_loss:\nloss:  8.9996027491\ndx error:  1.40215660067e-09\n\nTesting softmax_loss:\nloss:  2.3025458445\ndx error:  9.38467316199e-09\n"
     ]
    }
   ],
   "source": [
    "np.random.seed(231)\n",
    "num_classes, num_inputs = 10, 50\n",
    "x = 0.001 * np.random.randn(num_inputs, num_classes)\n",
    "y = np.random.randint(num_classes, size=num_inputs)\n",
    "\n",
    "dx_num = eval_numerical_gradient(lambda x: svm_loss(x, y)[0], x, verbose=False)\n",
    "loss, dx = svm_loss(x, y)\n",
    "\n",
    "# Test svm_loss function. Loss should be around 9 and dx error should be 1e-9\n",
    "print('Testing svm_loss:')\n",
    "print('loss: ', loss)\n",
    "print('dx error: ', rel_error(dx_num, dx))\n",
    "\n",
    "dx_num = eval_numerical_gradient(lambda x: softmax_loss(x, y)[0], x, verbose=False)\n",
    "loss, dx = softmax_loss(x, y)\n",
    "\n",
    "# Test softmax_loss function. Loss should be 2.3 and dx error should be 1e-8\n",
    "print('\\nTesting softmax_loss:')\n",
    "print('loss: ', loss)\n",
    "print('dx error: ', rel_error(dx_num, dx))"
   ]
  },
  {
   "cell_type": "markdown",
   "metadata": {
    "editable": true,
    "deletable": true
   },
   "source": [
    "# Two-layer network\n",
    "In the previous assignment you implemented a two-layer neural network in a single monolithic class. Now that you have implemented modular versions of the necessary layers, you will reimplement the two layer network using these modular implementations.\n",
    "\n",
    "Open the file `cs231n/classifiers/fc_net.py` and complete the implementation of the `TwoLayerNet` class. This class will serve as a model for the other networks you will implement in this assignment, so read through it to make sure you understand the API. You can run the cell below to test your implementation."
   ]
  },
  {
   "cell_type": "code",
   "execution_count": 9,
   "metadata": {
    "collapsed": false,
    "editable": true,
    "deletable": true
   },
   "outputs": [
    {
     "name": "stdout",
     "output_type": "stream",
     "text": [
      "Testing initialization ... \nTesting test-time forward pass ... \nTesting training loss (no regularization)\nRunning numeric gradient check with reg =  0.0\nW1 relative error: 1.22e-08\nW2 relative error: 3.48e-10\nb1 relative error: 6.55e-09\nb2 relative error: 4.33e-10\nRunning numeric gradient check with reg =  0.7\nW1 relative error: 8.18e-07\n"
     ]
    },
    {
     "name": "stdout",
     "output_type": "stream",
     "text": [
      "W2 relative error: 2.85e-08\nb1 relative error: 1.09e-09\nb2 relative error: 7.76e-10\n"
     ]
    }
   ],
   "source": [
    "np.random.seed(231)\n",
    "N, D, H, C = 3, 5, 50, 7\n",
    "X = np.random.randn(N, D)\n",
    "y = np.random.randint(C, size=N)\n",
    "\n",
    "std = 1e-3\n",
    "model = TwoLayerNet(input_dim=D, hidden_dim=H, num_classes=C, weight_scale=std)\n",
    "\n",
    "print('Testing initialization ... ')\n",
    "W1_std = abs(model.params['W1'].std() - std)\n",
    "b1 = model.params['b1']\n",
    "W2_std = abs(model.params['W2'].std() - std)\n",
    "b2 = model.params['b2']\n",
    "assert W1_std < std / 10, 'First layer weights do not seem right'\n",
    "assert np.all(b1 == 0), 'First layer biases do not seem right'\n",
    "assert W2_std < std / 10, 'Second layer weights do not seem right'\n",
    "assert np.all(b2 == 0), 'Second layer biases do not seem right'\n",
    "\n",
    "print('Testing test-time forward pass ... ')\n",
    "model.params['W1'] = np.linspace(-0.7, 0.3, num=D*H).reshape(D, H)\n",
    "model.params['b1'] = np.linspace(-0.1, 0.9, num=H)\n",
    "model.params['W2'] = np.linspace(-0.3, 0.4, num=H*C).reshape(H, C)\n",
    "model.params['b2'] = np.linspace(-0.9, 0.1, num=C)\n",
    "X = np.linspace(-5.5, 4.5, num=N*D).reshape(D, N).T\n",
    "scores = model.loss(X)\n",
    "correct_scores = np.asarray(\n",
    "  [[11.53165108,  12.2917344,   13.05181771,  13.81190102,  14.57198434, 15.33206765,  16.09215096],\n",
    "   [12.05769098,  12.74614105,  13.43459113,  14.1230412,   14.81149128, 15.49994135,  16.18839143],\n",
    "   [12.58373087,  13.20054771,  13.81736455,  14.43418138,  15.05099822, 15.66781506,  16.2846319 ]])\n",
    "scores_diff = np.abs(scores - correct_scores).sum()\n",
    "assert scores_diff < 1e-6, 'Problem with test-time forward pass'\n",
    "\n",
    "print('Testing training loss (no regularization)')\n",
    "y = np.asarray([0, 5, 1])\n",
    "loss, grads = model.loss(X, y)\n",
    "correct_loss = 3.4702243556\n",
    "assert abs(loss - correct_loss) < 1e-10, 'Problem with training-time loss'\n",
    "\n",
    "model.reg = 1.0\n",
    "loss, grads = model.loss(X, y)\n",
    "correct_loss = 26.5948426952\n",
    "assert abs(loss - correct_loss) < 1e-10, 'Problem with regularization loss'\n",
    "\n",
    "for reg in [0.0, 0.7]:\n",
    "  print('Running numeric gradient check with reg = ', reg)\n",
    "  model.reg = reg\n",
    "  loss, grads = model.loss(X, y)\n",
    "\n",
    "  for name in sorted(grads):\n",
    "    f = lambda _: model.loss(X, y)[0]\n",
    "    grad_num = eval_numerical_gradient(f, model.params[name], verbose=False)\n",
    "    print('%s relative error: %.2e' % (name, rel_error(grad_num, grads[name])))"
   ]
  },
  {
   "cell_type": "markdown",
   "metadata": {
    "editable": true,
    "deletable": true
   },
   "source": [
    "# Solver\n",
    "In the previous assignment, the logic for training models was coupled to the models themselves. Following a more modular design, for this assignment we have split the logic for training models into a separate class.\n",
    "\n",
    "Open the file `cs231n/solver.py` and read through it to familiarize yourself with the API. After doing so, use a `Solver` instance to train a `TwoLayerNet` that achieves at least `50%` accuracy on the validation set."
   ]
  },
  {
   "cell_type": "code",
   "execution_count": 11,
   "metadata": {
    "collapsed": false,
    "editable": true,
    "deletable": true
   },
   "outputs": [
    {
     "name": "stdout",
     "output_type": "stream",
     "text": [
      "(Iteration 1 / 4900) loss: 2.305576\n(Epoch 0 / 10) train acc: 0.136000; val_acc: 0.127000\n"
     ]
    },
    {
     "name": "stdout",
     "output_type": "stream",
     "text": [
      "(Iteration 101 / 4900) loss: 1.795037\n"
     ]
    },
    {
     "name": "stdout",
     "output_type": "stream",
     "text": [
      "(Iteration 201 / 4900) loss: 1.711561\n"
     ]
    },
    {
     "name": "stdout",
     "output_type": "stream",
     "text": [
      "(Iteration 301 / 4900) loss: 1.674596\n"
     ]
    },
    {
     "name": "stdout",
     "output_type": "stream",
     "text": [
      "(Iteration 401 / 4900) loss: 1.512337\n"
     ]
    },
    {
     "name": "stdout",
     "output_type": "stream",
     "text": [
      "(Epoch 1 / 10) train acc: 0.448000; val_acc: 0.444000\n(Iteration 501 / 4900) loss: 1.481347\n"
     ]
    },
    {
     "name": "stdout",
     "output_type": "stream",
     "text": [
      "(Iteration 601 / 4900) loss: 1.541234\n"
     ]
    },
    {
     "name": "stdout",
     "output_type": "stream",
     "text": [
      "(Iteration 701 / 4900) loss: 1.608913\n"
     ]
    },
    {
     "name": "stdout",
     "output_type": "stream",
     "text": [
      "(Iteration 801 / 4900) loss: 1.539508\n"
     ]
    },
    {
     "name": "stdout",
     "output_type": "stream",
     "text": [
      "(Iteration 901 / 4900) loss: 1.614009\n"
     ]
    },
    {
     "name": "stdout",
     "output_type": "stream",
     "text": [
      "(Epoch 2 / 10) train acc: 0.509000; val_acc: 0.462000\n(Iteration 1001 / 4900) loss: 1.550415\n"
     ]
    },
    {
     "name": "stdout",
     "output_type": "stream",
     "text": [
      "(Iteration 1101 / 4900) loss: 1.368579\n"
     ]
    },
    {
     "name": "stdout",
     "output_type": "stream",
     "text": [
      "(Iteration 1201 / 4900) loss: 1.338828\n"
     ]
    },
    {
     "name": "stdout",
     "output_type": "stream",
     "text": [
      "(Iteration 1301 / 4900) loss: 1.136158\n"
     ]
    },
    {
     "name": "stdout",
     "output_type": "stream",
     "text": [
      "(Iteration 1401 / 4900) loss: 1.547424\n"
     ]
    },
    {
     "name": "stdout",
     "output_type": "stream",
     "text": [
      "(Epoch 3 / 10) train acc: 0.518000; val_acc: 0.489000\n(Iteration 1501 / 4900) loss: 1.497478\n"
     ]
    },
    {
     "name": "stdout",
     "output_type": "stream",
     "text": [
      "(Iteration 1601 / 4900) loss: 1.137964\n"
     ]
    },
    {
     "name": "stdout",
     "output_type": "stream",
     "text": [
      "(Iteration 1701 / 4900) loss: 1.219103\n"
     ]
    },
    {
     "name": "stdout",
     "output_type": "stream",
     "text": [
      "(Iteration 1801 / 4900) loss: 1.314287\n"
     ]
    },
    {
     "name": "stdout",
     "output_type": "stream",
     "text": [
      "(Iteration 1901 / 4900) loss: 1.528844\n"
     ]
    },
    {
     "name": "stdout",
     "output_type": "stream",
     "text": [
      "(Epoch 4 / 10) train acc: 0.549000; val_acc: 0.489000\n"
     ]
    },
    {
     "name": "stdout",
     "output_type": "stream",
     "text": [
      "(Iteration 2001 / 4900) loss: 1.382705\n"
     ]
    },
    {
     "name": "stdout",
     "output_type": "stream",
     "text": [
      "(Iteration 2101 / 4900) loss: 1.179629\n"
     ]
    },
    {
     "name": "stdout",
     "output_type": "stream",
     "text": [
      "(Iteration 2201 / 4900) loss: 1.328524\n"
     ]
    },
    {
     "name": "stdout",
     "output_type": "stream",
     "text": [
      "(Iteration 2301 / 4900) loss: 1.199370\n"
     ]
    },
    {
     "name": "stdout",
     "output_type": "stream",
     "text": [
      "(Iteration 2401 / 4900) loss: 1.351430\n"
     ]
    },
    {
     "name": "stdout",
     "output_type": "stream",
     "text": [
      "(Epoch 5 / 10) train acc: 0.551000; val_acc: 0.493000\n"
     ]
    },
    {
     "name": "stdout",
     "output_type": "stream",
     "text": [
      "(Iteration 2501 / 4900) loss: 1.294701\n"
     ]
    },
    {
     "name": "stdout",
     "output_type": "stream",
     "text": [
      "(Iteration 2601 / 4900) loss: 1.258752\n"
     ]
    },
    {
     "name": "stdout",
     "output_type": "stream",
     "text": [
      "(Iteration 2701 / 4900) loss: 1.390316\n"
     ]
    },
    {
     "name": "stdout",
     "output_type": "stream",
     "text": [
      "(Iteration 2801 / 4900) loss: 1.321100\n"
     ]
    },
    {
     "name": "stdout",
     "output_type": "stream",
     "text": [
      "(Iteration 2901 / 4900) loss: 1.407241\n"
     ]
    },
    {
     "name": "stdout",
     "output_type": "stream",
     "text": [
      "(Epoch 6 / 10) train acc: 0.563000; val_acc: 0.517000\n"
     ]
    },
    {
     "name": "stdout",
     "output_type": "stream",
     "text": [
      "(Iteration 3001 / 4900) loss: 1.165954\n"
     ]
    },
    {
     "name": "stdout",
     "output_type": "stream",
     "text": [
      "(Iteration 3101 / 4900) loss: 1.093686\n"
     ]
    },
    {
     "name": "stdout",
     "output_type": "stream",
     "text": [
      "(Iteration 3201 / 4900) loss: 1.174376\n"
     ]
    },
    {
     "name": "stdout",
     "output_type": "stream",
     "text": [
      "(Iteration 3301 / 4900) loss: 1.264013\n"
     ]
    },
    {
     "name": "stdout",
     "output_type": "stream",
     "text": [
      "(Iteration 3401 / 4900) loss: 1.291213\n(Epoch 7 / 10) train acc: 0.535000; val_acc: 0.482000\n"
     ]
    },
    {
     "name": "stdout",
     "output_type": "stream",
     "text": [
      "(Iteration 3501 / 4900) loss: 1.188728\n"
     ]
    },
    {
     "name": "stdout",
     "output_type": "stream",
     "text": [
      "(Iteration 3601 / 4900) loss: 1.272947\n"
     ]
    },
    {
     "name": "stdout",
     "output_type": "stream",
     "text": [
      "(Iteration 3701 / 4900) loss: 1.177698\n"
     ]
    },
    {
     "name": "stdout",
     "output_type": "stream",
     "text": [
      "(Iteration 3801 / 4900) loss: 1.146585\n"
     ]
    },
    {
     "name": "stdout",
     "output_type": "stream",
     "text": [
      "(Iteration 3901 / 4900) loss: 1.405458\n(Epoch 8 / 10) train acc: 0.569000; val_acc: 0.521000\n"
     ]
    },
    {
     "name": "stdout",
     "output_type": "stream",
     "text": [
      "(Iteration 4001 / 4900) loss: 1.155674\n"
     ]
    },
    {
     "name": "stdout",
     "output_type": "stream",
     "text": [
      "(Iteration 4101 / 4900) loss: 1.239463\n"
     ]
    },
    {
     "name": "stdout",
     "output_type": "stream",
     "text": [
      "(Iteration 4201 / 4900) loss: 1.141900\n"
     ]
    },
    {
     "name": "stdout",
     "output_type": "stream",
     "text": [
      "(Iteration 4301 / 4900) loss: 1.223427\n"
     ]
    },
    {
     "name": "stdout",
     "output_type": "stream",
     "text": [
      "(Iteration 4401 / 4900) loss: 1.062731\n(Epoch 9 / 10) train acc: 0.583000; val_acc: 0.508000\n"
     ]
    },
    {
     "name": "stdout",
     "output_type": "stream",
     "text": [
      "(Iteration 4501 / 4900) loss: 1.151657\n"
     ]
    },
    {
     "name": "stdout",
     "output_type": "stream",
     "text": [
      "(Iteration 4601 / 4900) loss: 1.148436\n"
     ]
    },
    {
     "name": "stdout",
     "output_type": "stream",
     "text": [
      "(Iteration 4701 / 4900) loss: 1.106472\n"
     ]
    },
    {
     "name": "stdout",
     "output_type": "stream",
     "text": [
      "(Iteration 4801 / 4900) loss: 1.082742\n"
     ]
    },
    {
     "name": "stdout",
     "output_type": "stream",
     "text": [
      "(Epoch 10 / 10) train acc: 0.597000; val_acc: 0.523000\n"
     ]
    }
   ],
   "source": [
    "model = TwoLayerNet()\n",
    "solver = None\n",
    "\n",
    "##############################################################################\n",
    "# TODO: Use a Solver instance to train a TwoLayerNet that achieves at least  #\n",
    "# 50% accuracy on the validation set.                                        #\n",
    "##############################################################################\n",
    "solver = Solver(model, data,\n",
    "                    update_rule='sgd',\n",
    "                    optim_config={\n",
    "                    'learning_rate': 1e-3,\n",
    "                    },\n",
    "                    lr_decay=0.95,\n",
    "                    num_epochs=10, batch_size=100,\n",
    "                    print_every=100)\n",
    "solver.train()\n",
    "##############################################################################\n",
    "#                             END OF YOUR CODE                               #\n",
    "##############################################################################"
   ]
  },
  {
   "cell_type": "code",
   "execution_count": 12,
   "metadata": {
    "collapsed": false,
    "editable": true,
    "deletable": true
   },
   "outputs": [
    {
     "data": {
      "image/png": "[encoded data removed]",
      "text/plain": [
       "<matplotlib.figure.Figure at 0x7f39399955c0>"
      ]
     },
     "metadata": {},
     "output_type": "display_data"
    }
   ],
   "source": [
    "# Run this cell to visualize training loss and train / val accuracy\n",
    "\n",
    "plt.subplot(2, 1, 1)\n",
    "plt.title('Training loss')\n",
    "plt.plot(solver.loss_history, 'o')\n",
    "plt.xlabel('Iteration')\n",
    "\n",
    "plt.subplot(2, 1, 2)\n",
    "plt.title('Accuracy')\n",
    "plt.plot(solver.train_acc_history, '-o', label='train')\n",
    "plt.plot(solver.val_acc_history, '-o', label='val')\n",
    "plt.plot([0.5] * len(solver.val_acc_history), 'k--')\n",
    "plt.xlabel('Epoch')\n",
    "plt.legend(loc='lower right')\n",
    "plt.gcf().set_size_inches(15, 12)\n",
    "plt.show()"
   ]
  },
  {
   "cell_type": "markdown",
   "metadata": {
    "editable": true,
    "deletable": true
   },
   "source": [
    "# Multilayer network\n",
    "Next you will implement a fully-connected network with an arbitrary number of hidden layers.\n",
    "\n",
    "Read through the `FullyConnectedNet` class in the file `cs231n/classifiers/fc_net.py`.\n",
    "\n",
    "Implement the initialization, the forward pass, and the backward pass. For the moment don't worry about implementing dropout or batch normalization; we will add those features soon."
   ]
  },
  {
   "cell_type": "markdown",
   "metadata": {
    "editable": true,
    "deletable": true
   },
   "source": [
    "## Initial loss and gradient check"
   ]
  },
  {
   "cell_type": "markdown",
   "metadata": {
    "editable": true,
    "deletable": true
   },
   "source": [
    "As a sanity check, run the following to check the initial loss and to gradient check the network both with and without regularization. Do the initial losses seem reasonable?\n",
    "\n",
    "For gradient checking, you should expect to see errors around 1e-6 or less."
   ]
  },
  {
   "cell_type": "code",
   "execution_count": 20,
   "metadata": {
    "collapsed": false,
    "editable": true,
    "deletable": true
   },
   "outputs": [
    {
     "name": "stdout",
     "output_type": "stream",
     "text": [
      "Running check with reg =  0\nInitial loss:  2.30047908977\nW1 relative error: 1.48e-07\n"
     ]
    },
    {
     "name": "stdout",
     "output_type": "stream",
     "text": [
      "W2 relative error: 2.21e-05\nW3 relative error: 3.53e-07\nb1 relative error: 5.38e-09\nb2 relative error: 2.09e-09\nb3 relative error: 5.80e-11\nRunning check with reg =  3.14\nInitial loss:  7.05211477653\nW1 relative error: 7.36e-09\n"
     ]
    },
    {
     "name": "stdout",
     "output_type": "stream",
     "text": [
      "W2 relative error: 6.87e-08\nW3 relative error: 3.48e-08\nb1 relative error: 1.48e-08\nb2 relative error: 1.72e-09\nb3 relative error: 1.80e-10\n"
     ]
    }
   ],
   "source": [
    "np.random.seed(231)\n",
    "N, D, H1, H2, C = 2, 15, 20, 30, 10\n",
    "X = np.random.randn(N, D)\n",
    "y = np.random.randint(C, size=(N,))\n",
    "\n",
    "for reg in [0, 3.14]:\n",
    "  print('Running check with reg = ', reg)\n",
    "  model = FullyConnectedNet([H1, H2], input_dim=D, num_classes=C,\n",
    "                            reg=reg, weight_scale=5e-2, dtype=np.float64)\n",
    "\n",
    "  loss, grads = model.loss(X, y)\n",
    "  print('Initial loss: ', loss)\n",
    "\n",
    "  for name in sorted(grads):\n",
    "    f = lambda _: model.loss(X, y)[0]\n",
    "    grad_num = eval_numerical_gradient(f, model.params[name], verbose=False, h=1e-5)\n",
    "    print('%s relative error: %.2e' % (name, rel_error(grad_num, grads[name])))"
   ]
  },
  {
   "cell_type": "markdown",
   "metadata": {
    "editable": true,
    "deletable": true
   },
   "source": [
    "As another sanity check, make sure you can overfit a small dataset of 50 images. First we will try a three-layer network with 100 units in each hidden layer. You will need to tweak the learning rate and initialization scale, but you should be able to overfit and achieve 100% training accuracy within 20 epochs."
   ]
  },
  {
   "cell_type": "code",
   "execution_count": 22,
   "metadata": {
    "scrolled": false,
    "collapsed": false,
    "editable": true,
    "deletable": true
   },
   "outputs": [
    {
     "name": "stdout",
     "output_type": "stream",
     "text": [
      "(Iteration 1 / 40) loss: 2.375113\n(Epoch 0 / 20) train acc: 0.080000; val_acc: 0.088000\n(Epoch 1 / 20) train acc: 0.080000; val_acc: 0.085000\n(Epoch 2 / 20) train acc: 0.080000; val_acc: 0.087000\n"
     ]
    },
    {
     "name": "stdout",
     "output_type": "stream",
     "text": [
      "(Epoch 3 / 20) train acc: 0.080000; val_acc: 0.087000\n(Epoch 4 / 20) train acc: 0.080000; val_acc: 0.090000\n"
     ]
    },
    {
     "name": "stdout",
     "output_type": "stream",
     "text": [
      "(Epoch 5 / 20) train acc: 0.080000; val_acc: 0.090000\n(Iteration 11 / 40) loss: 2.339867\n(Epoch 6 / 20) train acc: 0.080000; val_acc: 0.092000\n(Epoch 7 / 20) train acc: 0.080000; val_acc: 0.090000\n"
     ]
    },
    {
     "name": "stdout",
     "output_type": "stream",
     "text": [
      "(Epoch 8 / 20) train acc: 0.080000; val_acc: 0.092000\n(Epoch 9 / 20) train acc: 0.100000; val_acc: 0.091000\n(Epoch 10 / 20) train acc: 0.100000; val_acc: 0.091000\n(Iteration 21 / 40) loss: 2.297447\n"
     ]
    },
    {
     "name": "stdout",
     "output_type": "stream",
     "text": [
      "(Epoch 11 / 20) train acc: 0.100000; val_acc: 0.091000\n(Epoch 12 / 20) train acc: 0.100000; val_acc: 0.091000\n(Epoch 13 / 20) train acc: 0.100000; val_acc: 0.090000\n"
     ]
    },
    {
     "name": "stdout",
     "output_type": "stream",
     "text": [
      "(Epoch 14 / 20) train acc: 0.120000; val_acc: 0.090000\n(Epoch 15 / 20) train acc: 0.120000; val_acc: 0.088000\n(Iteration 31 / 40) loss: 2.317217\n(Epoch 16 / 20) train acc: 0.140000; val_acc: 0.091000\n"
     ]
    },
    {
     "name": "stdout",
     "output_type": "stream",
     "text": [
      "(Epoch 17 / 20) train acc: 0.140000; val_acc: 0.089000\n(Epoch 18 / 20) train acc: 0.140000; val_acc: 0.093000\n(Epoch 19 / 20) train acc: 0.120000; val_acc: 0.094000\n(Epoch 20 / 20) train acc: 0.160000; val_acc: 0.094000\n"
     ]
    },
    {
     "data": {
      "image/png": "[encoded data removed]",
      "text/plain": [
       "<matplotlib.figure.Figure at 0x7f3938003198>"
      ]
     },
     "metadata": {},
     "output_type": "display_data"
    }
   ],
   "source": [
    "# TODO: Use a three-layer Net to overfit 50 training examples.\n",
    "\n",
    "num_train = 50\n",
    "small_data = {\n",
    "  'X_train': data['X_train'][:num_train],\n",
    "  'y_train': data['y_train'][:num_train],\n",
    "  'X_val': data['X_val'],\n",
    "  'y_val': data['y_val'],\n",
    "}\n",
    "\n",
    "weight_scale = 1e-2\n",
    "learning_rate = 1e-4\n",
    "model = FullyConnectedNet([100, 100],\n",
    "              weight_scale=weight_scale, dtype=np.float64)\n",
    "solver = Solver(model, small_data,\n",
    "                print_every=10, num_epochs=20, batch_size=25,\n",
    "                update_rule='sgd',\n",
    "                optim_config={\n",
    "                  'learning_rate': learning_rate,\n",
    "                }\n",
    "         )\n",
    "solver.train()\n",
    "\n",
    "plt.plot(solver.loss_history, 'o')\n",
    "plt.title('Training loss history')\n",
    "plt.xlabel('Iteration')\n",
    "plt.ylabel('Training loss')\n",
    "plt.show()"
   ]
  },
  {
   "cell_type": "markdown",
   "metadata": {
    "editable": true,
    "deletable": true
   },
   "source": [
    "Now try to use a five-layer network with 100 units on each layer to overfit 50 training examples. Again you will have to adjust the learning rate and weight initialization, but you should be able to achieve 100% training accuracy within 20 epochs."
   ]
  },
  {
   "cell_type": "code",
   "execution_count": 23,
   "metadata": {
    "collapsed": false,
    "editable": true,
    "deletable": true
   },
   "outputs": [
    {
     "name": "stdout",
     "output_type": "stream",
     "text": [
      "(Iteration 1 / 40) loss: 2.302585\n(Epoch 0 / 20) train acc: 0.160000; val_acc: 0.079000\n(Epoch 1 / 20) train acc: 0.160000; val_acc: 0.112000\n(Epoch 2 / 20) train acc: 0.160000; val_acc: 0.112000\n(Epoch 3 / 20) train acc: 0.160000; val_acc: 0.112000\n(Epoch 4 / 20) train acc: 0.160000; val_acc: 0.112000\n(Epoch 5 / 20) train acc: 0.160000; val_acc: 0.079000\n(Iteration 11 / 40) loss: 2.302377\n(Epoch 6 / 20) train acc: 0.160000; val_acc: 0.079000\n(Epoch 7 / 20) train acc: 0.160000; val_acc: 0.079000\n(Epoch 8 / 20) train acc: 0.160000; val_acc: 0.079000\n"
     ]
    },
    {
     "name": "stdout",
     "output_type": "stream",
     "text": [
      "(Epoch 9 / 20) train acc: 0.160000; val_acc: 0.079000\n(Epoch 10 / 20) train acc: 0.160000; val_acc: 0.079000\n(Iteration 21 / 40) loss: 2.302303\n(Epoch 11 / 20) train acc: 0.160000; val_acc: 0.079000\n(Epoch 12 / 20) train acc: 0.160000; val_acc: 0.079000\n"
     ]
    },
    {
     "name": "stdout",
     "output_type": "stream",
     "text": [
      "(Epoch 13 / 20) train acc: 0.160000; val_acc: 0.079000\n(Epoch 14 / 20) train acc: 0.160000; val_acc: 0.079000\n(Epoch 15 / 20) train acc: 0.160000; val_acc: 0.079000\n(Iteration 31 / 40) loss: 2.301811\n(Epoch 16 / 20) train acc: 0.160000; val_acc: 0.079000\n"
     ]
    },
    {
     "name": "stdout",
     "output_type": "stream",
     "text": [
      "(Epoch 17 / 20) train acc: 0.160000; val_acc: 0.079000\n(Epoch 18 / 20) train acc: 0.160000; val_acc: 0.079000\n"
     ]
    },
    {
     "name": "stdout",
     "output_type": "stream",
     "text": [
      "(Epoch 19 / 20) train acc: 0.160000; val_acc: 0.112000\n(Epoch 20 / 20) train acc: 0.160000; val_acc: 0.112000\n"
     ]
    },
    {
     "data": {
      "image/png": "[encoded data removed]",
      "text/plain": [
       "<matplotlib.figure.Figure at 0x7f3937fc3048>"
      ]
     },
     "metadata": {},
     "output_type": "display_data"
    }
   ],
   "source": [
    "# TODO: Use a five-layer Net to overfit 50 training examples.\n",
    "\n",
    "num_train = 50\n",
    "small_data = {\n",
    "  'X_train': data['X_train'][:num_train],\n",
    "  'y_train': data['y_train'][:num_train],\n",
    "  'X_val': data['X_val'],\n",
    "  'y_val': data['y_val'],\n",
    "}\n",
    "\n",
    "learning_rate = 1e-3\n",
    "weight_scale = 1e-5\n",
    "model = FullyConnectedNet([100, 100, 100, 100],\n",
    "                weight_scale=weight_scale, dtype=np.float64)\n",
    "solver = Solver(model, small_data,\n",
    "                print_every=10, num_epochs=20, batch_size=25,\n",
    "                update_rule='sgd',\n",
    "                optim_config={\n",
    "                  'learning_rate': learning_rate,\n",
    "                }\n",
    "         )\n",
    "solver.train()\n",
    "\n",
    "plt.plot(solver.loss_history, 'o')\n",
    "plt.title('Training loss history')\n",
    "plt.xlabel('Iteration')\n",
    "plt.ylabel('Training loss')\n",
    "plt.show()"
   ]
  },
  {
   "cell_type": "markdown",
   "metadata": {
    "editable": true,
    "deletable": true
   },
   "source": [
    "# Inline question: \n",
    "Did you notice anything about the comparative difficulty of training the three-layer net vs training the five layer net?\n",
    "\n",
    "# Answer:\n",
    "[FILL THIS IN]\n"
   ]
  },
  {
   "cell_type": "markdown",
   "metadata": {
    "editable": true,
    "deletable": true
   },
   "source": [
    "# Update rules\n",
    "So far we have used vanilla stochastic gradient descent (SGD) as our update rule. More sophisticated update rules can make it easier to train deep networks. We will implement a few of the most commonly used update rules and compare them to vanilla SGD."
   ]
  },
  {
   "cell_type": "markdown",
   "metadata": {
    "editable": true,
    "deletable": true
   },
   "source": [
    "# SGD+Momentum\n",
    "Stochastic gradient descent with momentum is a widely used update rule that tends to make deep networks converge faster than vanilla stochstic gradient descent.\n",
    "\n",
    "Open the file `cs231n/optim.py` and read the documentation at the top of the file to make sure you understand the API. Implement the SGD+momentum update rule in the function `sgd_momentum` and run the following to check your implementation. You should see errors less than 1e-8."
   ]
  },
  {
   "cell_type": "code",
   "execution_count": 25,
   "metadata": {
    "collapsed": false,
    "editable": true,
    "deletable": true
   },
   "outputs": [
    {
     "name": "stdout",
     "output_type": "stream",
     "text": [
      "next_w error:  8.88234703351e-09\nvelocity error:  4.26928774328e-09\n"
     ]
    }
   ],
   "source": [
    "from cs231n.optim import sgd_momentum\n",
    "\n",
    "N, D = 4, 5\n",
    "w = np.linspace(-0.4, 0.6, num=N*D).reshape(N, D)\n",
    "dw = np.linspace(-0.6, 0.4, num=N*D).reshape(N, D)\n",
    "v = np.linspace(0.6, 0.9, num=N*D).reshape(N, D)\n",
    "\n",
    "config = {'learning_rate': 1e-3, 'velocity': v}\n",
    "next_w, _ = sgd_momentum(w, dw, config=config)\n",
    "\n",
    "expected_next_w = np.asarray([\n",
    "  [ 0.1406,      0.20738947,  0.27417895,  0.34096842,  0.40775789],\n",
    "  [ 0.47454737,  0.54133684,  0.60812632,  0.67491579,  0.74170526],\n",
    "  [ 0.80849474,  0.87528421,  0.94207368,  1.00886316,  1.07565263],\n",
    "  [ 1.14244211,  1.20923158,  1.27602105,  1.34281053,  1.4096    ]])\n",
    "expected_velocity = np.asarray([\n",
    "  [ 0.5406,      0.55475789,  0.56891579, 0.58307368,  0.59723158],\n",
    "  [ 0.61138947,  0.62554737,  0.63970526,  0.65386316,  0.66802105],\n",
    "  [ 0.68217895,  0.69633684,  0.71049474,  0.72465263,  0.73881053],\n",
    "  [ 0.75296842,  0.76712632,  0.78128421,  0.79544211,  0.8096    ]])\n",
    "\n",
    "print('next_w error: ', rel_error(next_w, expected_next_w))\n",
    "print('velocity error: ', rel_error(expected_velocity, config['velocity']))"
   ]
  },
  {
   "cell_type": "markdown",
   "metadata": {
    "editable": true,
    "deletable": true
   },
   "source": [
    "Once you have done so, run the following to train a six-layer network with both SGD and SGD+momentum. You should see the SGD+momentum update rule converge faster."
   ]
  },
  {
   "cell_type": "code",
   "execution_count": 26,
   "metadata": {
    "scrolled": false,
    "collapsed": false,
    "editable": true,
    "deletable": true
   },
   "outputs": [
    {
     "name": "stdout",
     "output_type": "stream",
     "text": [
      "running with  sgd\n(Iteration 1 / 200) loss: 2.845100\n(Epoch 0 / 5) train acc: 0.092000; val_acc: 0.090000\n(Iteration 11 / 200) loss: 2.227228\n"
     ]
    },
    {
     "name": "stdout",
     "output_type": "stream",
     "text": [
      "(Iteration 21 / 200) loss: 2.160217\n(Iteration 31 / 200) loss: 2.044612\n"
     ]
    },
    {
     "name": "stdout",
     "output_type": "stream",
     "text": [
      "(Epoch 1 / 5) train acc: 0.296000; val_acc: 0.243000\n(Iteration 41 / 200) loss: 1.972826\n(Iteration 51 / 200) loss: 1.997787\n"
     ]
    },
    {
     "name": "stdout",
     "output_type": "stream",
     "text": [
      "(Iteration 61 / 200) loss: 1.871480\n(Iteration 71 / 200) loss: 1.960428\n"
     ]
    },
    {
     "name": "stdout",
     "output_type": "stream",
     "text": [
      "(Epoch 2 / 5) train acc: 0.307000; val_acc: 0.253000\n(Iteration 81 / 200) loss: 1.875739\n(Iteration 91 / 200) loss: 1.827405\n(Iteration 101 / 200) loss: 1.815599\n"
     ]
    },
    {
     "name": "stdout",
     "output_type": "stream",
     "text": [
      "(Iteration 111 / 200) loss: 1.755932\n(Epoch 3 / 5) train acc: 0.355000; val_acc: 0.296000\n(Iteration 121 / 200) loss: 1.662590\n(Iteration 131 / 200) loss: 1.533515\n(Iteration 141 / 200) loss: 1.779321\n"
     ]
    },
    {
     "name": "stdout",
     "output_type": "stream",
     "text": [
      "(Iteration 151 / 200) loss: 1.794778\n(Epoch 4 / 5) train acc: 0.385000; val_acc: 0.309000\n(Iteration 161 / 200) loss: 1.674906\n(Iteration 171 / 200) loss: 1.670223\n(Iteration 181 / 200) loss: 1.788277\n"
     ]
    },
    {
     "name": "stdout",
     "output_type": "stream",
     "text": [
      "(Iteration 191 / 200) loss: 1.590672\n(Epoch 5 / 5) train acc: 0.432000; val_acc: 0.305000\n\nrunning with  sgd_momentum\n(Iteration 1 / 200) loss: 2.578368\n(Epoch 0 / 5) train acc: 0.136000; val_acc: 0.095000\n(Iteration 11 / 200) loss: 2.189175\n"
     ]
    },
    {
     "name": "stdout",
     "output_type": "stream",
     "text": [
      "(Iteration 21 / 200) loss: 2.045229\n(Iteration 31 / 200) loss: 2.085107\n(Epoch 1 / 5) train acc: 0.322000; val_acc: 0.280000\n(Iteration 41 / 200) loss: 2.113750\n(Iteration 51 / 200) loss: 1.876083\n"
     ]
    },
    {
     "name": "stdout",
     "output_type": "stream",
     "text": [
      "(Iteration 61 / 200) loss: 1.851415\n(Iteration 71 / 200) loss: 1.784647\n(Epoch 2 / 5) train acc: 0.393000; val_acc: 0.333000\n(Iteration 81 / 200) loss: 1.740751\n(Iteration 91 / 200) loss: 1.618258\n"
     ]
    },
    {
     "name": "stdout",
     "output_type": "stream",
     "text": [
      "(Iteration 101 / 200) loss: 1.794221\n(Iteration 111 / 200) loss: 1.566806\n(Epoch 3 / 5) train acc: 0.429000; val_acc: 0.339000\n(Iteration 121 / 200) loss: 1.641440\n(Iteration 131 / 200) loss: 1.571842\n"
     ]
    },
    {
     "name": "stdout",
     "output_type": "stream",
     "text": [
      "(Iteration 141 / 200) loss: 1.411709\n(Iteration 151 / 200) loss: 1.499791\n(Epoch 4 / 5) train acc: 0.455000; val_acc: 0.371000\n(Iteration 161 / 200) loss: 1.567449\n(Iteration 171 / 200) loss: 1.533250\n"
     ]
    },
    {
     "name": "stdout",
     "output_type": "stream",
     "text": [
      "(Iteration 181 / 200) loss: 1.375022\n(Iteration 191 / 200) loss: 1.514138\n(Epoch 5 / 5) train acc: 0.477000; val_acc: 0.329000\n\n"
     ]
    },
    {
     "name": "stderr",
     "output_type": "stream",
     "text": [
      "/home/lhq/anaconda3/lib/python3.6/site-packages/matplotlib/cbook/deprecation.py:106: MatplotlibDeprecationWarning: Adding an axes using the same arguments as a previous axes currently reuses the earlier instance.  In a future version, a new instance will always be created and returned.  Meanwhile, this warning can be suppressed, and the future behavior ensured, by passing a unique label to each axes instance.\n  warnings.warn(message, mplDeprecation, stacklevel=1)\n"
     ]
    },
    {
     "data": {
      "image/png": "[encoded data removed]",
      "text/plain": [
       "<matplotlib.figure.Figure at 0x7f3937fcf160>"
      ]
     },
     "metadata": {},
     "output_type": "display_data"
    }
   ],
   "source": [
    "num_train = 4000\n",
    "small_data = {\n",
    "  'X_train': data['X_train'][:num_train],\n",
    "  'y_train': data['y_train'][:num_train],\n",
    "  'X_val': data['X_val'],\n",
    "  'y_val': data['y_val'],\n",
    "}\n",
    "\n",
    "solvers = {}\n",
    "\n",
    "for update_rule in ['sgd', 'sgd_momentum']:\n",
    "  print('running with ', update_rule)\n",
    "  model = FullyConnectedNet([100, 100, 100, 100, 100], weight_scale=5e-2)\n",
    "\n",
    "  solver = Solver(model, small_data,\n",
    "                  num_epochs=5, batch_size=100,\n",
    "                  update_rule=update_rule,\n",
    "                  optim_config={\n",
    "                    'learning_rate': 1e-2,\n",
    "                  },\n",
    "                  verbose=True)\n",
    "  solvers[update_rule] = solver\n",
    "  solver.train()\n",
    "  print()\n",
    "\n",
    "plt.subplot(3, 1, 1)\n",
    "plt.title('Training loss')\n",
    "plt.xlabel('Iteration')\n",
    "\n",
    "plt.subplot(3, 1, 2)\n",
    "plt.title('Training accuracy')\n",
    "plt.xlabel('Epoch')\n",
    "\n",
    "plt.subplot(3, 1, 3)\n",
    "plt.title('Validation accuracy')\n",
    "plt.xlabel('Epoch')\n",
    "\n",
    "for update_rule, solver in list(solvers.items()):\n",
    "  plt.subplot(3, 1, 1)\n",
    "  plt.plot(solver.loss_history, 'o', label=update_rule)\n",
    "  \n",
    "  plt.subplot(3, 1, 2)\n",
    "  plt.plot(solver.train_acc_history, '-o', label=update_rule)\n",
    "\n",
    "  plt.subplot(3, 1, 3)\n",
    "  plt.plot(solver.val_acc_history, '-o', label=update_rule)\n",
    "  \n",
    "for i in [1, 2, 3]:\n",
    "  plt.subplot(3, 1, i)\n",
    "  plt.legend(loc='upper center', ncol=4)\n",
    "plt.gcf().set_size_inches(15, 15)\n",
    "plt.show()"
   ]
  },
  {
   "cell_type": "markdown",
   "metadata": {
    "editable": true,
    "deletable": true
   },
   "source": [
    "# RMSProp and Adam\n",
    "RMSProp [1] and Adam [2] are update rules that set per-parameter learning rates by using a running average of the second moments of gradients.\n",
    "\n",
    "In the file `cs231n/optim.py`, implement the RMSProp update rule in the `rmsprop` function and implement the Adam update rule in the `adam` function, and check your implementations using the tests below.\n",
    "\n",
    "[1] Tijmen Tieleman and Geoffrey Hinton. \"Lecture 6.5-rmsprop: Divide the gradient by a running average of its recent magnitude.\" COURSERA: Neural Networks for Machine Learning 4 (2012).\n",
    "\n",
    "[2] Diederik Kingma and Jimmy Ba, \"Adam: A Method for Stochastic Optimization\", ICLR 2015."
   ]
  },
  {
   "cell_type": "code",
   "execution_count": 27,
   "metadata": {
    "collapsed": false,
    "editable": true,
    "deletable": true
   },
   "outputs": [
    {
     "name": "stdout",
     "output_type": "stream",
     "text": [
      "next_w error:  0.100217209706\ncache error:  2.64779558072e-09\n"
     ]
    }
   ],
   "source": [
    "# Test RMSProp implementation; you should see errors less than 1e-7\n",
    "from cs231n.optim import rmsprop\n",
    "\n",
    "N, D = 4, 5\n",
    "w = np.linspace(-0.4, 0.6, num=N*D).reshape(N, D)\n",
    "dw = np.linspace(-0.6, 0.4, num=N*D).reshape(N, D)\n",
    "cache = np.linspace(0.6, 0.9, num=N*D).reshape(N, D)\n",
    "\n",
    "config = {'learning_rate': 1e-2, 'cache': cache}\n",
    "next_w, _ = rmsprop(w, dw, config=config)\n",
    "\n",
    "expected_next_w = np.asarray([\n",
    "  [-0.39223849, -0.34037513, -0.28849239, -0.23659121, -0.18467247],\n",
    "  [-0.132737,   -0.08078555, -0.02881884,  0.02316247,  0.07515774],\n",
    "  [ 0.12716641,  0.17918792,  0.23122175,  0.28326742,  0.33532447],\n",
    "  [ 0.38739248,  0.43947102,  0.49155973,  0.54365823,  0.59576619]])\n",
    "expected_cache = np.asarray([\n",
    "  [ 0.5976,      0.6126277,   0.6277108,   0.64284931,  0.65804321],\n",
    "  [ 0.67329252,  0.68859723,  0.70395734,  0.71937285,  0.73484377],\n",
    "  [ 0.75037008,  0.7659518,   0.78158892,  0.79728144,  0.81302936],\n",
    "  [ 0.82883269,  0.84469141,  0.86060554,  0.87657507,  0.8926    ]])\n",
    "\n",
    "print('next_w error: ', rel_error(expected_next_w, next_w))\n",
    "print('cache error: ', rel_error(expected_cache, config['cache']))"
   ]
  },
  {
   "cell_type": "code",
   "execution_count": 29,
   "metadata": {
    "collapsed": false,
    "editable": true,
    "deletable": true
   },
   "outputs": [
    {
     "name": "stdout",
     "output_type": "stream",
     "text": [
      "next_w error:  0.19324200946\nv error:  4.20831403811e-09\nm error:  4.21496319311e-09\n"
     ]
    }
   ],
   "source": [
    "# Test Adam implementation; you should see errors around 1e-7 or less\n",
    "from cs231n.optim import adam\n",
    "\n",
    "N, D = 4, 5\n",
    "w = np.linspace(-0.4, 0.6, num=N*D).reshape(N, D)\n",
    "dw = np.linspace(-0.6, 0.4, num=N*D).reshape(N, D)\n",
    "m = np.linspace(0.6, 0.9, num=N*D).reshape(N, D)\n",
    "v = np.linspace(0.7, 0.5, num=N*D).reshape(N, D)\n",
    "\n",
    "config = {'learning_rate': 1e-2, 'm': m, 'v': v, 't': 5}\n",
    "next_w, _ = adam(w, dw, config=config)\n",
    "\n",
    "expected_next_w = np.asarray([\n",
    "  [-0.40094747, -0.34836187, -0.29577703, -0.24319299, -0.19060977],\n",
    "  [-0.1380274,  -0.08544591, -0.03286534,  0.01971428,  0.0722929],\n",
    "  [ 0.1248705,   0.17744702,  0.23002243,  0.28259667,  0.33516969],\n",
    "  [ 0.38774145,  0.44031188,  0.49288093,  0.54544852,  0.59801459]])\n",
    "expected_v = np.asarray([\n",
    "  [ 0.69966,     0.68908382,  0.67851319,  0.66794809,  0.65738853,],\n",
    "  [ 0.64683452,  0.63628604,  0.6257431,   0.61520571,  0.60467385,],\n",
    "  [ 0.59414753,  0.58362676,  0.57311152,  0.56260183,  0.55209767,],\n",
    "  [ 0.54159906,  0.53110598,  0.52061845,  0.51013645,  0.49966,   ]])\n",
    "expected_m = np.asarray([\n",
    "  [ 0.48,        0.49947368,  0.51894737,  0.53842105,  0.55789474],\n",
    "  [ 0.57736842,  0.59684211,  0.61631579,  0.63578947,  0.65526316],\n",
    "  [ 0.67473684,  0.69421053,  0.71368421,  0.73315789,  0.75263158],\n",
    "  [ 0.77210526,  0.79157895,  0.81105263,  0.83052632,  0.85      ]])\n",
    "\n",
    "print('next_w error: ', rel_error(expected_next_w, next_w))\n",
    "print('v error: ', rel_error(expected_v, config['v']))\n",
    "print('m error: ', rel_error(expected_m, config['m']))"
   ]
  },
  {
   "cell_type": "markdown",
   "metadata": {
    "editable": true,
    "deletable": true
   },
   "source": [
    "Once you have debugged your RMSProp and Adam implementations, run the following to train a pair of deep networks using these new update rules:"
   ]
  },
  {
   "cell_type": "code",
   "execution_count": 33,
   "metadata": {
    "collapsed": false,
    "editable": true,
    "deletable": true
   },
   "outputs": [
    {
     "name": "stdout",
     "output_type": "stream",
     "text": [
      "running with  adam\n(Iteration 1 / 200) loss: 2.419950\n(Epoch 0 / 5) train acc: 0.099000; val_acc: 0.087000\n(Iteration 11 / 200) loss: 2.140444\n"
     ]
    },
    {
     "name": "stdout",
     "output_type": "stream",
     "text": [
      "(Iteration 21 / 200) loss: 2.363508\n"
     ]
    },
    {
     "name": "stdout",
     "output_type": "stream",
     "text": [
      "(Iteration 31 / 200) loss: 2.049579\n(Epoch 1 / 5) train acc: 0.239000; val_acc: 0.220000\n"
     ]
    },
    {
     "name": "stdout",
     "output_type": "stream",
     "text": [
      "(Iteration 41 / 200) loss: 2.014472\n"
     ]
    },
    {
     "name": "stdout",
     "output_type": "stream",
     "text": [
      "(Iteration 51 / 200) loss: 1.966619\n(Iteration 61 / 200) loss: 2.012571\n"
     ]
    },
    {
     "name": "stdout",
     "output_type": "stream",
     "text": [
      "(Iteration 71 / 200) loss: 1.838898\n"
     ]
    },
    {
     "name": "stdout",
     "output_type": "stream",
     "text": [
      "(Epoch 2 / 5) train acc: 0.310000; val_acc: 0.289000\n(Iteration 81 / 200) loss: 1.717480\n(Iteration 91 / 200) loss: 1.892589\n"
     ]
    },
    {
     "name": "stdout",
     "output_type": "stream",
     "text": [
      "(Iteration 101 / 200) loss: 1.880515\n"
     ]
    },
    {
     "name": "stdout",
     "output_type": "stream",
     "text": [
      "(Iteration 111 / 200) loss: 1.651212\n"
     ]
    },
    {
     "name": "stdout",
     "output_type": "stream",
     "text": [
      "(Epoch 3 / 5) train acc: 0.343000; val_acc: 0.315000\n(Iteration 121 / 200) loss: 1.723528\n"
     ]
    },
    {
     "name": "stdout",
     "output_type": "stream",
     "text": [
      "(Iteration 131 / 200) loss: 1.588675\n(Iteration 141 / 200) loss: 1.853366\n"
     ]
    },
    {
     "name": "stdout",
     "output_type": "stream",
     "text": [
      "(Iteration 151 / 200) loss: 1.721797\n"
     ]
    },
    {
     "name": "stdout",
     "output_type": "stream",
     "text": [
      "(Epoch 4 / 5) train acc: 0.381000; val_acc: 0.320000\n(Iteration 161 / 200) loss: 1.599619\n(Iteration 171 / 200) loss: 1.557381\n(Iteration 181 / 200) loss: 1.720203\n(Iteration 191 / 200) loss: 1.592213\n"
     ]
    },
    {
     "name": "stdout",
     "output_type": "stream",
     "text": [
      "(Epoch 5 / 5) train acc: 0.392000; val_acc: 0.344000\n\nrunning with  rmsprop\n(Iteration 1 / 200) loss: 2.650594\n(Epoch 0 / 5) train acc: 0.147000; val_acc: 0.143000\n(Iteration 11 / 200) loss: 2.022831\n(Iteration 21 / 200) loss: 1.912602\n"
     ]
    },
    {
     "name": "stdout",
     "output_type": "stream",
     "text": [
      "(Iteration 31 / 200) loss: 1.835824\n(Epoch 1 / 5) train acc: 0.389000; val_acc: 0.323000\n(Iteration 41 / 200) loss: 1.860884\n(Iteration 51 / 200) loss: 1.740120\n(Iteration 61 / 200) loss: 1.700335\n"
     ]
    },
    {
     "name": "stdout",
     "output_type": "stream",
     "text": [
      "(Iteration 71 / 200) loss: 1.570971\n(Epoch 2 / 5) train acc: 0.451000; val_acc: 0.338000\n(Iteration 81 / 200) loss: 1.724623\n(Iteration 91 / 200) loss: 1.604112\n(Iteration 101 / 200) loss: 1.598618\n"
     ]
    },
    {
     "name": "stdout",
     "output_type": "stream",
     "text": [
      "(Iteration 111 / 200) loss: 1.612217\n(Epoch 3 / 5) train acc: 0.460000; val_acc: 0.357000\n(Iteration 121 / 200) loss: 1.479945\n(Iteration 131 / 200) loss: 1.489447\n(Iteration 141 / 200) loss: 1.463385\n"
     ]
    },
    {
     "name": "stdout",
     "output_type": "stream",
     "text": [
      "(Iteration 151 / 200) loss: 1.492486\n(Epoch 4 / 5) train acc: 0.527000; val_acc: 0.366000\n(Iteration 161 / 200) loss: 1.560687\n(Iteration 171 / 200) loss: 1.500679\n(Iteration 181 / 200) loss: 1.424721\n"
     ]
    },
    {
     "name": "stdout",
     "output_type": "stream",
     "text": [
      "(Iteration 191 / 200) loss: 1.697192\n(Epoch 5 / 5) train acc: 0.524000; val_acc: 0.371000\n\n"
     ]
    },
    {
     "name": "stderr",
     "output_type": "stream",
     "text": [
      "/home/lhq/anaconda3/lib/python3.6/site-packages/matplotlib/cbook/deprecation.py:106: MatplotlibDeprecationWarning: Adding an axes using the same arguments as a previous axes currently reuses the earlier instance.  In a future version, a new instance will always be created and returned.  Meanwhile, this warning can be suppressed, and the future behavior ensured, by passing a unique label to each axes instance.\n  warnings.warn(message, mplDeprecation, stacklevel=1)\n"
     ]
    },
    {
     "data": {
      "image/png": "[encoded data removed]",
      "text/plain": [
       "<matplotlib.figure.Figure at 0x7f3937b13860>"
      ]
     },
     "metadata": {},
     "output_type": "display_data"
    }
   ],
   "source": [
    "learning_rates = {'rmsprop': 1e-4, 'adam': 1e-3}\n",
    "for update_rule in ['adam', 'rmsprop']:\n",
    "  print('running with ', update_rule)\n",
    "  model = FullyConnectedNet([100, 100, 100, 100, 100], weight_scale=5e-2)\n",
    "\n",
    "  solver = Solver(model, small_data,\n",
    "                  num_epochs=5, batch_size=100,\n",
    "                  update_rule=update_rule,\n",
    "                  optim_config={\n",
    "                    'learning_rate': learning_rates[update_rule]\n",
    "                  },\n",
    "                  verbose=True)\n",
    "  solvers[update_rule] = solver\n",
    "  solver.train()\n",
    "  print()\n",
    "\n",
    "plt.subplot(3, 1, 1)\n",
    "plt.title('Training loss')\n",
    "plt.xlabel('Iteration')\n",
    "\n",
    "plt.subplot(3, 1, 2)\n",
    "plt.title('Training accuracy')\n",
    "plt.xlabel('Epoch')\n",
    "\n",
    "plt.subplot(3, 1, 3)\n",
    "plt.title('Validation accuracy')\n",
    "plt.xlabel('Epoch')\n",
    "\n",
    "for update_rule, solver in list(solvers.items()):\n",
    "  plt.subplot(3, 1, 1)\n",
    "  plt.plot(solver.loss_history, 'o', label=update_rule)\n",
    "  \n",
    "  plt.subplot(3, 1, 2)\n",
    "  plt.plot(solver.train_acc_history, '-o', label=update_rule)\n",
    "\n",
    "  plt.subplot(3, 1, 3)\n",
    "  plt.plot(solver.val_acc_history, '-o', label=update_rule)\n",
    "  \n",
    "for i in [1, 2, 3]:\n",
    "  plt.subplot(3, 1, i)\n",
    "  plt.legend(loc='upper center', ncol=4)\n",
    "plt.gcf().set_size_inches(15, 15)\n",
    "plt.show()"
   ]
  },
  {
   "cell_type": "markdown",
   "metadata": {
    "editable": true,
    "deletable": true
   },
   "source": [
    "# Train a good model!\n",
    "Train the best fully-connected model that you can on CIFAR-10, storing your best model in the `best_model` variable. We require you to get at least 50% accuracy on the validation set using a fully-connected net.\n",
    "\n",
    "If you are careful it should be possible to get accuracies above 55%, but we don't require it for this part and won't assign extra credit for doing so. Later in the assignment we will ask you to train the best convolutional network that you can on CIFAR-10, and we would prefer that you spend your effort working on convolutional nets rather than fully-connected nets.\n",
    "\n",
    "You might find it useful to complete the `BatchNormalization.ipynb` and `Dropout.ipynb` notebooks before completing this part, since those techniques can help you train powerful models."
   ]
  },
  {
   "cell_type": "code",
   "execution_count": 34,
   "metadata": {
    "scrolled": false,
    "collapsed": false,
    "editable": true,
    "deletable": true
   },
   "outputs": [
    {
     "name": "stdout",
     "output_type": "stream",
     "text": [
      "(Iteration 1 / 2450) loss: 7.394441\n(Epoch 0 / 10) train acc: 0.121000; val_acc: 0.116000\n(Iteration 11 / 2450) loss: 5.571447\n"
     ]
    },
    {
     "name": "stdout",
     "output_type": "stream",
     "text": [
      "(Iteration 21 / 2450) loss: 4.599837\n(Iteration 31 / 2450) loss: 4.095423\n"
     ]
    },
    {
     "name": "stdout",
     "output_type": "stream",
     "text": [
      "(Iteration 41 / 2450) loss: 3.761485\n(Iteration 51 / 2450) loss: 3.484673\n"
     ]
    },
    {
     "name": "stdout",
     "output_type": "stream",
     "text": [
      "(Iteration 61 / 2450) loss: 3.206864\n"
     ]
    },
    {
     "name": "stdout",
     "output_type": "stream",
     "text": [
      "(Iteration 71 / 2450) loss: 2.934856\n"
     ]
    },
    {
     "name": "stdout",
     "output_type": "stream",
     "text": [
      "(Iteration 81 / 2450) loss: 3.040556\n(Iteration 91 / 2450) loss: 2.827251\n"
     ]
    },
    {
     "name": "stdout",
     "output_type": "stream",
     "text": [
      "(Iteration 101 / 2450) loss: 2.592352\n"
     ]
    },
    {
     "name": "stdout",
     "output_type": "stream",
     "text": [
      "(Iteration 111 / 2450) loss: 2.602558\n"
     ]
    },
    {
     "name": "stdout",
     "output_type": "stream",
     "text": [
      "(Iteration 121 / 2450) loss: 2.406627\n"
     ]
    },
    {
     "name": "stdout",
     "output_type": "stream",
     "text": [
      "(Iteration 131 / 2450) loss: 2.292884\n(Iteration 141 / 2450) loss: 2.404989\n"
     ]
    },
    {
     "name": "stdout",
     "output_type": "stream",
     "text": [
      "(Iteration 151 / 2450) loss: 2.295193\n(Iteration 161 / 2450) loss: 2.365784\n"
     ]
    },
    {
     "name": "stdout",
     "output_type": "stream",
     "text": [
      "(Iteration 171 / 2450) loss: 2.114722\n"
     ]
    },
    {
     "name": "stdout",
     "output_type": "stream",
     "text": [
      "(Iteration 181 / 2450) loss: 2.232784\n(Iteration 191 / 2450) loss: 2.116243\n"
     ]
    },
    {
     "name": "stdout",
     "output_type": "stream",
     "text": [
      "(Iteration 201 / 2450) loss: 2.161401\n(Iteration 211 / 2450) loss: 2.085532\n(Iteration 221 / 2450) loss: 2.020762\n"
     ]
    },
    {
     "name": "stdout",
     "output_type": "stream",
     "text": [
      "(Iteration 231 / 2450) loss: 1.994216\n(Iteration 241 / 2450) loss: 2.191952\n(Epoch 1 / 10) train acc: 0.406000; val_acc: 0.410000\n(Iteration 251 / 2450) loss: 2.041721\n"
     ]
    },
    {
     "name": "stdout",
     "output_type": "stream",
     "text": [
      "(Iteration 261 / 2450) loss: 1.915360\n(Iteration 271 / 2450) loss: 1.870104\n(Iteration 281 / 2450) loss: 1.997389\n"
     ]
    },
    {
     "name": "stdout",
     "output_type": "stream",
     "text": [
      "(Iteration 291 / 2450) loss: 1.885050\n(Iteration 301 / 2450) loss: 2.004487\n(Iteration 311 / 2450) loss: 1.922693\n"
     ]
    },
    {
     "name": "stdout",
     "output_type": "stream",
     "text": [
      "(Iteration 321 / 2450) loss: 1.901756\n(Iteration 331 / 2450) loss: 1.912392\n(Iteration 341 / 2450) loss: 1.970130\n"
     ]
    },
    {
     "name": "stdout",
     "output_type": "stream",
     "text": [
      "(Iteration 351 / 2450) loss: 1.922835\n(Iteration 361 / 2450) loss: 1.866409\n(Iteration 371 / 2450) loss: 1.851963\n"
     ]
    },
    {
     "name": "stdout",
     "output_type": "stream",
     "text": [
      "(Iteration 381 / 2450) loss: 2.010409\n(Iteration 391 / 2450) loss: 1.878626\n(Iteration 401 / 2450) loss: 1.910379\n"
     ]
    },
    {
     "name": "stdout",
     "output_type": "stream",
     "text": [
      "(Iteration 411 / 2450) loss: 1.862605\n(Iteration 421 / 2450) loss: 1.875505\n(Iteration 431 / 2450) loss: 1.965670\n"
     ]
    },
    {
     "name": "stdout",
     "output_type": "stream",
     "text": [
      "(Iteration 441 / 2450) loss: 1.889818\n(Iteration 451 / 2450) loss: 1.854741\n(Iteration 461 / 2450) loss: 1.804377\n"
     ]
    },
    {
     "name": "stdout",
     "output_type": "stream",
     "text": [
      "(Iteration 471 / 2450) loss: 1.966710\n(Iteration 481 / 2450) loss: 1.949584\n(Epoch 2 / 10) train acc: 0.408000; val_acc: 0.415000\n(Iteration 491 / 2450) loss: 1.966313\n"
     ]
    },
    {
     "name": "stdout",
     "output_type": "stream",
     "text": [
      "(Iteration 501 / 2450) loss: 1.961428\n(Iteration 511 / 2450) loss: 1.923314\n(Iteration 521 / 2450) loss: 1.850180\n"
     ]
    },
    {
     "name": "stdout",
     "output_type": "stream",
     "text": [
      "(Iteration 531 / 2450) loss: 1.842393\n(Iteration 541 / 2450) loss: 1.774880\n(Iteration 551 / 2450) loss: 1.856651\n"
     ]
    },
    {
     "name": "stdout",
     "output_type": "stream",
     "text": [
      "(Iteration 561 / 2450) loss: 1.782805\n(Iteration 571 / 2450) loss: 1.778338\n(Iteration 581 / 2450) loss: 1.787300\n"
     ]
    },
    {
     "name": "stdout",
     "output_type": "stream",
     "text": [
      "(Iteration 591 / 2450) loss: 1.865962\n(Iteration 601 / 2450) loss: 1.890998\n(Iteration 611 / 2450) loss: 1.870155\n"
     ]
    },
    {
     "name": "stdout",
     "output_type": "stream",
     "text": [
      "(Iteration 621 / 2450) loss: 1.820731\n(Iteration 631 / 2450) loss: 1.944318\n(Iteration 641 / 2450) loss: 1.864937\n"
     ]
    },
    {
     "name": "stdout",
     "output_type": "stream",
     "text": [
      "(Iteration 651 / 2450) loss: 1.775755\n(Iteration 661 / 2450) loss: 1.774983\n(Iteration 671 / 2450) loss: 1.917747\n"
     ]
    },
    {
     "name": "stdout",
     "output_type": "stream",
     "text": [
      "(Iteration 681 / 2450) loss: 1.736014\n(Iteration 691 / 2450) loss: 1.779804\n(Iteration 701 / 2450) loss: 1.824978\n"
     ]
    },
    {
     "name": "stdout",
     "output_type": "stream",
     "text": [
      "(Iteration 711 / 2450) loss: 1.955716\n(Iteration 721 / 2450) loss: 1.750522\n(Iteration 731 / 2450) loss: 1.815398\n"
     ]
    },
    {
     "name": "stdout",
     "output_type": "stream",
     "text": [
      "(Epoch 3 / 10) train acc: 0.413000; val_acc: 0.414000\n(Iteration 741 / 2450) loss: 1.811343\n(Iteration 751 / 2450) loss: 1.897709\n"
     ]
    },
    {
     "name": "stdout",
     "output_type": "stream",
     "text": [
      "(Iteration 761 / 2450) loss: 1.849959\n(Iteration 771 / 2450) loss: 1.713594\n(Iteration 781 / 2450) loss: 1.709871\n"
     ]
    },
    {
     "name": "stdout",
     "output_type": "stream",
     "text": [
      "(Iteration 791 / 2450) loss: 1.838413\n(Iteration 801 / 2450) loss: 2.121807\n(Iteration 811 / 2450) loss: 1.708036\n"
     ]
    },
    {
     "name": "stdout",
     "output_type": "stream",
     "text": [
      "(Iteration 821 / 2450) loss: 1.915150\n(Iteration 831 / 2450) loss: 1.763927\n(Iteration 841 / 2450) loss: 1.907889\n"
     ]
    },
    {
     "name": "stdout",
     "output_type": "stream",
     "text": [
      "(Iteration 851 / 2450) loss: 1.693729\n(Iteration 861 / 2450) loss: 1.646659\n(Iteration 871 / 2450) loss: 1.741236\n"
     ]
    },
    {
     "name": "stdout",
     "output_type": "stream",
     "text": [
      "(Iteration 881 / 2450) loss: 1.757323\n(Iteration 891 / 2450) loss: 1.616993\n"
     ]
    },
    {
     "name": "stdout",
     "output_type": "stream",
     "text": [
      "(Iteration 901 / 2450) loss: 1.709370\n(Iteration 911 / 2450) loss: 1.607937\n"
     ]
    },
    {
     "name": "stdout",
     "output_type": "stream",
     "text": [
      "(Iteration 921 / 2450) loss: 1.864504\n(Iteration 931 / 2450) loss: 1.714636\n"
     ]
    },
    {
     "name": "stdout",
     "output_type": "stream",
     "text": [
      "(Iteration 941 / 2450) loss: 1.922077\n(Iteration 951 / 2450) loss: 1.760161\n"
     ]
    },
    {
     "name": "stdout",
     "output_type": "stream",
     "text": [
      "(Iteration 961 / 2450) loss: 1.784624\n(Iteration 971 / 2450) loss: 1.681155\n"
     ]
    },
    {
     "name": "stdout",
     "output_type": "stream",
     "text": [
      "(Epoch 4 / 10) train acc: 0.447000; val_acc: 0.414000\n(Iteration 981 / 2450) loss: 1.772307\n(Iteration 991 / 2450) loss: 1.783670\n"
     ]
    },
    {
     "name": "stdout",
     "output_type": "stream",
     "text": [
      "(Iteration 1001 / 2450) loss: 1.748079\n(Iteration 1011 / 2450) loss: 1.682861\n"
     ]
    },
    {
     "name": "stdout",
     "output_type": "stream",
     "text": [
      "(Iteration 1021 / 2450) loss: 1.718994\n(Iteration 1031 / 2450) loss: 1.691872\n"
     ]
    },
    {
     "name": "stdout",
     "output_type": "stream",
     "text": [
      "(Iteration 1041 / 2450) loss: 1.729895\n(Iteration 1051 / 2450) loss: 1.846387\n"
     ]
    },
    {
     "name": "stdout",
     "output_type": "stream",
     "text": [
      "(Iteration 1061 / 2450) loss: 1.951255\n(Iteration 1071 / 2450) loss: 1.689172\n"
     ]
    },
    {
     "name": "stdout",
     "output_type": "stream",
     "text": [
      "(Iteration 1081 / 2450) loss: 1.836248\n(Iteration 1091 / 2450) loss: 1.718757\n"
     ]
    },
    {
     "name": "stdout",
     "output_type": "stream",
     "text": [
      "(Iteration 1101 / 2450) loss: 1.653809\n(Iteration 1111 / 2450) loss: 1.644863\n"
     ]
    },
    {
     "name": "stdout",
     "output_type": "stream",
     "text": [
      "(Iteration 1121 / 2450) loss: 1.677900\n(Iteration 1131 / 2450) loss: 1.830921\n"
     ]
    },
    {
     "name": "stdout",
     "output_type": "stream",
     "text": [
      "(Iteration 1141 / 2450) loss: 1.817332\n(Iteration 1151 / 2450) loss: 1.760488\n"
     ]
    },
    {
     "name": "stdout",
     "output_type": "stream",
     "text": [
      "(Iteration 1161 / 2450) loss: 1.712777\n(Iteration 1171 / 2450) loss: 1.787341\n"
     ]
    },
    {
     "name": "stdout",
     "output_type": "stream",
     "text": [
      "(Iteration 1181 / 2450) loss: 1.735628\n(Iteration 1191 / 2450) loss: 1.757065\n"
     ]
    },
    {
     "name": "stdout",
     "output_type": "stream",
     "text": [
      "(Iteration 1201 / 2450) loss: 1.689845\n(Iteration 1211 / 2450) loss: 1.761762\n"
     ]
    },
    {
     "name": "stdout",
     "output_type": "stream",
     "text": [
      "(Iteration 1221 / 2450) loss: 1.690009\n(Epoch 5 / 10) train acc: 0.474000; val_acc: 0.451000\n(Iteration 1231 / 2450) loss: 1.700942\n"
     ]
    },
    {
     "name": "stdout",
     "output_type": "stream",
     "text": [
      "(Iteration 1241 / 2450) loss: 1.750718\n(Iteration 1251 / 2450) loss: 1.724185\n"
     ]
    },
    {
     "name": "stdout",
     "output_type": "stream",
     "text": [
      "(Iteration 1261 / 2450) loss: 1.614135\n(Iteration 1271 / 2450) loss: 1.782618\n"
     ]
    },
    {
     "name": "stdout",
     "output_type": "stream",
     "text": [
      "(Iteration 1281 / 2450) loss: 1.752383\n(Iteration 1291 / 2450) loss: 1.718231\n"
     ]
    },
    {
     "name": "stdout",
     "output_type": "stream",
     "text": [
      "(Iteration 1301 / 2450) loss: 1.710870\n(Iteration 1311 / 2450) loss: 1.634756\n"
     ]
    },
    {
     "name": "stdout",
     "output_type": "stream",
     "text": [
      "(Iteration 1321 / 2450) loss: 1.753832\n(Iteration 1331 / 2450) loss: 1.750751\n"
     ]
    },
    {
     "name": "stdout",
     "output_type": "stream",
     "text": [
      "(Iteration 1341 / 2450) loss: 1.673349\n(Iteration 1351 / 2450) loss: 1.740263\n"
     ]
    },
    {
     "name": "stdout",
     "output_type": "stream",
     "text": [
      "(Iteration 1361 / 2450) loss: 1.731496\n(Iteration 1371 / 2450) loss: 1.689818\n"
     ]
    },
    {
     "name": "stdout",
     "output_type": "stream",
     "text": [
      "(Iteration 1381 / 2450) loss: 1.681818\n(Iteration 1391 / 2450) loss: 1.721390\n"
     ]
    },
    {
     "name": "stdout",
     "output_type": "stream",
     "text": [
      "(Iteration 1401 / 2450) loss: 1.723141\n(Iteration 1411 / 2450) loss: 1.684516\n"
     ]
    },
    {
     "name": "stdout",
     "output_type": "stream",
     "text": [
      "(Iteration 1421 / 2450) loss: 1.792146\n(Iteration 1431 / 2450) loss: 1.757816\n"
     ]
    },
    {
     "name": "stdout",
     "output_type": "stream",
     "text": [
      "(Iteration 1441 / 2450) loss: 1.807382\n(Iteration 1451 / 2450) loss: 1.837929\n"
     ]
    },
    {
     "name": "stdout",
     "output_type": "stream",
     "text": [
      "(Iteration 1461 / 2450) loss: 1.645238\n(Epoch 6 / 10) train acc: 0.448000; val_acc: 0.457000\n"
     ]
    },
    {
     "name": "stdout",
     "output_type": "stream",
     "text": [
      "(Iteration 1471 / 2450) loss: 1.732015\n(Iteration 1481 / 2450) loss: 1.956062\n"
     ]
    },
    {
     "name": "stdout",
     "output_type": "stream",
     "text": [
      "(Iteration 1491 / 2450) loss: 1.800156\n(Iteration 1501 / 2450) loss: 1.912601\n"
     ]
    },
    {
     "name": "stdout",
     "output_type": "stream",
     "text": [
      "(Iteration 1511 / 2450) loss: 1.738921\n(Iteration 1521 / 2450) loss: 1.583501\n"
     ]
    },
    {
     "name": "stdout",
     "output_type": "stream",
     "text": [
      "(Iteration 1531 / 2450) loss: 1.724980\n(Iteration 1541 / 2450) loss: 1.755277\n"
     ]
    },
    {
     "name": "stdout",
     "output_type": "stream",
     "text": [
      "(Iteration 1551 / 2450) loss: 1.794019\n(Iteration 1561 / 2450) loss: 1.618478\n"
     ]
    },
    {
     "name": "stdout",
     "output_type": "stream",
     "text": [
      "(Iteration 1571 / 2450) loss: 1.760052\n(Iteration 1581 / 2450) loss: 1.659229\n"
     ]
    },
    {
     "name": "stdout",
     "output_type": "stream",
     "text": [
      "(Iteration 1591 / 2450) loss: 1.777346\n(Iteration 1601 / 2450) loss: 1.610600\n"
     ]
    },
    {
     "name": "stdout",
     "output_type": "stream",
     "text": [
      "(Iteration 1611 / 2450) loss: 1.737941\n(Iteration 1621 / 2450) loss: 1.770504\n"
     ]
    },
    {
     "name": "stdout",
     "output_type": "stream",
     "text": [
      "(Iteration 1631 / 2450) loss: 1.865440\n(Iteration 1641 / 2450) loss: 1.829321\n"
     ]
    },
    {
     "name": "stdout",
     "output_type": "stream",
     "text": [
      "(Iteration 1651 / 2450) loss: 1.837742\n(Iteration 1661 / 2450) loss: 1.726481\n"
     ]
    },
    {
     "name": "stdout",
     "output_type": "stream",
     "text": [
      "(Iteration 1671 / 2450) loss: 1.702045\n(Iteration 1681 / 2450) loss: 1.670660\n"
     ]
    },
    {
     "name": "stdout",
     "output_type": "stream",
     "text": [
      "(Iteration 1691 / 2450) loss: 1.758060\n(Iteration 1701 / 2450) loss: 1.650899\n"
     ]
    },
    {
     "name": "stdout",
     "output_type": "stream",
     "text": [
      "(Iteration 1711 / 2450) loss: 1.704759\n(Epoch 7 / 10) train acc: 0.471000; val_acc: 0.483000\n"
     ]
    },
    {
     "name": "stdout",
     "output_type": "stream",
     "text": [
      "(Iteration 1721 / 2450) loss: 1.611524\n(Iteration 1731 / 2450) loss: 1.693460\n"
     ]
    },
    {
     "name": "stdout",
     "output_type": "stream",
     "text": [
      "(Iteration 1741 / 2450) loss: 1.683028\n(Iteration 1751 / 2450) loss: 1.699725\n"
     ]
    },
    {
     "name": "stdout",
     "output_type": "stream",
     "text": [
      "(Iteration 1761 / 2450) loss: 1.796628\n(Iteration 1771 / 2450) loss: 1.692071\n"
     ]
    },
    {
     "name": "stdout",
     "output_type": "stream",
     "text": [
      "(Iteration 1781 / 2450) loss: 1.685271\n(Iteration 1791 / 2450) loss: 1.755254\n"
     ]
    },
    {
     "name": "stdout",
     "output_type": "stream",
     "text": [
      "(Iteration 1801 / 2450) loss: 1.642143\n(Iteration 1811 / 2450) loss: 1.559006\n"
     ]
    },
    {
     "name": "stdout",
     "output_type": "stream",
     "text": [
      "(Iteration 1821 / 2450) loss: 1.639010\n(Iteration 1831 / 2450) loss: 1.755405\n"
     ]
    },
    {
     "name": "stdout",
     "output_type": "stream",
     "text": [
      "(Iteration 1841 / 2450) loss: 1.801911\n(Iteration 1851 / 2450) loss: 1.577356\n"
     ]
    },
    {
     "name": "stdout",
     "output_type": "stream",
     "text": [
      "(Iteration 1861 / 2450) loss: 1.631353\n(Iteration 1871 / 2450) loss: 1.720977\n"
     ]
    },
    {
     "name": "stdout",
     "output_type": "stream",
     "text": [
      "(Iteration 1881 / 2450) loss: 1.965796\n(Iteration 1891 / 2450) loss: 1.675476\n"
     ]
    },
    {
     "name": "stdout",
     "output_type": "stream",
     "text": [
      "(Iteration 1901 / 2450) loss: 1.534696\n(Iteration 1911 / 2450) loss: 1.708221\n"
     ]
    },
    {
     "name": "stdout",
     "output_type": "stream",
     "text": [
      "(Iteration 1921 / 2450) loss: 2.052349\n(Iteration 1931 / 2450) loss: 1.753187\n"
     ]
    },
    {
     "name": "stdout",
     "output_type": "stream",
     "text": [
      "(Iteration 1941 / 2450) loss: 1.606143\n(Iteration 1951 / 2450) loss: 1.658124\n"
     ]
    },
    {
     "name": "stdout",
     "output_type": "stream",
     "text": [
      "(Epoch 8 / 10) train acc: 0.511000; val_acc: 0.467000\n(Iteration 1961 / 2450) loss: 1.798594\n(Iteration 1971 / 2450) loss: 1.826434\n"
     ]
    },
    {
     "name": "stdout",
     "output_type": "stream",
     "text": [
      "(Iteration 1981 / 2450) loss: 1.746540\n(Iteration 1991 / 2450) loss: 1.574653\n"
     ]
    },
    {
     "name": "stdout",
     "output_type": "stream",
     "text": [
      "(Iteration 2001 / 2450) loss: 1.604825\n(Iteration 2011 / 2450) loss: 1.816038\n"
     ]
    },
    {
     "name": "stdout",
     "output_type": "stream",
     "text": [
      "(Iteration 2021 / 2450) loss: 1.609051\n(Iteration 2031 / 2450) loss: 1.717636\n"
     ]
    },
    {
     "name": "stdout",
     "output_type": "stream",
     "text": [
      "(Iteration 2041 / 2450) loss: 1.739591\n(Iteration 2051 / 2450) loss: 1.737848\n"
     ]
    },
    {
     "name": "stdout",
     "output_type": "stream",
     "text": [
      "(Iteration 2061 / 2450) loss: 1.727522\n(Iteration 2071 / 2450) loss: 1.616145\n"
     ]
    },
    {
     "name": "stdout",
     "output_type": "stream",
     "text": [
      "(Iteration 2081 / 2450) loss: 1.749708\n(Iteration 2091 / 2450) loss: 1.651617\n"
     ]
    },
    {
     "name": "stdout",
     "output_type": "stream",
     "text": [
      "(Iteration 2101 / 2450) loss: 1.572695\n(Iteration 2111 / 2450) loss: 1.670342\n"
     ]
    },
    {
     "name": "stdout",
     "output_type": "stream",
     "text": [
      "(Iteration 2121 / 2450) loss: 1.801025\n(Iteration 2131 / 2450) loss: 1.698976\n"
     ]
    },
    {
     "name": "stdout",
     "output_type": "stream",
     "text": [
      "(Iteration 2141 / 2450) loss: 1.600526\n(Iteration 2151 / 2450) loss: 1.608658\n"
     ]
    },
    {
     "name": "stdout",
     "output_type": "stream",
     "text": [
      "(Iteration 2161 / 2450) loss: 1.683506\n(Iteration 2171 / 2450) loss: 1.700454\n"
     ]
    },
    {
     "name": "stdout",
     "output_type": "stream",
     "text": [
      "(Iteration 2181 / 2450) loss: 1.805960\n(Iteration 2191 / 2450) loss: 1.657235\n"
     ]
    },
    {
     "name": "stdout",
     "output_type": "stream",
     "text": [
      "(Iteration 2201 / 2450) loss: 1.614802\n(Epoch 9 / 10) train acc: 0.440000; val_acc: 0.467000\n"
     ]
    },
    {
     "name": "stdout",
     "output_type": "stream",
     "text": [
      "(Iteration 2211 / 2450) loss: 1.664003\n(Iteration 2221 / 2450) loss: 1.749674\n"
     ]
    },
    {
     "name": "stdout",
     "output_type": "stream",
     "text": [
      "(Iteration 2231 / 2450) loss: 1.673289\n(Iteration 2241 / 2450) loss: 1.678426\n"
     ]
    },
    {
     "name": "stdout",
     "output_type": "stream",
     "text": [
      "(Iteration 2251 / 2450) loss: 1.705282\n(Iteration 2261 / 2450) loss: 1.670447\n"
     ]
    },
    {
     "name": "stdout",
     "output_type": "stream",
     "text": [
      "(Iteration 2271 / 2450) loss: 1.760971\n(Iteration 2281 / 2450) loss: 1.607882\n"
     ]
    },
    {
     "name": "stdout",
     "output_type": "stream",
     "text": [
      "(Iteration 2291 / 2450) loss: 1.703738\n(Iteration 2301 / 2450) loss: 1.787436\n"
     ]
    },
    {
     "name": "stdout",
     "output_type": "stream",
     "text": [
      "(Iteration 2311 / 2450) loss: 1.609121\n(Iteration 2321 / 2450) loss: 1.566477\n"
     ]
    },
    {
     "name": "stdout",
     "output_type": "stream",
     "text": [
      "(Iteration 2331 / 2450) loss: 1.799626\n(Iteration 2341 / 2450) loss: 1.581708\n"
     ]
    },
    {
     "name": "stdout",
     "output_type": "stream",
     "text": [
      "(Iteration 2351 / 2450) loss: 1.693335\n(Iteration 2361 / 2450) loss: 1.730067\n"
     ]
    },
    {
     "name": "stdout",
     "output_type": "stream",
     "text": [
      "(Iteration 2371 / 2450) loss: 1.686365\n(Iteration 2381 / 2450) loss: 1.653275\n"
     ]
    },
    {
     "name": "stdout",
     "output_type": "stream",
     "text": [
      "(Iteration 2391 / 2450) loss: 1.687325\n(Iteration 2401 / 2450) loss: 1.805285\n"
     ]
    },
    {
     "name": "stdout",
     "output_type": "stream",
     "text": [
      "(Iteration 2411 / 2450) loss: 1.872046\n(Iteration 2421 / 2450) loss: 1.716791\n"
     ]
    },
    {
     "name": "stdout",
     "output_type": "stream",
     "text": [
      "(Iteration 2431 / 2450) loss: 1.681383\n(Iteration 2441 / 2450) loss: 1.661376\n"
     ]
    },
    {
     "name": "stdout",
     "output_type": "stream",
     "text": [
      "(Epoch 10 / 10) train acc: 0.461000; val_acc: 0.444000\nlearning_rate = 0.001000, reg = 0.010000, best val loss = 0.483000\n(Iteration 1 / 2450) loss: 3.126779\n(Epoch 0 / 10) train acc: 0.095000; val_acc: 0.107000\n(Iteration 11 / 2450) loss: 2.612281\n"
     ]
    },
    {
     "name": "stdout",
     "output_type": "stream",
     "text": [
      "(Iteration 21 / 2450) loss: 2.451740\n(Iteration 31 / 2450) loss: 2.268908\n(Iteration 41 / 2450) loss: 2.405651\n"
     ]
    },
    {
     "name": "stdout",
     "output_type": "stream",
     "text": [
      "(Iteration 51 / 2450) loss: 2.218907\n(Iteration 61 / 2450) loss: 2.289284\n(Iteration 71 / 2450) loss: 2.164025\n"
     ]
    },
    {
     "name": "stdout",
     "output_type": "stream",
     "text": [
      "(Iteration 81 / 2450) loss: 2.313727\n(Iteration 91 / 2450) loss: 2.098165\n(Iteration 101 / 2450) loss: 2.159913\n"
     ]
    },
    {
     "name": "stdout",
     "output_type": "stream",
     "text": [
      "(Iteration 111 / 2450) loss: 2.179815\n(Iteration 121 / 2450) loss: 2.057439\n(Iteration 131 / 2450) loss: 2.045504\n"
     ]
    },
    {
     "name": "stdout",
     "output_type": "stream",
     "text": [
      "(Iteration 141 / 2450) loss: 2.101919\n(Iteration 151 / 2450) loss: 2.012300\n(Iteration 161 / 2450) loss: 2.130855\n"
     ]
    },
    {
     "name": "stdout",
     "output_type": "stream",
     "text": [
      "(Iteration 171 / 2450) loss: 1.966726\n(Iteration 181 / 2450) loss: 1.941836\n(Iteration 191 / 2450) loss: 1.949941\n"
     ]
    },
    {
     "name": "stdout",
     "output_type": "stream",
     "text": [
      "(Iteration 201 / 2450) loss: 2.022314\n(Iteration 211 / 2450) loss: 2.032009\n(Iteration 221 / 2450) loss: 2.139930\n"
     ]
    },
    {
     "name": "stdout",
     "output_type": "stream",
     "text": [
      "(Iteration 231 / 2450) loss: 2.030277\n(Iteration 241 / 2450) loss: 1.891744\n(Epoch 1 / 10) train acc: 0.445000; val_acc: 0.431000\n(Iteration 251 / 2450) loss: 1.916974\n"
     ]
    },
    {
     "name": "stdout",
     "output_type": "stream",
     "text": [
      "(Iteration 261 / 2450) loss: 1.909774\n(Iteration 271 / 2450) loss: 1.891392\n(Iteration 281 / 2450) loss: 1.841806\n"
     ]
    },
    {
     "name": "stdout",
     "output_type": "stream",
     "text": [
      "(Iteration 291 / 2450) loss: 1.876238\n(Iteration 301 / 2450) loss: 1.845493\n(Iteration 311 / 2450) loss: 1.860580\n"
     ]
    },
    {
     "name": "stdout",
     "output_type": "stream",
     "text": [
      "(Iteration 321 / 2450) loss: 1.806454\n(Iteration 331 / 2450) loss: 1.769047\n(Iteration 341 / 2450) loss: 1.982494\n"
     ]
    },
    {
     "name": "stdout",
     "output_type": "stream",
     "text": [
      "(Iteration 351 / 2450) loss: 1.766626\n(Iteration 361 / 2450) loss: 1.908291\n(Iteration 371 / 2450) loss: 1.781618\n"
     ]
    },
    {
     "name": "stdout",
     "output_type": "stream",
     "text": [
      "(Iteration 381 / 2450) loss: 1.837661\n(Iteration 391 / 2450) loss: 1.825434\n(Iteration 401 / 2450) loss: 1.816691\n"
     ]
    },
    {
     "name": "stdout",
     "output_type": "stream",
     "text": [
      "(Iteration 411 / 2450) loss: 1.892683\n(Iteration 421 / 2450) loss: 1.721680\n(Iteration 431 / 2450) loss: 1.768402\n"
     ]
    },
    {
     "name": "stdout",
     "output_type": "stream",
     "text": [
      "(Iteration 441 / 2450) loss: 1.684297\n(Iteration 451 / 2450) loss: 1.785601\n(Iteration 461 / 2450) loss: 1.797068\n"
     ]
    },
    {
     "name": "stdout",
     "output_type": "stream",
     "text": [
      "(Iteration 471 / 2450) loss: 1.714724\n(Iteration 481 / 2450) loss: 1.800594\n(Epoch 2 / 10) train acc: 0.473000; val_acc: 0.459000\n(Iteration 491 / 2450) loss: 1.777912\n"
     ]
    },
    {
     "name": "stdout",
     "output_type": "stream",
     "text": [
      "(Iteration 501 / 2450) loss: 1.761631\n(Iteration 511 / 2450) loss: 1.612728\n(Iteration 521 / 2450) loss: 1.793891\n"
     ]
    },
    {
     "name": "stdout",
     "output_type": "stream",
     "text": [
      "(Iteration 531 / 2450) loss: 1.728010\n(Iteration 541 / 2450) loss: 1.755402\n(Iteration 551 / 2450) loss: 1.794328\n"
     ]
    },
    {
     "name": "stdout",
     "output_type": "stream",
     "text": [
      "(Iteration 561 / 2450) loss: 1.814594\n(Iteration 571 / 2450) loss: 1.711072\n(Iteration 581 / 2450) loss: 1.722160\n"
     ]
    },
    {
     "name": "stdout",
     "output_type": "stream",
     "text": [
      "(Iteration 591 / 2450) loss: 1.612825\n(Iteration 601 / 2450) loss: 1.583233\n(Iteration 611 / 2450) loss: 1.743938\n"
     ]
    },
    {
     "name": "stdout",
     "output_type": "stream",
     "text": [
      "(Iteration 621 / 2450) loss: 1.556326\n(Iteration 631 / 2450) loss: 1.546939\n(Iteration 641 / 2450) loss: 1.533331\n"
     ]
    },
    {
     "name": "stdout",
     "output_type": "stream",
     "text": [
      "(Iteration 651 / 2450) loss: 1.679654\n(Iteration 661 / 2450) loss: 1.829421\n(Iteration 671 / 2450) loss: 1.772354\n"
     ]
    },
    {
     "name": "stdout",
     "output_type": "stream",
     "text": [
      "(Iteration 681 / 2450) loss: 1.628135\n(Iteration 691 / 2450) loss: 1.653978\n(Iteration 701 / 2450) loss: 1.667320\n"
     ]
    },
    {
     "name": "stdout",
     "output_type": "stream",
     "text": [
      "(Iteration 711 / 2450) loss: 1.700177\n(Iteration 721 / 2450) loss: 1.835782\n(Iteration 731 / 2450) loss: 1.758980\n"
     ]
    },
    {
     "name": "stdout",
     "output_type": "stream",
     "text": [
      "(Epoch 3 / 10) train acc: 0.480000; val_acc: 0.483000\n(Iteration 741 / 2450) loss: 1.756808\n(Iteration 751 / 2450) loss: 1.645221\n"
     ]
    },
    {
     "name": "stdout",
     "output_type": "stream",
     "text": [
      "(Iteration 761 / 2450) loss: 1.672662\n(Iteration 771 / 2450) loss: 1.688852\n(Iteration 781 / 2450) loss: 1.587558\n"
     ]
    },
    {
     "name": "stdout",
     "output_type": "stream",
     "text": [
      "(Iteration 791 / 2450) loss: 1.652604\n(Iteration 801 / 2450) loss: 1.579912\n(Iteration 811 / 2450) loss: 1.606061\n"
     ]
    },
    {
     "name": "stdout",
     "output_type": "stream",
     "text": [
      "(Iteration 821 / 2450) loss: 1.580573\n(Iteration 831 / 2450) loss: 1.636367\n(Iteration 841 / 2450) loss: 1.557133\n"
     ]
    },
    {
     "name": "stdout",
     "output_type": "stream",
     "text": [
      "(Iteration 851 / 2450) loss: 1.650451\n(Iteration 861 / 2450) loss: 1.632942\n(Iteration 871 / 2450) loss: 1.567339\n"
     ]
    },
    {
     "name": "stdout",
     "output_type": "stream",
     "text": [
      "(Iteration 881 / 2450) loss: 1.488067\n(Iteration 891 / 2450) loss: 1.619448\n(Iteration 901 / 2450) loss: 1.563977\n"
     ]
    },
    {
     "name": "stdout",
     "output_type": "stream",
     "text": [
      "(Iteration 911 / 2450) loss: 1.574007\n(Iteration 921 / 2450) loss: 1.547593\n(Iteration 931 / 2450) loss: 1.467355\n"
     ]
    },
    {
     "name": "stdout",
     "output_type": "stream",
     "text": [
      "(Iteration 941 / 2450) loss: 1.573947\n(Iteration 951 / 2450) loss: 1.587554\n(Iteration 961 / 2450) loss: 1.673577\n"
     ]
    },
    {
     "name": "stdout",
     "output_type": "stream",
     "text": [
      "(Iteration 971 / 2450) loss: 1.599543\n(Epoch 4 / 10) train acc: 0.481000; val_acc: 0.491000\n(Iteration 981 / 2450) loss: 1.522507\n(Iteration 991 / 2450) loss: 1.527379\n"
     ]
    },
    {
     "name": "stdout",
     "output_type": "stream",
     "text": [
      "(Iteration 1001 / 2450) loss: 1.459182\n(Iteration 1011 / 2450) loss: 1.619086\n(Iteration 1021 / 2450) loss: 1.566501\n"
     ]
    },
    {
     "name": "stdout",
     "output_type": "stream",
     "text": [
      "(Iteration 1031 / 2450) loss: 1.658472\n(Iteration 1041 / 2450) loss: 1.522447\n(Iteration 1051 / 2450) loss: 1.623290\n"
     ]
    },
    {
     "name": "stdout",
     "output_type": "stream",
     "text": [
      "(Iteration 1061 / 2450) loss: 1.673713\n(Iteration 1071 / 2450) loss: 1.508364\n(Iteration 1081 / 2450) loss: 1.432002\n"
     ]
    },
    {
     "name": "stdout",
     "output_type": "stream",
     "text": [
      "(Iteration 1091 / 2450) loss: 1.573535\n(Iteration 1101 / 2450) loss: 1.446354\n(Iteration 1111 / 2450) loss: 1.490159\n"
     ]
    },
    {
     "name": "stdout",
     "output_type": "stream",
     "text": [
      "(Iteration 1121 / 2450) loss: 1.625985\n(Iteration 1131 / 2450) loss: 1.542508\n(Iteration 1141 / 2450) loss: 1.523698\n"
     ]
    },
    {
     "name": "stdout",
     "output_type": "stream",
     "text": [
      "(Iteration 1151 / 2450) loss: 1.494512\n(Iteration 1161 / 2450) loss: 1.344002\n(Iteration 1171 / 2450) loss: 1.420804\n"
     ]
    },
    {
     "name": "stdout",
     "output_type": "stream",
     "text": [
      "(Iteration 1181 / 2450) loss: 1.430727\n(Iteration 1191 / 2450) loss: 1.599156\n(Iteration 1201 / 2450) loss: 1.475674\n"
     ]
    },
    {
     "name": "stdout",
     "output_type": "stream",
     "text": [
      "(Iteration 1211 / 2450) loss: 1.484023\n(Iteration 1221 / 2450) loss: 1.408168\n(Epoch 5 / 10) train acc: 0.537000; val_acc: 0.481000\n(Iteration 1231 / 2450) loss: 1.627743\n"
     ]
    },
    {
     "name": "stdout",
     "output_type": "stream",
     "text": [
      "(Iteration 1241 / 2450) loss: 1.451682\n(Iteration 1251 / 2450) loss: 1.458243\n(Iteration 1261 / 2450) loss: 1.378723\n"
     ]
    },
    {
     "name": "stdout",
     "output_type": "stream",
     "text": [
      "(Iteration 1271 / 2450) loss: 1.527199\n(Iteration 1281 / 2450) loss: 1.570899\n(Iteration 1291 / 2450) loss: 1.352880\n"
     ]
    },
    {
     "name": "stdout",
     "output_type": "stream",
     "text": [
      "(Iteration 1301 / 2450) loss: 1.538095\n(Iteration 1311 / 2450) loss: 1.357901\n(Iteration 1321 / 2450) loss: 1.439080\n"
     ]
    },
    {
     "name": "stdout",
     "output_type": "stream",
     "text": [
      "(Iteration 1331 / 2450) loss: 1.298128\n(Iteration 1341 / 2450) loss: 1.584369\n(Iteration 1351 / 2450) loss: 1.413101\n"
     ]
    },
    {
     "name": "stdout",
     "output_type": "stream",
     "text": [
      "(Iteration 1361 / 2450) loss: 1.421054\n(Iteration 1371 / 2450) loss: 1.500949\n(Iteration 1381 / 2450) loss: 1.366255\n"
     ]
    },
    {
     "name": "stdout",
     "output_type": "stream",
     "text": [
      "(Iteration 1391 / 2450) loss: 1.563417\n(Iteration 1401 / 2450) loss: 1.541428\n(Iteration 1411 / 2450) loss: 1.327237\n"
     ]
    },
    {
     "name": "stdout",
     "output_type": "stream",
     "text": [
      "(Iteration 1421 / 2450) loss: 1.456227\n(Iteration 1431 / 2450) loss: 1.500555\n(Iteration 1441 / 2450) loss: 1.368611\n"
     ]
    },
    {
     "name": "stdout",
     "output_type": "stream",
     "text": [
      "(Iteration 1451 / 2450) loss: 1.531588\n(Iteration 1461 / 2450) loss: 1.475487\n(Epoch 6 / 10) train acc: 0.522000; val_acc: 0.475000\n(Iteration 1471 / 2450) loss: 1.429531\n"
     ]
    },
    {
     "name": "stdout",
     "output_type": "stream",
     "text": [
      "(Iteration 1481 / 2450) loss: 1.457862\n(Iteration 1491 / 2450) loss: 1.433346\n(Iteration 1501 / 2450) loss: 1.530033\n"
     ]
    },
    {
     "name": "stdout",
     "output_type": "stream",
     "text": [
      "(Iteration 1511 / 2450) loss: 1.421322\n(Iteration 1521 / 2450) loss: 1.533927\n(Iteration 1531 / 2450) loss: 1.541143\n"
     ]
    },
    {
     "name": "stdout",
     "output_type": "stream",
     "text": [
      "(Iteration 1541 / 2450) loss: 1.489036\n(Iteration 1551 / 2450) loss: 1.631197\n(Iteration 1561 / 2450) loss: 1.436038\n"
     ]
    },
    {
     "name": "stdout",
     "output_type": "stream",
     "text": [
      "(Iteration 1571 / 2450) loss: 1.584015\n(Iteration 1581 / 2450) loss: 1.300109\n(Iteration 1591 / 2450) loss: 1.347276\n"
     ]
    },
    {
     "name": "stdout",
     "output_type": "stream",
     "text": [
      "(Iteration 1601 / 2450) loss: 1.287153\n(Iteration 1611 / 2450) loss: 1.488859\n(Iteration 1621 / 2450) loss: 1.374513\n"
     ]
    },
    {
     "name": "stdout",
     "output_type": "stream",
     "text": [
      "(Iteration 1631 / 2450) loss: 1.389996\n(Iteration 1641 / 2450) loss: 1.341180\n(Iteration 1651 / 2450) loss: 1.364863\n"
     ]
    },
    {
     "name": "stdout",
     "output_type": "stream",
     "text": [
      "(Iteration 1661 / 2450) loss: 1.523362\n(Iteration 1671 / 2450) loss: 1.451613\n(Iteration 1681 / 2450) loss: 1.454669\n"
     ]
    },
    {
     "name": "stdout",
     "output_type": "stream",
     "text": [
      "(Iteration 1691 / 2450) loss: 1.511492\n(Iteration 1701 / 2450) loss: 1.395442\n(Iteration 1711 / 2450) loss: 1.364625\n"
     ]
    },
    {
     "name": "stdout",
     "output_type": "stream",
     "text": [
      "(Epoch 7 / 10) train acc: 0.535000; val_acc: 0.468000\n(Iteration 1721 / 2450) loss: 1.455681\n(Iteration 1731 / 2450) loss: 1.462375\n"
     ]
    },
    {
     "name": "stdout",
     "output_type": "stream",
     "text": [
      "(Iteration 1741 / 2450) loss: 1.461947\n(Iteration 1751 / 2450) loss: 1.434731\n(Iteration 1761 / 2450) loss: 1.379064\n"
     ]
    },
    {
     "name": "stdout",
     "output_type": "stream",
     "text": [
      "(Iteration 1771 / 2450) loss: 1.230903\n(Iteration 1781 / 2450) loss: 1.445798\n(Iteration 1791 / 2450) loss: 1.362057\n"
     ]
    },
    {
     "name": "stdout",
     "output_type": "stream",
     "text": [
      "(Iteration 1801 / 2450) loss: 1.241574\n(Iteration 1811 / 2450) loss: 1.481841\n(Iteration 1821 / 2450) loss: 1.497501\n"
     ]
    },
    {
     "name": "stdout",
     "output_type": "stream",
     "text": [
      "(Iteration 1831 / 2450) loss: 1.351631\n(Iteration 1841 / 2450) loss: 1.363858\n(Iteration 1851 / 2450) loss: 1.497051\n"
     ]
    },
    {
     "name": "stdout",
     "output_type": "stream",
     "text": [
      "(Iteration 1861 / 2450) loss: 1.632124\n(Iteration 1871 / 2450) loss: 1.344122\n(Iteration 1881 / 2450) loss: 1.533156\n"
     ]
    },
    {
     "name": "stdout",
     "output_type": "stream",
     "text": [
      "(Iteration 1891 / 2450) loss: 1.350251\n(Iteration 1901 / 2450) loss: 1.365339\n(Iteration 1911 / 2450) loss: 1.449061\n"
     ]
    },
    {
     "name": "stdout",
     "output_type": "stream",
     "text": [
      "(Iteration 1921 / 2450) loss: 1.417732\n(Iteration 1931 / 2450) loss: 1.349096\n(Iteration 1941 / 2450) loss: 1.419504\n"
     ]
    },
    {
     "name": "stdout",
     "output_type": "stream",
     "text": [
      "(Iteration 1951 / 2450) loss: 1.661810\n(Epoch 8 / 10) train acc: 0.581000; val_acc: 0.505000\n(Iteration 1961 / 2450) loss: 1.474866\n"
     ]
    },
    {
     "name": "stdout",
     "output_type": "stream",
     "text": [
      "(Iteration 1971 / 2450) loss: 1.396759\n(Iteration 1981 / 2450) loss: 1.560401\n(Iteration 1991 / 2450) loss: 1.372407\n"
     ]
    },
    {
     "name": "stdout",
     "output_type": "stream",
     "text": [
      "(Iteration 2001 / 2450) loss: 1.357633\n(Iteration 2011 / 2450) loss: 1.232368\n(Iteration 2021 / 2450) loss: 1.322613\n"
     ]
    },
    {
     "name": "stdout",
     "output_type": "stream",
     "text": [
      "(Iteration 2031 / 2450) loss: 1.401194\n(Iteration 2041 / 2450) loss: 1.523224\n(Iteration 2051 / 2450) loss: 1.457135\n"
     ]
    },
    {
     "name": "stdout",
     "output_type": "stream",
     "text": [
      "(Iteration 2061 / 2450) loss: 1.361580\n(Iteration 2071 / 2450) loss: 1.455222\n(Iteration 2081 / 2450) loss: 1.469202\n"
     ]
    },
    {
     "name": "stdout",
     "output_type": "stream",
     "text": [
      "(Iteration 2091 / 2450) loss: 1.378744\n(Iteration 2101 / 2450) loss: 1.259686\n(Iteration 2111 / 2450) loss: 1.447929\n"
     ]
    },
    {
     "name": "stdout",
     "output_type": "stream",
     "text": [
      "(Iteration 2121 / 2450) loss: 1.407705\n(Iteration 2131 / 2450) loss: 1.491638\n(Iteration 2141 / 2450) loss: 1.301704\n"
     ]
    },
    {
     "name": "stdout",
     "output_type": "stream",
     "text": [
      "(Iteration 2151 / 2450) loss: 1.512759\n(Iteration 2161 / 2450) loss: 1.415464\n(Iteration 2171 / 2450) loss: 1.285845\n"
     ]
    },
    {
     "name": "stdout",
     "output_type": "stream",
     "text": [
      "(Iteration 2181 / 2450) loss: 1.319099\n(Iteration 2191 / 2450) loss: 1.337714\n(Iteration 2201 / 2450) loss: 1.249833\n"
     ]
    },
    {
     "name": "stdout",
     "output_type": "stream",
     "text": [
      "(Epoch 9 / 10) train acc: 0.582000; val_acc: 0.499000\n(Iteration 2211 / 2450) loss: 1.267192\n(Iteration 2221 / 2450) loss: 1.526973\n"
     ]
    },
    {
     "name": "stdout",
     "output_type": "stream",
     "text": [
      "(Iteration 2231 / 2450) loss: 1.500904\n(Iteration 2241 / 2450) loss: 1.408184\n(Iteration 2251 / 2450) loss: 1.400659\n"
     ]
    },
    {
     "name": "stdout",
     "output_type": "stream",
     "text": [
      "(Iteration 2261 / 2450) loss: 1.315906\n(Iteration 2271 / 2450) loss: 1.527836\n(Iteration 2281 / 2450) loss: 1.478718\n"
     ]
    },
    {
     "name": "stdout",
     "output_type": "stream",
     "text": [
      "(Iteration 2291 / 2450) loss: 1.238262\n(Iteration 2301 / 2450) loss: 1.393139\n(Iteration 2311 / 2450) loss: 1.419372\n"
     ]
    },
    {
     "name": "stdout",
     "output_type": "stream",
     "text": [
      "(Iteration 2321 / 2450) loss: 1.526657\n(Iteration 2331 / 2450) loss: 1.271585\n(Iteration 2341 / 2450) loss: 1.373402\n"
     ]
    },
    {
     "name": "stdout",
     "output_type": "stream",
     "text": [
      "(Iteration 2351 / 2450) loss: 1.384487\n(Iteration 2361 / 2450) loss: 1.467167\n(Iteration 2371 / 2450) loss: 1.325911\n"
     ]
    },
    {
     "name": "stdout",
     "output_type": "stream",
     "text": [
      "(Iteration 2381 / 2450) loss: 1.422251\n(Iteration 2391 / 2450) loss: 1.254323\n(Iteration 2401 / 2450) loss: 1.305562\n"
     ]
    },
    {
     "name": "stdout",
     "output_type": "stream",
     "text": [
      "(Iteration 2411 / 2450) loss: 1.311455\n(Iteration 2421 / 2450) loss: 1.441559\n(Iteration 2431 / 2450) loss: 1.321009\n"
     ]
    },
    {
     "name": "stdout",
     "output_type": "stream",
     "text": [
      "(Iteration 2441 / 2450) loss: 1.244384\n(Epoch 10 / 10) train acc: 0.552000; val_acc: 0.495000\nlearning_rate = 0.001000, reg = 0.001000, best val loss = 0.505000\n(Iteration 1 / 2450) loss: 2.586512\n(Epoch 0 / 10) train acc: 0.106000; val_acc: 0.105000\n"
     ]
    },
    {
     "name": "stdout",
     "output_type": "stream",
     "text": [
      "(Iteration 11 / 2450) loss: 2.309688\n(Iteration 21 / 2450) loss: 2.154122\n(Iteration 31 / 2450) loss: 2.052036\n"
     ]
    },
    {
     "name": "stdout",
     "output_type": "stream",
     "text": [
      "(Iteration 41 / 2450) loss: 1.995476\n(Iteration 51 / 2450) loss: 1.982179\n(Iteration 61 / 2450) loss: 1.930708\n"
     ]
    },
    {
     "name": "stdout",
     "output_type": "stream",
     "text": [
      "(Iteration 71 / 2450) loss: 1.930041\n(Iteration 81 / 2450) loss: 1.876478\n(Iteration 91 / 2450) loss: 1.883697\n"
     ]
    },
    {
     "name": "stdout",
     "output_type": "stream",
     "text": [
      "(Iteration 101 / 2450) loss: 2.001873\n(Iteration 111 / 2450) loss: 2.045629\n(Iteration 121 / 2450) loss: 1.723474\n"
     ]
    },
    {
     "name": "stdout",
     "output_type": "stream",
     "text": [
      "(Iteration 131 / 2450) loss: 1.804553\n(Iteration 141 / 2450) loss: 1.772470\n(Iteration 151 / 2450) loss: 1.813265\n"
     ]
    },
    {
     "name": "stdout",
     "output_type": "stream",
     "text": [
      "(Iteration 161 / 2450) loss: 1.745743\n(Iteration 171 / 2450) loss: 1.638052\n(Iteration 181 / 2450) loss: 1.760126\n"
     ]
    },
    {
     "name": "stdout",
     "output_type": "stream",
     "text": [
      "(Iteration 191 / 2450) loss: 1.785049\n(Iteration 201 / 2450) loss: 1.649074\n(Iteration 211 / 2450) loss: 1.617519\n"
     ]
    },
    {
     "name": "stdout",
     "output_type": "stream",
     "text": [
      "(Iteration 221 / 2450) loss: 1.736083\n(Iteration 231 / 2450) loss: 1.625148\n(Iteration 241 / 2450) loss: 1.711478\n"
     ]
    },
    {
     "name": "stdout",
     "output_type": "stream",
     "text": [
      "(Epoch 1 / 10) train acc: 0.391000; val_acc: 0.409000\n(Iteration 251 / 2450) loss: 1.735945\n(Iteration 261 / 2450) loss: 1.562472\n"
     ]
    },
    {
     "name": "stdout",
     "output_type": "stream",
     "text": [
      "(Iteration 271 / 2450) loss: 1.611454\n(Iteration 281 / 2450) loss: 1.701737\n(Iteration 291 / 2450) loss: 1.607900\n"
     ]
    },
    {
     "name": "stdout",
     "output_type": "stream",
     "text": [
      "(Iteration 301 / 2450) loss: 1.677174\n(Iteration 311 / 2450) loss: 1.741866\n(Iteration 321 / 2450) loss: 1.692881\n"
     ]
    },
    {
     "name": "stdout",
     "output_type": "stream",
     "text": [
      "(Iteration 331 / 2450) loss: 1.579246\n(Iteration 341 / 2450) loss: 1.638305\n(Iteration 351 / 2450) loss: 1.632107\n"
     ]
    },
    {
     "name": "stdout",
     "output_type": "stream",
     "text": [
      "(Iteration 361 / 2450) loss: 1.499828\n(Iteration 371 / 2450) loss: 1.609834\n(Iteration 381 / 2450) loss: 1.509187\n"
     ]
    },
    {
     "name": "stdout",
     "output_type": "stream",
     "text": [
      "(Iteration 391 / 2450) loss: 1.734412\n(Iteration 401 / 2450) loss: 1.507546\n(Iteration 411 / 2450) loss: 1.540390\n"
     ]
    },
    {
     "name": "stdout",
     "output_type": "stream",
     "text": [
      "(Iteration 421 / 2450) loss: 1.651501\n(Iteration 431 / 2450) loss: 1.537986\n(Iteration 441 / 2450) loss: 1.557964\n"
     ]
    },
    {
     "name": "stdout",
     "output_type": "stream",
     "text": [
      "(Iteration 451 / 2450) loss: 1.566307\n(Iteration 461 / 2450) loss: 1.487066\n(Iteration 471 / 2450) loss: 1.569206\n"
     ]
    },
    {
     "name": "stdout",
     "output_type": "stream",
     "text": [
      "(Iteration 481 / 2450) loss: 1.561932\n(Epoch 2 / 10) train acc: 0.449000; val_acc: 0.437000\n(Iteration 491 / 2450) loss: 1.496285\n(Iteration 501 / 2450) loss: 1.470697\n"
     ]
    },
    {
     "name": "stdout",
     "output_type": "stream",
     "text": [
      "(Iteration 511 / 2450) loss: 1.623769\n(Iteration 521 / 2450) loss: 1.558510\n(Iteration 531 / 2450) loss: 1.651776\n"
     ]
    },
    {
     "name": "stdout",
     "output_type": "stream",
     "text": [
      "(Iteration 541 / 2450) loss: 1.663420\n(Iteration 551 / 2450) loss: 1.583008\n(Iteration 561 / 2450) loss: 1.595085\n"
     ]
    },
    {
     "name": "stdout",
     "output_type": "stream",
     "text": [
      "(Iteration 571 / 2450) loss: 1.605807\n(Iteration 581 / 2450) loss: 1.545928\n(Iteration 591 / 2450) loss: 1.499852\n"
     ]
    },
    {
     "name": "stdout",
     "output_type": "stream",
     "text": [
      "(Iteration 601 / 2450) loss: 1.371008\n(Iteration 611 / 2450) loss: 1.478795\n(Iteration 621 / 2450) loss: 1.388576\n"
     ]
    },
    {
     "name": "stdout",
     "output_type": "stream",
     "text": [
      "(Iteration 631 / 2450) loss: 1.478054\n(Iteration 641 / 2450) loss: 1.404455\n(Iteration 651 / 2450) loss: 1.508123\n"
     ]
    },
    {
     "name": "stdout",
     "output_type": "stream",
     "text": [
      "(Iteration 661 / 2450) loss: 1.658064\n(Iteration 671 / 2450) loss: 1.457196\n(Iteration 681 / 2450) loss: 1.548914\n"
     ]
    },
    {
     "name": "stdout",
     "output_type": "stream",
     "text": [
      "(Iteration 691 / 2450) loss: 1.576496\n(Iteration 701 / 2450) loss: 1.504982\n(Iteration 711 / 2450) loss: 1.482889\n"
     ]
    },
    {
     "name": "stdout",
     "output_type": "stream",
     "text": [
      "(Iteration 721 / 2450) loss: 1.480670\n(Iteration 731 / 2450) loss: 1.421673\n(Epoch 3 / 10) train acc: 0.510000; val_acc: 0.463000\n(Iteration 741 / 2450) loss: 1.564446\n"
     ]
    },
    {
     "name": "stdout",
     "output_type": "stream",
     "text": [
      "(Iteration 751 / 2450) loss: 1.452568\n(Iteration 761 / 2450) loss: 1.514689\n(Iteration 771 / 2450) loss: 1.348047\n"
     ]
    },
    {
     "name": "stdout",
     "output_type": "stream",
     "text": [
      "(Iteration 781 / 2450) loss: 1.520748\n(Iteration 791 / 2450) loss: 1.574248\n(Iteration 801 / 2450) loss: 1.424160\n"
     ]
    },
    {
     "name": "stdout",
     "output_type": "stream",
     "text": [
      "(Iteration 811 / 2450) loss: 1.547279\n(Iteration 821 / 2450) loss: 1.595164\n(Iteration 831 / 2450) loss: 1.460636\n"
     ]
    },
    {
     "name": "stdout",
     "output_type": "stream",
     "text": [
      "(Iteration 841 / 2450) loss: 1.345983\n(Iteration 851 / 2450) loss: 1.400916\n(Iteration 861 / 2450) loss: 1.539790\n"
     ]
    },
    {
     "name": "stdout",
     "output_type": "stream",
     "text": [
      "(Iteration 871 / 2450) loss: 1.552241\n(Iteration 881 / 2450) loss: 1.430054\n(Iteration 891 / 2450) loss: 1.476866\n"
     ]
    },
    {
     "name": "stdout",
     "output_type": "stream",
     "text": [
      "(Iteration 901 / 2450) loss: 1.437525\n(Iteration 911 / 2450) loss: 1.363030\n(Iteration 921 / 2450) loss: 1.473691\n"
     ]
    },
    {
     "name": "stdout",
     "output_type": "stream",
     "text": [
      "(Iteration 931 / 2450) loss: 1.354316\n(Iteration 941 / 2450) loss: 1.328886\n(Iteration 951 / 2450) loss: 1.292086\n"
     ]
    },
    {
     "name": "stdout",
     "output_type": "stream",
     "text": [
      "(Iteration 961 / 2450) loss: 1.387990\n(Iteration 971 / 2450) loss: 1.452452\n(Epoch 4 / 10) train acc: 0.506000; val_acc: 0.461000\n(Iteration 981 / 2450) loss: 1.518526\n"
     ]
    },
    {
     "name": "stdout",
     "output_type": "stream",
     "text": [
      "(Iteration 991 / 2450) loss: 1.453080\n(Iteration 1001 / 2450) loss: 1.406391\n(Iteration 1011 / 2450) loss: 1.638916\n"
     ]
    },
    {
     "name": "stdout",
     "output_type": "stream",
     "text": [
      "(Iteration 1021 / 2450) loss: 1.571074\n(Iteration 1031 / 2450) loss: 1.354748\n(Iteration 1041 / 2450) loss: 1.476756\n"
     ]
    },
    {
     "name": "stdout",
     "output_type": "stream",
     "text": [
      "(Iteration 1051 / 2450) loss: 1.277997\n(Iteration 1061 / 2450) loss: 1.488571\n(Iteration 1071 / 2450) loss: 1.469126\n"
     ]
    },
    {
     "name": "stdout",
     "output_type": "stream",
     "text": [
      "(Iteration 1081 / 2450) loss: 1.325251\n(Iteration 1091 / 2450) loss: 1.531220\n(Iteration 1101 / 2450) loss: 1.541743\n"
     ]
    },
    {
     "name": "stdout",
     "output_type": "stream",
     "text": [
      "(Iteration 1111 / 2450) loss: 1.410870\n(Iteration 1121 / 2450) loss: 1.377426\n(Iteration 1131 / 2450) loss: 1.346885\n"
     ]
    },
    {
     "name": "stdout",
     "output_type": "stream",
     "text": [
      "(Iteration 1141 / 2450) loss: 1.398657\n(Iteration 1151 / 2450) loss: 1.323431\n(Iteration 1161 / 2450) loss: 1.294834\n"
     ]
    },
    {
     "name": "stdout",
     "output_type": "stream",
     "text": [
      "(Iteration 1171 / 2450) loss: 1.263975\n(Iteration 1181 / 2450) loss: 1.608095\n(Iteration 1191 / 2450) loss: 1.364554\n"
     ]
    },
    {
     "name": "stdout",
     "output_type": "stream",
     "text": [
      "(Iteration 1201 / 2450) loss: 1.370753\n(Iteration 1211 / 2450) loss: 1.151312\n(Iteration 1221 / 2450) loss: 1.379496\n"
     ]
    },
    {
     "name": "stdout",
     "output_type": "stream",
     "text": [
      "(Epoch 5 / 10) train acc: 0.525000; val_acc: 0.484000\n(Iteration 1231 / 2450) loss: 1.265048\n(Iteration 1241 / 2450) loss: 1.211956\n"
     ]
    },
    {
     "name": "stdout",
     "output_type": "stream",
     "text": [
      "(Iteration 1251 / 2450) loss: 1.282867\n(Iteration 1261 / 2450) loss: 1.311857\n(Iteration 1271 / 2450) loss: 1.412229\n"
     ]
    },
    {
     "name": "stdout",
     "output_type": "stream",
     "text": [
      "(Iteration 1281 / 2450) loss: 1.333542\n(Iteration 1291 / 2450) loss: 1.234967\n(Iteration 1301 / 2450) loss: 1.464786\n"
     ]
    },
    {
     "name": "stdout",
     "output_type": "stream",
     "text": [
      "(Iteration 1311 / 2450) loss: 1.400056\n(Iteration 1321 / 2450) loss: 1.317197\n(Iteration 1331 / 2450) loss: 1.424248\n"
     ]
    },
    {
     "name": "stdout",
     "output_type": "stream",
     "text": [
      "(Iteration 1341 / 2450) loss: 1.449887\n(Iteration 1351 / 2450) loss: 1.382565\n(Iteration 1361 / 2450) loss: 1.370218\n"
     ]
    },
    {
     "name": "stdout",
     "output_type": "stream",
     "text": [
      "(Iteration 1371 / 2450) loss: 1.346738\n(Iteration 1381 / 2450) loss: 1.337119\n(Iteration 1391 / 2450) loss: 1.301073\n"
     ]
    },
    {
     "name": "stdout",
     "output_type": "stream",
     "text": [
      "(Iteration 1401 / 2450) loss: 1.482551\n(Iteration 1411 / 2450) loss: 1.332832\n(Iteration 1421 / 2450) loss: 1.319605\n"
     ]
    },
    {
     "name": "stdout",
     "output_type": "stream",
     "text": [
      "(Iteration 1431 / 2450) loss: 1.362049\n(Iteration 1441 / 2450) loss: 1.501022\n(Iteration 1451 / 2450) loss: 1.290308\n"
     ]
    },
    {
     "name": "stdout",
     "output_type": "stream",
     "text": [
      "(Iteration 1461 / 2450) loss: 1.319392\n(Epoch 6 / 10) train acc: 0.537000; val_acc: 0.499000\n(Iteration 1471 / 2450) loss: 1.378801\n(Iteration 1481 / 2450) loss: 1.361357\n"
     ]
    },
    {
     "name": "stdout",
     "output_type": "stream",
     "text": [
      "(Iteration 1491 / 2450) loss: 1.318386\n(Iteration 1501 / 2450) loss: 1.377264\n(Iteration 1511 / 2450) loss: 1.254381\n"
     ]
    },
    {
     "name": "stdout",
     "output_type": "stream",
     "text": [
      "(Iteration 1521 / 2450) loss: 1.363902\n(Iteration 1531 / 2450) loss: 1.205135\n(Iteration 1541 / 2450) loss: 1.175699\n"
     ]
    },
    {
     "name": "stdout",
     "output_type": "stream",
     "text": [
      "(Iteration 1551 / 2450) loss: 1.267908\n(Iteration 1561 / 2450) loss: 1.169944\n(Iteration 1571 / 2450) loss: 1.339336\n"
     ]
    },
    {
     "name": "stdout",
     "output_type": "stream",
     "text": [
      "(Iteration 1581 / 2450) loss: 1.359385\n(Iteration 1591 / 2450) loss: 1.202969\n(Iteration 1601 / 2450) loss: 1.162815\n"
     ]
    },
    {
     "name": "stdout",
     "output_type": "stream",
     "text": [
      "(Iteration 1611 / 2450) loss: 1.283403\n(Iteration 1621 / 2450) loss: 1.167015\n(Iteration 1631 / 2450) loss: 1.359242\n"
     ]
    },
    {
     "name": "stdout",
     "output_type": "stream",
     "text": [
      "(Iteration 1641 / 2450) loss: 1.274610\n(Iteration 1651 / 2450) loss: 1.343371\n(Iteration 1661 / 2450) loss: 1.371973\n"
     ]
    },
    {
     "name": "stdout",
     "output_type": "stream",
     "text": [
      "(Iteration 1671 / 2450) loss: 1.343969\n(Iteration 1681 / 2450) loss: 1.397714\n(Iteration 1691 / 2450) loss: 1.337738\n"
     ]
    },
    {
     "name": "stdout",
     "output_type": "stream",
     "text": [
      "(Iteration 1701 / 2450) loss: 1.065647\n(Iteration 1711 / 2450) loss: 1.326541\n(Epoch 7 / 10) train acc: 0.582000; val_acc: 0.496000\n(Iteration 1721 / 2450) loss: 1.258688\n"
     ]
    },
    {
     "name": "stdout",
     "output_type": "stream",
     "text": [
      "(Iteration 1731 / 2450) loss: 1.291365\n(Iteration 1741 / 2450) loss: 1.337874\n(Iteration 1751 / 2450) loss: 1.195705\n"
     ]
    },
    {
     "name": "stdout",
     "output_type": "stream",
     "text": [
      "(Iteration 1761 / 2450) loss: 1.357073\n(Iteration 1771 / 2450) loss: 1.275777\n(Iteration 1781 / 2450) loss: 1.236273\n"
     ]
    },
    {
     "name": "stdout",
     "output_type": "stream",
     "text": [
      "(Iteration 1791 / 2450) loss: 1.303999\n(Iteration 1801 / 2450) loss: 1.379776\n(Iteration 1811 / 2450) loss: 1.197716\n"
     ]
    },
    {
     "name": "stdout",
     "output_type": "stream",
     "text": [
      "(Iteration 1821 / 2450) loss: 1.371832\n(Iteration 1831 / 2450) loss: 1.256032\n(Iteration 1841 / 2450) loss: 1.300849\n"
     ]
    },
    {
     "name": "stdout",
     "output_type": "stream",
     "text": [
      "(Iteration 1851 / 2450) loss: 1.356273\n(Iteration 1861 / 2450) loss: 1.426748\n(Iteration 1871 / 2450) loss: 1.437605\n"
     ]
    },
    {
     "name": "stdout",
     "output_type": "stream",
     "text": [
      "(Iteration 1881 / 2450) loss: 1.186519\n(Iteration 1891 / 2450) loss: 1.174951\n(Iteration 1901 / 2450) loss: 1.354744\n"
     ]
    },
    {
     "name": "stdout",
     "output_type": "stream",
     "text": [
      "(Iteration 1911 / 2450) loss: 1.160437\n(Iteration 1921 / 2450) loss: 1.241979\n(Iteration 1931 / 2450) loss: 1.166439\n"
     ]
    },
    {
     "name": "stdout",
     "output_type": "stream",
     "text": [
      "(Iteration 1941 / 2450) loss: 1.272184\n(Iteration 1951 / 2450) loss: 1.293620\n(Epoch 8 / 10) train acc: 0.592000; val_acc: 0.494000\n(Iteration 1961 / 2450) loss: 1.177239\n"
     ]
    },
    {
     "name": "stdout",
     "output_type": "stream",
     "text": [
      "(Iteration 1971 / 2450) loss: 1.084252\n(Iteration 1981 / 2450) loss: 1.169226\n(Iteration 1991 / 2450) loss: 1.352410\n"
     ]
    },
    {
     "name": "stdout",
     "output_type": "stream",
     "text": [
      "(Iteration 2001 / 2450) loss: 1.159892\n(Iteration 2011 / 2450) loss: 1.183601\n(Iteration 2021 / 2450) loss: 1.214643\n"
     ]
    },
    {
     "name": "stdout",
     "output_type": "stream",
     "text": [
      "(Iteration 2031 / 2450) loss: 1.240828\n(Iteration 2041 / 2450) loss: 1.219332\n(Iteration 2051 / 2450) loss: 1.192498\n"
     ]
    },
    {
     "name": "stdout",
     "output_type": "stream",
     "text": [
      "(Iteration 2061 / 2450) loss: 1.248012\n(Iteration 2071 / 2450) loss: 1.282707\n(Iteration 2081 / 2450) loss: 1.206825\n"
     ]
    },
    {
     "name": "stdout",
     "output_type": "stream",
     "text": [
      "(Iteration 2091 / 2450) loss: 1.200341\n(Iteration 2101 / 2450) loss: 1.398253\n(Iteration 2111 / 2450) loss: 1.338950\n"
     ]
    },
    {
     "name": "stdout",
     "output_type": "stream",
     "text": [
      "(Iteration 2121 / 2450) loss: 1.199667\n(Iteration 2131 / 2450) loss: 1.285757\n(Iteration 2141 / 2450) loss: 1.135433\n"
     ]
    },
    {
     "name": "stdout",
     "output_type": "stream",
     "text": [
      "(Iteration 2151 / 2450) loss: 1.228184\n(Iteration 2161 / 2450) loss: 1.279859\n(Iteration 2171 / 2450) loss: 1.275830\n"
     ]
    },
    {
     "name": "stdout",
     "output_type": "stream",
     "text": [
      "(Iteration 2181 / 2450) loss: 1.130674\n(Iteration 2191 / 2450) loss: 1.229711\n(Iteration 2201 / 2450) loss: 1.099810\n"
     ]
    },
    {
     "name": "stdout",
     "output_type": "stream",
     "text": [
      "(Epoch 9 / 10) train acc: 0.591000; val_acc: 0.487000\n(Iteration 2211 / 2450) loss: 1.303193\n(Iteration 2221 / 2450) loss: 1.202935\n"
     ]
    },
    {
     "name": "stdout",
     "output_type": "stream",
     "text": [
      "(Iteration 2231 / 2450) loss: 1.206070\n(Iteration 2241 / 2450) loss: 1.319982\n(Iteration 2251 / 2450) loss: 1.205193\n"
     ]
    },
    {
     "name": "stdout",
     "output_type": "stream",
     "text": [
      "(Iteration 2261 / 2450) loss: 1.239783\n(Iteration 2271 / 2450) loss: 1.359935\n(Iteration 2281 / 2450) loss: 1.158680\n"
     ]
    },
    {
     "name": "stdout",
     "output_type": "stream",
     "text": [
      "(Iteration 2291 / 2450) loss: 1.130874\n(Iteration 2301 / 2450) loss: 1.185963\n(Iteration 2311 / 2450) loss: 1.289457\n"
     ]
    },
    {
     "name": "stdout",
     "output_type": "stream",
     "text": [
      "(Iteration 2321 / 2450) loss: 1.250848\n(Iteration 2331 / 2450) loss: 1.103536\n(Iteration 2341 / 2450) loss: 1.143067\n"
     ]
    },
    {
     "name": "stdout",
     "output_type": "stream",
     "text": [
      "(Iteration 2351 / 2450) loss: 1.461718\n(Iteration 2361 / 2450) loss: 1.264829\n(Iteration 2371 / 2450) loss: 1.227631\n"
     ]
    },
    {
     "name": "stdout",
     "output_type": "stream",
     "text": [
      "(Iteration 2381 / 2450) loss: 1.113043\n(Iteration 2391 / 2450) loss: 1.129376\n(Iteration 2401 / 2450) loss: 1.194456\n"
     ]
    },
    {
     "name": "stdout",
     "output_type": "stream",
     "text": [
      "(Iteration 2411 / 2450) loss: 1.182105\n(Iteration 2421 / 2450) loss: 1.155647\n"
     ]
    },
    {
     "name": "stdout",
     "output_type": "stream",
     "text": [
      "(Iteration 2431 / 2450) loss: 1.326089\n(Iteration 2441 / 2450) loss: 1.035020\n(Epoch 10 / 10) train acc: 0.632000; val_acc: 0.492000\nlearning_rate = 0.001000, reg = 0.000100, best val loss = 0.499000\n"
     ]
    },
    {
     "name": "stdout",
     "output_type": "stream",
     "text": [
      "(Iteration 1 / 2450) loss: 6.953811\n(Epoch 0 / 10) train acc: 0.120000; val_acc: 0.130000\n(Iteration 11 / 2450) loss: 6.271054\n(Iteration 21 / 2450) loss: 5.933964\n"
     ]
    },
    {
     "name": "stdout",
     "output_type": "stream",
     "text": [
      "(Iteration 31 / 2450) loss: 5.912698\n(Iteration 41 / 2450) loss: 5.789740\n(Iteration 51 / 2450) loss: 5.751801\n"
     ]
    },
    {
     "name": "stdout",
     "output_type": "stream",
     "text": [
      "(Iteration 61 / 2450) loss: 5.626288\n(Iteration 71 / 2450) loss: 5.588421\n(Iteration 81 / 2450) loss: 5.438661\n"
     ]
    },
    {
     "name": "stdout",
     "output_type": "stream",
     "text": [
      "(Iteration 91 / 2450) loss: 5.438352\n(Iteration 101 / 2450) loss: 5.354410\n(Iteration 111 / 2450) loss: 5.436991\n"
     ]
    },
    {
     "name": "stdout",
     "output_type": "stream",
     "text": [
      "(Iteration 121 / 2450) loss: 5.257329\n(Iteration 131 / 2450) loss: 5.347373\n(Iteration 141 / 2450) loss: 5.250051\n"
     ]
    },
    {
     "name": "stdout",
     "output_type": "stream",
     "text": [
      "(Iteration 151 / 2450) loss: 5.036085\n(Iteration 161 / 2450) loss: 5.113941\n(Iteration 171 / 2450) loss: 5.070616\n"
     ]
    },
    {
     "name": "stdout",
     "output_type": "stream",
     "text": [
      "(Iteration 181 / 2450) loss: 4.911014\n(Iteration 191 / 2450) loss: 4.961894\n(Iteration 201 / 2450) loss: 4.914446\n"
     ]
    },
    {
     "name": "stdout",
     "output_type": "stream",
     "text": [
      "(Iteration 211 / 2450) loss: 4.928622\n(Iteration 221 / 2450) loss: 4.990059\n(Iteration 231 / 2450) loss: 4.870347\n"
     ]
    },
    {
     "name": "stdout",
     "output_type": "stream",
     "text": [
      "(Iteration 241 / 2450) loss: 4.855608\n(Epoch 1 / 10) train acc: 0.442000; val_acc: 0.436000\n(Iteration 251 / 2450) loss: 4.801065\n(Iteration 261 / 2450) loss: 4.761268\n"
     ]
    },
    {
     "name": "stdout",
     "output_type": "stream",
     "text": [
      "(Iteration 271 / 2450) loss: 4.746396\n(Iteration 281 / 2450) loss: 4.777801\n(Iteration 291 / 2450) loss: 4.723284\n"
     ]
    },
    {
     "name": "stdout",
     "output_type": "stream",
     "text": [
      "(Iteration 301 / 2450) loss: 4.635995\n(Iteration 311 / 2450) loss: 4.615691\n(Iteration 321 / 2450) loss: 4.584418\n"
     ]
    },
    {
     "name": "stdout",
     "output_type": "stream",
     "text": [
      "(Iteration 331 / 2450) loss: 4.551682\n(Iteration 341 / 2450) loss: 4.447195\n(Iteration 351 / 2450) loss: 4.631627\n"
     ]
    },
    {
     "name": "stdout",
     "output_type": "stream",
     "text": [
      "(Iteration 361 / 2450) loss: 4.552588\n(Iteration 371 / 2450) loss: 4.624718\n(Iteration 381 / 2450) loss: 4.660898\n"
     ]
    },
    {
     "name": "stdout",
     "output_type": "stream",
     "text": [
      "(Iteration 391 / 2450) loss: 4.456469\n(Iteration 401 / 2450) loss: 4.425649\n(Iteration 411 / 2450) loss: 4.327297\n"
     ]
    },
    {
     "name": "stdout",
     "output_type": "stream",
     "text": [
      "(Iteration 421 / 2450) loss: 4.349241\n(Iteration 431 / 2450) loss: 4.256965\n(Iteration 441 / 2450) loss: 4.332933\n"
     ]
    },
    {
     "name": "stdout",
     "output_type": "stream",
     "text": [
      "(Iteration 451 / 2450) loss: 4.275863\n(Iteration 461 / 2450) loss: 4.296007\n(Iteration 471 / 2450) loss: 4.402334\n"
     ]
    },
    {
     "name": "stdout",
     "output_type": "stream",
     "text": [
      "(Iteration 481 / 2450) loss: 4.300439\n(Epoch 2 / 10) train acc: 0.485000; val_acc: 0.452000\n(Iteration 491 / 2450) loss: 4.160724\n(Iteration 501 / 2450) loss: 4.287213\n"
     ]
    },
    {
     "name": "stdout",
     "output_type": "stream",
     "text": [
      "(Iteration 511 / 2450) loss: 4.146386\n(Iteration 521 / 2450) loss: 4.188316\n(Iteration 531 / 2450) loss: 4.148011\n"
     ]
    },
    {
     "name": "stdout",
     "output_type": "stream",
     "text": [
      "(Iteration 541 / 2450) loss: 4.108378\n(Iteration 551 / 2450) loss: 4.130564\n(Iteration 561 / 2450) loss: 4.049395\n"
     ]
    },
    {
     "name": "stdout",
     "output_type": "stream",
     "text": [
      "(Iteration 571 / 2450) loss: 3.936851\n(Iteration 581 / 2450) loss: 4.094268\n(Iteration 591 / 2450) loss: 4.069064\n"
     ]
    },
    {
     "name": "stdout",
     "output_type": "stream",
     "text": [
      "(Iteration 601 / 2450) loss: 4.158820\n(Iteration 611 / 2450) loss: 3.913938\n(Iteration 621 / 2450) loss: 3.963513\n"
     ]
    },
    {
     "name": "stdout",
     "output_type": "stream",
     "text": [
      "(Iteration 631 / 2450) loss: 3.900266\n(Iteration 641 / 2450) loss: 3.896485\n(Iteration 651 / 2450) loss: 3.862788\n"
     ]
    },
    {
     "name": "stdout",
     "output_type": "stream",
     "text": [
      "(Iteration 661 / 2450) loss: 3.829864\n(Iteration 671 / 2450) loss: 3.857329\n(Iteration 681 / 2450) loss: 3.970929\n"
     ]
    },
    {
     "name": "stdout",
     "output_type": "stream",
     "text": [
      "(Iteration 691 / 2450) loss: 3.719753\n(Iteration 701 / 2450) loss: 3.809877\n(Iteration 711 / 2450) loss: 3.756536\n"
     ]
    },
    {
     "name": "stdout",
     "output_type": "stream",
     "text": [
      "(Iteration 721 / 2450) loss: 3.775559\n(Iteration 731 / 2450) loss: 3.794121\n(Epoch 3 / 10) train acc: 0.495000; val_acc: 0.471000\n(Iteration 741 / 2450) loss: 3.815486\n"
     ]
    },
    {
     "name": "stdout",
     "output_type": "stream",
     "text": [
      "(Iteration 751 / 2450) loss: 3.720072\n(Iteration 761 / 2450) loss: 3.793132\n(Iteration 771 / 2450) loss: 3.684011\n"
     ]
    },
    {
     "name": "stdout",
     "output_type": "stream",
     "text": [
      "(Iteration 781 / 2450) loss: 3.661403\n(Iteration 791 / 2450) loss: 3.691604\n(Iteration 801 / 2450) loss: 3.692159\n"
     ]
    },
    {
     "name": "stdout",
     "output_type": "stream",
     "text": [
      "(Iteration 811 / 2450) loss: 3.659830\n(Iteration 821 / 2450) loss: 3.628481\n(Iteration 831 / 2450) loss: 3.620868\n"
     ]
    },
    {
     "name": "stdout",
     "output_type": "stream",
     "text": [
      "(Iteration 841 / 2450) loss: 3.483571\n(Iteration 851 / 2450) loss: 3.611288\n(Iteration 861 / 2450) loss: 3.553689\n"
     ]
    },
    {
     "name": "stdout",
     "output_type": "stream",
     "text": [
      "(Iteration 871 / 2450) loss: 3.579251\n(Iteration 881 / 2450) loss: 3.585993\n(Iteration 891 / 2450) loss: 3.504933\n"
     ]
    },
    {
     "name": "stdout",
     "output_type": "stream",
     "text": [
      "(Iteration 901 / 2450) loss: 3.447005\n(Iteration 911 / 2450) loss: 3.642992\n(Iteration 921 / 2450) loss: 3.448877\n"
     ]
    },
    {
     "name": "stdout",
     "output_type": "stream",
     "text": [
      "(Iteration 931 / 2450) loss: 3.540940\n(Iteration 941 / 2450) loss: 3.507191\n(Iteration 951 / 2450) loss: 3.525493\n"
     ]
    },
    {
     "name": "stdout",
     "output_type": "stream",
     "text": [
      "(Iteration 961 / 2450) loss: 3.467575\n(Iteration 971 / 2450) loss: 3.540115\n(Epoch 4 / 10) train acc: 0.516000; val_acc: 0.483000\n(Iteration 981 / 2450) loss: 3.451035\n"
     ]
    },
    {
     "name": "stdout",
     "output_type": "stream",
     "text": [
      "(Iteration 991 / 2450) loss: 3.341486\n(Iteration 1001 / 2450) loss: 3.331329\n(Iteration 1011 / 2450) loss: 3.484729\n"
     ]
    },
    {
     "name": "stdout",
     "output_type": "stream",
     "text": [
      "(Iteration 1021 / 2450) loss: 3.439109\n(Iteration 1031 / 2450) loss: 3.423767\n(Iteration 1041 / 2450) loss: 3.180193\n"
     ]
    },
    {
     "name": "stdout",
     "output_type": "stream",
     "text": [
      "(Iteration 1051 / 2450) loss: 3.359411\n(Iteration 1061 / 2450) loss: 3.412134\n(Iteration 1071 / 2450) loss: 3.310107\n"
     ]
    },
    {
     "name": "stdout",
     "output_type": "stream",
     "text": [
      "(Iteration 1081 / 2450) loss: 3.367863\n(Iteration 1091 / 2450) loss: 3.340937\n(Iteration 1101 / 2450) loss: 3.258699\n"
     ]
    },
    {
     "name": "stdout",
     "output_type": "stream",
     "text": [
      "(Iteration 1111 / 2450) loss: 3.440187\n(Iteration 1121 / 2450) loss: 3.330961\n(Iteration 1131 / 2450) loss: 3.373996\n"
     ]
    },
    {
     "name": "stdout",
     "output_type": "stream",
     "text": [
      "(Iteration 1141 / 2450) loss: 3.318356\n(Iteration 1151 / 2450) loss: 3.214549\n(Iteration 1161 / 2450) loss: 3.233528\n"
     ]
    },
    {
     "name": "stdout",
     "output_type": "stream",
     "text": [
      "(Iteration 1171 / 2450) loss: 3.280581\n(Iteration 1181 / 2450) loss: 3.286154\n(Iteration 1191 / 2450) loss: 3.243677\n"
     ]
    },
    {
     "name": "stdout",
     "output_type": "stream",
     "text": [
      "(Iteration 1201 / 2450) loss: 3.328108\n(Iteration 1211 / 2450) loss: 3.142600\n(Iteration 1221 / 2450) loss: 3.073085\n"
     ]
    },
    {
     "name": "stdout",
     "output_type": "stream",
     "text": [
      "(Epoch 5 / 10) train acc: 0.488000; val_acc: 0.491000\n(Iteration 1231 / 2450) loss: 3.211890\n(Iteration 1241 / 2450) loss: 3.169733\n"
     ]
    },
    {
     "name": "stdout",
     "output_type": "stream",
     "text": [
      "(Iteration 1251 / 2450) loss: 3.192820\n(Iteration 1261 / 2450) loss: 3.137572\n(Iteration 1271 / 2450) loss: 3.155562\n"
     ]
    },
    {
     "name": "stdout",
     "output_type": "stream",
     "text": [
      "(Iteration 1281 / 2450) loss: 3.073034\n(Iteration 1291 / 2450) loss: 3.086150\n(Iteration 1301 / 2450) loss: 3.054660\n"
     ]
    },
    {
     "name": "stdout",
     "output_type": "stream",
     "text": [
      "(Iteration 1311 / 2450) loss: 3.137139\n(Iteration 1321 / 2450) loss: 3.133315\n(Iteration 1331 / 2450) loss: 3.060609\n"
     ]
    },
    {
     "name": "stdout",
     "output_type": "stream",
     "text": [
      "(Iteration 1341 / 2450) loss: 3.019786\n(Iteration 1351 / 2450) loss: 3.072620\n(Iteration 1361 / 2450) loss: 3.153168\n"
     ]
    },
    {
     "name": "stdout",
     "output_type": "stream",
     "text": [
      "(Iteration 1371 / 2450) loss: 2.998363\n(Iteration 1381 / 2450) loss: 3.076872\n(Iteration 1391 / 2450) loss: 2.983463\n"
     ]
    },
    {
     "name": "stdout",
     "output_type": "stream",
     "text": [
      "(Iteration 1401 / 2450) loss: 3.030928\n(Iteration 1411 / 2450) loss: 2.941563\n(Iteration 1421 / 2450) loss: 3.147270\n"
     ]
    },
    {
     "name": "stdout",
     "output_type": "stream",
     "text": [
      "(Iteration 1431 / 2450) loss: 2.952080\n(Iteration 1441 / 2450) loss: 3.070425\n(Iteration 1451 / 2450) loss: 2.968533\n"
     ]
    },
    {
     "name": "stdout",
     "output_type": "stream",
     "text": [
      "(Iteration 1461 / 2450) loss: 3.086104\n(Epoch 6 / 10) train acc: 0.515000; val_acc: 0.496000\n(Iteration 1471 / 2450) loss: 2.869633\n(Iteration 1481 / 2450) loss: 3.008925\n"
     ]
    },
    {
     "name": "stdout",
     "output_type": "stream",
     "text": [
      "(Iteration 1491 / 2450) loss: 2.944885\n(Iteration 1501 / 2450) loss: 2.856484\n(Iteration 1511 / 2450) loss: 2.925415\n"
     ]
    },
    {
     "name": "stdout",
     "output_type": "stream",
     "text": [
      "(Iteration 1521 / 2450) loss: 2.964865\n(Iteration 1531 / 2450) loss: 2.831597\n(Iteration 1541 / 2450) loss: 2.952863\n"
     ]
    },
    {
     "name": "stdout",
     "output_type": "stream",
     "text": [
      "(Iteration 1551 / 2450) loss: 2.957572\n(Iteration 1561 / 2450) loss: 2.817077\n(Iteration 1571 / 2450) loss: 2.908697\n"
     ]
    },
    {
     "name": "stdout",
     "output_type": "stream",
     "text": [
      "(Iteration 1581 / 2450) loss: 2.996506\n(Iteration 1591 / 2450) loss: 2.864854\n(Iteration 1601 / 2450) loss: 2.897245\n"
     ]
    },
    {
     "name": "stdout",
     "output_type": "stream",
     "text": [
      "(Iteration 1611 / 2450) loss: 2.775812\n(Iteration 1621 / 2450) loss: 2.791706\n(Iteration 1631 / 2450) loss: 2.853574\n"
     ]
    },
    {
     "name": "stdout",
     "output_type": "stream",
     "text": [
      "(Iteration 1641 / 2450) loss: 2.844478\n(Iteration 1651 / 2450) loss: 2.716711\n(Iteration 1661 / 2450) loss: 2.665875\n"
     ]
    },
    {
     "name": "stdout",
     "output_type": "stream",
     "text": [
      "(Iteration 1671 / 2450) loss: 2.808463\n(Iteration 1681 / 2450) loss: 2.885688\n(Iteration 1691 / 2450) loss: 2.964944\n"
     ]
    },
    {
     "name": "stdout",
     "output_type": "stream",
     "text": [
      "(Iteration 1701 / 2450) loss: 2.797711\n(Iteration 1711 / 2450) loss: 2.918039\n(Epoch 7 / 10) train acc: 0.547000; val_acc: 0.506000\n(Iteration 1721 / 2450) loss: 2.838048\n"
     ]
    },
    {
     "name": "stdout",
     "output_type": "stream",
     "text": [
      "(Iteration 1731 / 2450) loss: 2.773099\n(Iteration 1741 / 2450) loss: 2.681028\n(Iteration 1751 / 2450) loss: 2.577946\n"
     ]
    },
    {
     "name": "stdout",
     "output_type": "stream",
     "text": [
      "(Iteration 1761 / 2450) loss: 2.800725\n(Iteration 1771 / 2450) loss: 2.713460\n(Iteration 1781 / 2450) loss: 2.741853\n"
     ]
    },
    {
     "name": "stdout",
     "output_type": "stream",
     "text": [
      "(Iteration 1791 / 2450) loss: 2.712916\n(Iteration 1801 / 2450) loss: 2.649943\n(Iteration 1811 / 2450) loss: 2.723838\n"
     ]
    },
    {
     "name": "stdout",
     "output_type": "stream",
     "text": [
      "(Iteration 1821 / 2450) loss: 2.645144\n(Iteration 1831 / 2450) loss: 2.812469\n(Iteration 1841 / 2450) loss: 2.718221\n"
     ]
    },
    {
     "name": "stdout",
     "output_type": "stream",
     "text": [
      "(Iteration 1851 / 2450) loss: 2.646115\n(Iteration 1861 / 2450) loss: 2.696204\n(Iteration 1871 / 2450) loss: 2.769151\n"
     ]
    },
    {
     "name": "stdout",
     "output_type": "stream",
     "text": [
      "(Iteration 1881 / 2450) loss: 2.619310\n(Iteration 1891 / 2450) loss: 2.716327\n(Iteration 1901 / 2450) loss: 2.611829\n"
     ]
    },
    {
     "name": "stdout",
     "output_type": "stream",
     "text": [
      "(Iteration 1911 / 2450) loss: 2.624394\n(Iteration 1921 / 2450) loss: 2.609129\n(Iteration 1931 / 2450) loss: 2.637398\n"
     ]
    },
    {
     "name": "stdout",
     "output_type": "stream",
     "text": [
      "(Iteration 1941 / 2450) loss: 2.540602\n(Iteration 1951 / 2450) loss: 2.722120\n(Epoch 8 / 10) train acc: 0.513000; val_acc: 0.493000\n(Iteration 1961 / 2450) loss: 2.649157\n"
     ]
    },
    {
     "name": "stdout",
     "output_type": "stream",
     "text": [
      "(Iteration 1971 / 2450) loss: 2.604609\n(Iteration 1981 / 2450) loss: 2.566193\n(Iteration 1991 / 2450) loss: 2.601645\n"
     ]
    },
    {
     "name": "stdout",
     "output_type": "stream",
     "text": [
      "(Iteration 2001 / 2450) loss: 2.689066\n(Iteration 2011 / 2450) loss: 2.528990\n(Iteration 2021 / 2450) loss: 2.550920\n"
     ]
    },
    {
     "name": "stdout",
     "output_type": "stream",
     "text": [
      "(Iteration 2031 / 2450) loss: 2.609660\n(Iteration 2041 / 2450) loss: 2.608552\n(Iteration 2051 / 2450) loss: 2.672775\n"
     ]
    },
    {
     "name": "stdout",
     "output_type": "stream",
     "text": [
      "(Iteration 2061 / 2450) loss: 2.653644\n(Iteration 2071 / 2450) loss: 2.555525\n(Iteration 2081 / 2450) loss: 2.606212\n"
     ]
    },
    {
     "name": "stdout",
     "output_type": "stream",
     "text": [
      "(Iteration 2091 / 2450) loss: 2.425799\n(Iteration 2101 / 2450) loss: 2.523038\n(Iteration 2111 / 2450) loss: 2.573980\n"
     ]
    },
    {
     "name": "stdout",
     "output_type": "stream",
     "text": [
      "(Iteration 2121 / 2450) loss: 2.607851\n(Iteration 2131 / 2450) loss: 2.438553\n(Iteration 2141 / 2450) loss: 2.504855\n"
     ]
    },
    {
     "name": "stdout",
     "output_type": "stream",
     "text": [
      "(Iteration 2151 / 2450) loss: 2.611973\n(Iteration 2161 / 2450) loss: 2.438459\n(Iteration 2171 / 2450) loss: 2.586445\n"
     ]
    },
    {
     "name": "stdout",
     "output_type": "stream",
     "text": [
      "(Iteration 2181 / 2450) loss: 2.467251\n(Iteration 2191 / 2450) loss: 2.481267\n(Iteration 2201 / 2450) loss: 2.580295\n"
     ]
    },
    {
     "name": "stdout",
     "output_type": "stream",
     "text": [
      "(Epoch 9 / 10) train acc: 0.566000; val_acc: 0.489000\n(Iteration 2211 / 2450) loss: 2.493151\n(Iteration 2221 / 2450) loss: 2.505748\n"
     ]
    },
    {
     "name": "stdout",
     "output_type": "stream",
     "text": [
      "(Iteration 2231 / 2450) loss: 2.516386\n(Iteration 2241 / 2450) loss: 2.583978\n(Iteration 2251 / 2450) loss: 2.487916\n"
     ]
    },
    {
     "name": "stdout",
     "output_type": "stream",
     "text": [
      "(Iteration 2261 / 2450) loss: 2.491536\n(Iteration 2271 / 2450) loss: 2.615158\n(Iteration 2281 / 2450) loss: 2.286691\n"
     ]
    },
    {
     "name": "stdout",
     "output_type": "stream",
     "text": [
      "(Iteration 2291 / 2450) loss: 2.480919\n(Iteration 2301 / 2450) loss: 2.555247\n(Iteration 2311 / 2450) loss: 2.398565\n"
     ]
    },
    {
     "name": "stdout",
     "output_type": "stream",
     "text": [
      "(Iteration 2321 / 2450) loss: 2.451212\n(Iteration 2331 / 2450) loss: 2.448717\n(Iteration 2341 / 2450) loss: 2.326356\n"
     ]
    },
    {
     "name": "stdout",
     "output_type": "stream",
     "text": [
      "(Iteration 2351 / 2450) loss: 2.431102\n(Iteration 2361 / 2450) loss: 2.405327\n(Iteration 2371 / 2450) loss: 2.570021\n"
     ]
    },
    {
     "name": "stdout",
     "output_type": "stream",
     "text": [
      "(Iteration 2381 / 2450) loss: 2.371119\n(Iteration 2391 / 2450) loss: 2.394726\n(Iteration 2401 / 2450) loss: 2.368464\n"
     ]
    },
    {
     "name": "stdout",
     "output_type": "stream",
     "text": [
      "(Iteration 2411 / 2450) loss: 2.322733\n(Iteration 2421 / 2450) loss: 2.421175\n(Iteration 2431 / 2450) loss: 2.288653\n"
     ]
    },
    {
     "name": "stdout",
     "output_type": "stream",
     "text": [
      "(Iteration 2441 / 2450) loss: 2.390538\n(Epoch 10 / 10) train acc: 0.580000; val_acc: 0.508000\nlearning_rate = 0.000100, reg = 0.010000, best val loss = 0.508000\n(Iteration 1 / 2450) loss: 2.856514\n(Epoch 0 / 10) train acc: 0.144000; val_acc: 0.147000\n"
     ]
    },
    {
     "name": "stdout",
     "output_type": "stream",
     "text": [
      "(Iteration 11 / 2450) loss: 2.447826\n(Iteration 21 / 2450) loss: 2.433135\n(Iteration 31 / 2450) loss: 2.333848\n"
     ]
    },
    {
     "name": "stdout",
     "output_type": "stream",
     "text": [
      "(Iteration 41 / 2450) loss: 2.382346\n(Iteration 51 / 2450) loss: 2.235420\n(Iteration 61 / 2450) loss: 2.241106\n"
     ]
    },
    {
     "name": "stdout",
     "output_type": "stream",
     "text": [
      "(Iteration 71 / 2450) loss: 2.235753\n(Iteration 81 / 2450) loss: 2.156380\n(Iteration 91 / 2450) loss: 2.197716\n"
     ]
    },
    {
     "name": "stdout",
     "output_type": "stream",
     "text": [
      "(Iteration 101 / 2450) loss: 2.337086\n(Iteration 111 / 2450) loss: 2.232157\n(Iteration 121 / 2450) loss: 2.146175\n"
     ]
    },
    {
     "name": "stdout",
     "output_type": "stream",
     "text": [
      "(Iteration 131 / 2450) loss: 2.057151\n(Iteration 141 / 2450) loss: 2.142444\n(Iteration 151 / 2450) loss: 2.176279\n"
     ]
    },
    {
     "name": "stdout",
     "output_type": "stream",
     "text": [
      "(Iteration 161 / 2450) loss: 2.077217\n(Iteration 171 / 2450) loss: 2.023466\n(Iteration 181 / 2450) loss: 2.149823\n"
     ]
    },
    {
     "name": "stdout",
     "output_type": "stream",
     "text": [
      "(Iteration 191 / 2450) loss: 2.097784\n(Iteration 201 / 2450) loss: 2.087788\n(Iteration 211 / 2450) loss: 1.993549\n"
     ]
    },
    {
     "name": "stdout",
     "output_type": "stream",
     "text": [
      "(Iteration 221 / 2450) loss: 2.082211\n(Iteration 231 / 2450) loss: 1.990385\n(Iteration 241 / 2450) loss: 2.072445\n"
     ]
    },
    {
     "name": "stdout",
     "output_type": "stream",
     "text": [
      "(Epoch 1 / 10) train acc: 0.435000; val_acc: 0.390000\n(Iteration 251 / 2450) loss: 2.018939\n(Iteration 261 / 2450) loss: 1.988480\n"
     ]
    },
    {
     "name": "stdout",
     "output_type": "stream",
     "text": [
      "(Iteration 271 / 2450) loss: 2.154597\n(Iteration 281 / 2450) loss: 2.141041\n(Iteration 291 / 2450) loss: 2.071212\n"
     ]
    },
    {
     "name": "stdout",
     "output_type": "stream",
     "text": [
      "(Iteration 301 / 2450) loss: 1.978528\n(Iteration 311 / 2450) loss: 1.962595\n(Iteration 321 / 2450) loss: 2.082323\n"
     ]
    },
    {
     "name": "stdout",
     "output_type": "stream",
     "text": [
      "(Iteration 331 / 2450) loss: 1.928891\n(Iteration 341 / 2450) loss: 2.050274\n(Iteration 351 / 2450) loss: 2.070018\n"
     ]
    },
    {
     "name": "stdout",
     "output_type": "stream",
     "text": [
      "(Iteration 361 / 2450) loss: 2.028996\n(Iteration 371 / 2450) loss: 1.947073\n(Iteration 381 / 2450) loss: 1.986392\n"
     ]
    },
    {
     "name": "stdout",
     "output_type": "stream",
     "text": [
      "(Iteration 391 / 2450) loss: 1.973849\n(Iteration 401 / 2450) loss: 1.995393\n(Iteration 411 / 2450) loss: 2.105248\n"
     ]
    },
    {
     "name": "stdout",
     "output_type": "stream",
     "text": [
      "(Iteration 421 / 2450) loss: 1.875343\n(Iteration 431 / 2450) loss: 1.952046\n(Iteration 441 / 2450) loss: 1.970277\n"
     ]
    },
    {
     "name": "stdout",
     "output_type": "stream",
     "text": [
      "(Iteration 451 / 2450) loss: 1.929378\n(Iteration 461 / 2450) loss: 2.045852\n(Iteration 471 / 2450) loss: 2.002339\n"
     ]
    },
    {
     "name": "stdout",
     "output_type": "stream",
     "text": [
      "(Iteration 481 / 2450) loss: 2.030804\n(Epoch 2 / 10) train acc: 0.441000; val_acc: 0.427000\n(Iteration 491 / 2450) loss: 1.988327\n(Iteration 501 / 2450) loss: 2.071720\n"
     ]
    },
    {
     "name": "stdout",
     "output_type": "stream",
     "text": [
      "(Iteration 511 / 2450) loss: 1.907697\n(Iteration 521 / 2450) loss: 2.023822\n(Iteration 531 / 2450) loss: 1.982419\n"
     ]
    },
    {
     "name": "stdout",
     "output_type": "stream",
     "text": [
      "(Iteration 541 / 2450) loss: 1.956836\n(Iteration 551 / 2450) loss: 1.907168\n(Iteration 561 / 2450) loss: 2.084852\n"
     ]
    },
    {
     "name": "stdout",
     "output_type": "stream",
     "text": [
      "(Iteration 571 / 2450) loss: 1.966982\n(Iteration 581 / 2450) loss: 1.921987\n(Iteration 591 / 2450) loss: 1.885281\n"
     ]
    },
    {
     "name": "stdout",
     "output_type": "stream",
     "text": [
      "(Iteration 601 / 2450) loss: 2.054050\n(Iteration 611 / 2450) loss: 1.801648\n(Iteration 621 / 2450) loss: 1.924495\n"
     ]
    },
    {
     "name": "stdout",
     "output_type": "stream",
     "text": [
      "(Iteration 631 / 2450) loss: 1.910670\n(Iteration 641 / 2450) loss: 2.003245\n(Iteration 651 / 2450) loss: 1.971382\n"
     ]
    },
    {
     "name": "stdout",
     "output_type": "stream",
     "text": [
      "(Iteration 661 / 2450) loss: 1.919829\n(Iteration 671 / 2450) loss: 1.784059\n(Iteration 681 / 2450) loss: 2.001671\n"
     ]
    },
    {
     "name": "stdout",
     "output_type": "stream",
     "text": [
      "(Iteration 691 / 2450) loss: 1.923074\n(Iteration 701 / 2450) loss: 2.020495\n(Iteration 711 / 2450) loss: 1.954583\n"
     ]
    },
    {
     "name": "stdout",
     "output_type": "stream",
     "text": [
      "(Iteration 721 / 2450) loss: 2.032832\n(Iteration 731 / 2450) loss: 1.915182\n(Epoch 3 / 10) train acc: 0.477000; val_acc: 0.444000\n(Iteration 741 / 2450) loss: 1.933266\n"
     ]
    },
    {
     "name": "stdout",
     "output_type": "stream",
     "text": [
      "(Iteration 751 / 2450) loss: 1.803506\n(Iteration 761 / 2450) loss: 1.826536\n(Iteration 771 / 2450) loss: 1.965022\n"
     ]
    },
    {
     "name": "stdout",
     "output_type": "stream",
     "text": [
      "(Iteration 781 / 2450) loss: 1.887121\n(Iteration 791 / 2450) loss: 1.901786\n(Iteration 801 / 2450) loss: 1.895923\n"
     ]
    },
    {
     "name": "stdout",
     "output_type": "stream",
     "text": [
      "(Iteration 811 / 2450) loss: 1.886620\n(Iteration 821 / 2450) loss: 1.879394\n(Iteration 831 / 2450) loss: 1.942605\n"
     ]
    },
    {
     "name": "stdout",
     "output_type": "stream",
     "text": [
      "(Iteration 841 / 2450) loss: 1.858983\n(Iteration 851 / 2450) loss: 1.816166\n(Iteration 861 / 2450) loss: 1.827831\n"
     ]
    },
    {
     "name": "stdout",
     "output_type": "stream",
     "text": [
      "(Iteration 871 / 2450) loss: 1.982517\n(Iteration 881 / 2450) loss: 1.920025\n(Iteration 891 / 2450) loss: 1.939056\n"
     ]
    },
    {
     "name": "stdout",
     "output_type": "stream",
     "text": [
      "(Iteration 901 / 2450) loss: 1.826055\n(Iteration 911 / 2450) loss: 1.974275\n(Iteration 921 / 2450) loss: 1.818742\n"
     ]
    },
    {
     "name": "stdout",
     "output_type": "stream",
     "text": [
      "(Iteration 931 / 2450) loss: 1.775249\n(Iteration 941 / 2450) loss: 1.771425\n(Iteration 951 / 2450) loss: 1.956664\n"
     ]
    },
    {
     "name": "stdout",
     "output_type": "stream",
     "text": [
      "(Iteration 961 / 2450) loss: 1.719166\n(Iteration 971 / 2450) loss: 1.795948\n(Epoch 4 / 10) train acc: 0.500000; val_acc: 0.460000\n(Iteration 981 / 2450) loss: 1.876928\n"
     ]
    },
    {
     "name": "stdout",
     "output_type": "stream",
     "text": [
      "(Iteration 991 / 2450) loss: 1.856791\n(Iteration 1001 / 2450) loss: 1.843720\n(Iteration 1011 / 2450) loss: 1.778796\n"
     ]
    },
    {
     "name": "stdout",
     "output_type": "stream",
     "text": [
      "(Iteration 1021 / 2450) loss: 1.818350\n(Iteration 1031 / 2450) loss: 1.769921\n(Iteration 1041 / 2450) loss: 1.935533\n"
     ]
    },
    {
     "name": "stdout",
     "output_type": "stream",
     "text": [
      "(Iteration 1051 / 2450) loss: 1.806545\n(Iteration 1061 / 2450) loss: 1.972860\n(Iteration 1071 / 2450) loss: 1.741778\n"
     ]
    },
    {
     "name": "stdout",
     "output_type": "stream",
     "text": [
      "(Iteration 1081 / 2450) loss: 1.785620\n(Iteration 1091 / 2450) loss: 1.870709\n(Iteration 1101 / 2450) loss: 1.851634\n"
     ]
    },
    {
     "name": "stdout",
     "output_type": "stream",
     "text": [
      "(Iteration 1111 / 2450) loss: 1.894475\n(Iteration 1121 / 2450) loss: 1.827299\n(Iteration 1131 / 2450) loss: 1.791540\n"
     ]
    },
    {
     "name": "stdout",
     "output_type": "stream",
     "text": [
      "(Iteration 1141 / 2450) loss: 1.820832\n(Iteration 1151 / 2450) loss: 1.848133\n(Iteration 1161 / 2450) loss: 1.867142\n"
     ]
    },
    {
     "name": "stdout",
     "output_type": "stream",
     "text": [
      "(Iteration 1171 / 2450) loss: 1.808893\n(Iteration 1181 / 2450) loss: 2.007728\n(Iteration 1191 / 2450) loss: 1.832156\n"
     ]
    },
    {
     "name": "stdout",
     "output_type": "stream",
     "text": [
      "(Iteration 1201 / 2450) loss: 1.829532\n(Iteration 1211 / 2450) loss: 1.748578\n(Iteration 1221 / 2450) loss: 1.807152\n"
     ]
    },
    {
     "name": "stdout",
     "output_type": "stream",
     "text": [
      "(Epoch 5 / 10) train acc: 0.491000; val_acc: 0.466000\n(Iteration 1231 / 2450) loss: 1.853815\n(Iteration 1241 / 2450) loss: 1.846440\n"
     ]
    },
    {
     "name": "stdout",
     "output_type": "stream",
     "text": [
      "(Iteration 1251 / 2450) loss: 1.793336\n(Iteration 1261 / 2450) loss: 1.771172\n(Iteration 1271 / 2450) loss: 1.876182\n"
     ]
    },
    {
     "name": "stdout",
     "output_type": "stream",
     "text": [
      "(Iteration 1281 / 2450) loss: 1.701853\n(Iteration 1291 / 2450) loss: 1.793303\n(Iteration 1301 / 2450) loss: 1.842236\n"
     ]
    },
    {
     "name": "stdout",
     "output_type": "stream",
     "text": [
      "(Iteration 1311 / 2450) loss: 1.841832\n(Iteration 1321 / 2450) loss: 1.905615\n(Iteration 1331 / 2450) loss: 1.711911\n"
     ]
    },
    {
     "name": "stdout",
     "output_type": "stream",
     "text": [
      "(Iteration 1341 / 2450) loss: 1.733680\n(Iteration 1351 / 2450) loss: 1.780087\n(Iteration 1361 / 2450) loss: 1.861911\n"
     ]
    },
    {
     "name": "stdout",
     "output_type": "stream",
     "text": [
      "(Iteration 1371 / 2450) loss: 1.749865\n(Iteration 1381 / 2450) loss: 1.739247\n(Iteration 1391 / 2450) loss: 1.790083\n"
     ]
    },
    {
     "name": "stdout",
     "output_type": "stream",
     "text": [
      "(Iteration 1401 / 2450) loss: 1.798976\n(Iteration 1411 / 2450) loss: 1.884777\n(Iteration 1421 / 2450) loss: 1.739955\n"
     ]
    },
    {
     "name": "stdout",
     "output_type": "stream",
     "text": [
      "(Iteration 1431 / 2450) loss: 1.813214\n(Iteration 1441 / 2450) loss: 1.746320\n(Iteration 1451 / 2450) loss: 1.858838\n"
     ]
    },
    {
     "name": "stdout",
     "output_type": "stream",
     "text": [
      "(Iteration 1461 / 2450) loss: 1.720703\n(Epoch 6 / 10) train acc: 0.520000; val_acc: 0.477000\n(Iteration 1471 / 2450) loss: 1.727794\n(Iteration 1481 / 2450) loss: 1.684721\n"
     ]
    },
    {
     "name": "stdout",
     "output_type": "stream",
     "text": [
      "(Iteration 1491 / 2450) loss: 1.843188\n(Iteration 1501 / 2450) loss: 1.709997\n(Iteration 1511 / 2450) loss: 1.855331\n"
     ]
    },
    {
     "name": "stdout",
     "output_type": "stream",
     "text": [
      "(Iteration 1521 / 2450) loss: 1.607217\n(Iteration 1531 / 2450) loss: 1.831712\n(Iteration 1541 / 2450) loss: 1.787962\n"
     ]
    },
    {
     "name": "stdout",
     "output_type": "stream",
     "text": [
      "(Iteration 1551 / 2450) loss: 1.591165\n(Iteration 1561 / 2450) loss: 1.697166\n(Iteration 1571 / 2450) loss: 1.738805\n"
     ]
    },
    {
     "name": "stdout",
     "output_type": "stream",
     "text": [
      "(Iteration 1581 / 2450) loss: 1.748447\n(Iteration 1591 / 2450) loss: 1.791001\n(Iteration 1601 / 2450) loss: 1.752141\n"
     ]
    },
    {
     "name": "stdout",
     "output_type": "stream",
     "text": [
      "(Iteration 1611 / 2450) loss: 1.718237\n(Iteration 1621 / 2450) loss: 1.551874\n(Iteration 1631 / 2450) loss: 1.757817\n"
     ]
    },
    {
     "name": "stdout",
     "output_type": "stream",
     "text": [
      "(Iteration 1641 / 2450) loss: 1.642813\n(Iteration 1651 / 2450) loss: 1.671947\n(Iteration 1661 / 2450) loss: 1.656258\n"
     ]
    },
    {
     "name": "stdout",
     "output_type": "stream",
     "text": [
      "(Iteration 1671 / 2450) loss: 1.721242\n(Iteration 1681 / 2450) loss: 1.784202\n(Iteration 1691 / 2450) loss: 1.759728\n"
     ]
    },
    {
     "name": "stdout",
     "output_type": "stream",
     "text": [
      "(Iteration 1701 / 2450) loss: 1.872617\n(Iteration 1711 / 2450) loss: 1.758782\n(Epoch 7 / 10) train acc: 0.533000; val_acc: 0.474000\n(Iteration 1721 / 2450) loss: 1.706227\n"
     ]
    },
    {
     "name": "stdout",
     "output_type": "stream",
     "text": [
      "(Iteration 1731 / 2450) loss: 1.725334\n(Iteration 1741 / 2450) loss: 1.662494\n(Iteration 1751 / 2450) loss: 1.724576\n"
     ]
    },
    {
     "name": "stdout",
     "output_type": "stream",
     "text": [
      "(Iteration 1761 / 2450) loss: 1.661484\n(Iteration 1771 / 2450) loss: 1.601470\n(Iteration 1781 / 2450) loss: 1.700220\n"
     ]
    },
    {
     "name": "stdout",
     "output_type": "stream",
     "text": [
      "(Iteration 1791 / 2450) loss: 1.653695\n(Iteration 1801 / 2450) loss: 1.705373\n(Iteration 1811 / 2450) loss: 1.683238\n"
     ]
    },
    {
     "name": "stdout",
     "output_type": "stream",
     "text": [
      "(Iteration 1821 / 2450) loss: 1.726352\n(Iteration 1831 / 2450) loss: 1.557728\n(Iteration 1841 / 2450) loss: 1.785712\n"
     ]
    },
    {
     "name": "stdout",
     "output_type": "stream",
     "text": [
      "(Iteration 1851 / 2450) loss: 1.795335\n(Iteration 1861 / 2450) loss: 1.777414\n(Iteration 1871 / 2450) loss: 1.819712\n"
     ]
    },
    {
     "name": "stdout",
     "output_type": "stream",
     "text": [
      "(Iteration 1881 / 2450) loss: 1.764581\n(Iteration 1891 / 2450) loss: 1.827734\n(Iteration 1901 / 2450) loss: 1.586193\n"
     ]
    },
    {
     "name": "stdout",
     "output_type": "stream",
     "text": [
      "(Iteration 1911 / 2450) loss: 1.644253\n(Iteration 1921 / 2450) loss: 1.809384\n(Iteration 1931 / 2450) loss: 1.741816\n"
     ]
    },
    {
     "name": "stdout",
     "output_type": "stream",
     "text": [
      "(Iteration 1941 / 2450) loss: 1.706050\n(Iteration 1951 / 2450) loss: 1.696263\n(Epoch 8 / 10) train acc: 0.543000; val_acc: 0.478000\n(Iteration 1961 / 2450) loss: 1.746579\n"
     ]
    },
    {
     "name": "stdout",
     "output_type": "stream",
     "text": [
      "(Iteration 1971 / 2450) loss: 1.698989\n(Iteration 1981 / 2450) loss: 1.651468\n(Iteration 1991 / 2450) loss: 1.704277\n"
     ]
    },
    {
     "name": "stdout",
     "output_type": "stream",
     "text": [
      "(Iteration 2001 / 2450) loss: 1.697760\n(Iteration 2011 / 2450) loss: 1.611234\n(Iteration 2021 / 2450) loss: 1.555179\n"
     ]
    },
    {
     "name": "stdout",
     "output_type": "stream",
     "text": [
      "(Iteration 2031 / 2450) loss: 1.537315\n(Iteration 2041 / 2450) loss: 1.749963\n(Iteration 2051 / 2450) loss: 1.717863\n"
     ]
    },
    {
     "name": "stdout",
     "output_type": "stream",
     "text": [
      "(Iteration 2061 / 2450) loss: 1.653506\n(Iteration 2071 / 2450) loss: 1.627293\n(Iteration 2081 / 2450) loss: 1.731399\n"
     ]
    },
    {
     "name": "stdout",
     "output_type": "stream",
     "text": [
      "(Iteration 2091 / 2450) loss: 1.679463\n(Iteration 2101 / 2450) loss: 1.617504\n(Iteration 2111 / 2450) loss: 1.654802\n"
     ]
    },
    {
     "name": "stdout",
     "output_type": "stream",
     "text": [
      "(Iteration 2121 / 2450) loss: 1.653220\n(Iteration 2131 / 2450) loss: 1.638104\n(Iteration 2141 / 2450) loss: 1.706790\n"
     ]
    },
    {
     "name": "stdout",
     "output_type": "stream",
     "text": [
      "(Iteration 2151 / 2450) loss: 1.740974\n(Iteration 2161 / 2450) loss: 1.646685\n(Iteration 2171 / 2450) loss: 1.648923\n"
     ]
    },
    {
     "name": "stdout",
     "output_type": "stream",
     "text": [
      "(Iteration 2181 / 2450) loss: 1.561481\n(Iteration 2191 / 2450) loss: 1.574593\n(Iteration 2201 / 2450) loss: 1.584351\n"
     ]
    },
    {
     "name": "stdout",
     "output_type": "stream",
     "text": [
      "(Epoch 9 / 10) train acc: 0.562000; val_acc: 0.487000\n(Iteration 2211 / 2450) loss: 1.735587\n(Iteration 2221 / 2450) loss: 1.555243\n"
     ]
    },
    {
     "name": "stdout",
     "output_type": "stream",
     "text": [
      "(Iteration 2231 / 2450) loss: 1.685984\n(Iteration 2241 / 2450) loss: 1.759545\n(Iteration 2251 / 2450) loss: 1.562976\n"
     ]
    },
    {
     "name": "stdout",
     "output_type": "stream",
     "text": [
      "(Iteration 2261 / 2450) loss: 1.620559\n(Iteration 2271 / 2450) loss: 1.588083\n(Iteration 2281 / 2450) loss: 1.732466\n"
     ]
    },
    {
     "name": "stdout",
     "output_type": "stream",
     "text": [
      "(Iteration 2291 / 2450) loss: 1.584083\n(Iteration 2301 / 2450) loss: 1.749075\n(Iteration 2311 / 2450) loss: 1.702989\n"
     ]
    },
    {
     "name": "stdout",
     "output_type": "stream",
     "text": [
      "(Iteration 2321 / 2450) loss: 1.524757\n(Iteration 2331 / 2450) loss: 1.585741\n(Iteration 2341 / 2450) loss: 1.646446\n"
     ]
    },
    {
     "name": "stdout",
     "output_type": "stream",
     "text": [
      "(Iteration 2351 / 2450) loss: 1.605105\n(Iteration 2361 / 2450) loss: 1.542712\n(Iteration 2371 / 2450) loss: 1.579226\n"
     ]
    },
    {
     "name": "stdout",
     "output_type": "stream",
     "text": [
      "(Iteration 2381 / 2450) loss: 1.635409\n(Iteration 2391 / 2450) loss: 1.546555\n(Iteration 2401 / 2450) loss: 1.610251\n"
     ]
    },
    {
     "name": "stdout",
     "output_type": "stream",
     "text": [
      "(Iteration 2411 / 2450) loss: 1.677896\n(Iteration 2421 / 2450) loss: 1.609388\n(Iteration 2431 / 2450) loss: 1.683842\n"
     ]
    },
    {
     "name": "stdout",
     "output_type": "stream",
     "text": [
      "(Iteration 2441 / 2450) loss: 1.532283\n(Epoch 10 / 10) train acc: 0.589000; val_acc: 0.493000\nlearning_rate = 0.000100, reg = 0.001000, best val loss = 0.493000\n(Iteration 1 / 2450) loss: 2.656373\n(Epoch 0 / 10) train acc: 0.134000; val_acc: 0.154000\n"
     ]
    },
    {
     "name": "stdout",
     "output_type": "stream",
     "text": [
      "(Iteration 11 / 2450) loss: 2.139293\n(Iteration 21 / 2450) loss: 1.950673\n(Iteration 31 / 2450) loss: 1.989266\n"
     ]
    },
    {
     "name": "stdout",
     "output_type": "stream",
     "text": [
      "(Iteration 41 / 2450) loss: 1.892787\n(Iteration 51 / 2450) loss: 1.869215\n(Iteration 61 / 2450) loss: 1.940334\n"
     ]
    },
    {
     "name": "stdout",
     "output_type": "stream",
     "text": [
      "(Iteration 71 / 2450) loss: 1.867027\n(Iteration 81 / 2450) loss: 1.788144\n(Iteration 91 / 2450) loss: 1.840461\n"
     ]
    },
    {
     "name": "stdout",
     "output_type": "stream",
     "text": [
      "(Iteration 101 / 2450) loss: 1.650230\n(Iteration 111 / 2450) loss: 1.812336\n(Iteration 121 / 2450) loss: 1.723309\n"
     ]
    },
    {
     "name": "stdout",
     "output_type": "stream",
     "text": [
      "(Iteration 131 / 2450) loss: 1.769009\n(Iteration 141 / 2450) loss: 1.762369\n(Iteration 151 / 2450) loss: 1.897230\n"
     ]
    },
    {
     "name": "stdout",
     "output_type": "stream",
     "text": [
      "(Iteration 161 / 2450) loss: 1.693603\n(Iteration 171 / 2450) loss: 1.716951\n(Iteration 181 / 2450) loss: 1.705846\n"
     ]
    },
    {
     "name": "stdout",
     "output_type": "stream",
     "text": [
      "(Iteration 191 / 2450) loss: 1.755758\n(Iteration 201 / 2450) loss: 1.634697\n(Iteration 211 / 2450) loss: 1.668116\n"
     ]
    },
    {
     "name": "stdout",
     "output_type": "stream",
     "text": [
      "(Iteration 221 / 2450) loss: 1.714787\n(Iteration 231 / 2450) loss: 1.673645\n(Iteration 241 / 2450) loss: 1.580008\n"
     ]
    },
    {
     "name": "stdout",
     "output_type": "stream",
     "text": [
      "(Epoch 1 / 10) train acc: 0.407000; val_acc: 0.408000\n(Iteration 251 / 2450) loss: 1.631961\n(Iteration 261 / 2450) loss: 1.746386\n"
     ]
    },
    {
     "name": "stdout",
     "output_type": "stream",
     "text": [
      "(Iteration 271 / 2450) loss: 1.663914\n(Iteration 281 / 2450) loss: 1.724525\n(Iteration 291 / 2450) loss: 1.722708\n"
     ]
    },
    {
     "name": "stdout",
     "output_type": "stream",
     "text": [
      "(Iteration 301 / 2450) loss: 1.642844\n(Iteration 311 / 2450) loss: 1.565249\n(Iteration 321 / 2450) loss: 1.657938\n"
     ]
    },
    {
     "name": "stdout",
     "output_type": "stream",
     "text": [
      "(Iteration 331 / 2450) loss: 1.656123\n(Iteration 341 / 2450) loss: 1.605314\n(Iteration 351 / 2450) loss: 1.645153\n"
     ]
    },
    {
     "name": "stdout",
     "output_type": "stream",
     "text": [
      "(Iteration 361 / 2450) loss: 1.586040\n(Iteration 371 / 2450) loss: 1.670579\n(Iteration 381 / 2450) loss: 1.604186\n"
     ]
    },
    {
     "name": "stdout",
     "output_type": "stream",
     "text": [
      "(Iteration 391 / 2450) loss: 1.562548\n(Iteration 401 / 2450) loss: 1.540828\n(Iteration 411 / 2450) loss: 1.629829\n"
     ]
    },
    {
     "name": "stdout",
     "output_type": "stream",
     "text": [
      "(Iteration 421 / 2450) loss: 1.724549\n(Iteration 431 / 2450) loss: 1.573106\n(Iteration 441 / 2450) loss: 1.584390\n"
     ]
    },
    {
     "name": "stdout",
     "output_type": "stream",
     "text": [
      "(Iteration 451 / 2450) loss: 1.591642\n(Iteration 461 / 2450) loss: 1.655087\n(Iteration 471 / 2450) loss: 1.587221\n"
     ]
    },
    {
     "name": "stdout",
     "output_type": "stream",
     "text": [
      "(Iteration 481 / 2450) loss: 1.625971\n(Epoch 2 / 10) train acc: 0.461000; val_acc: 0.416000\n(Iteration 491 / 2450) loss: 1.542750\n(Iteration 501 / 2450) loss: 1.684977\n"
     ]
    },
    {
     "name": "stdout",
     "output_type": "stream",
     "text": [
      "(Iteration 511 / 2450) loss: 1.610616\n(Iteration 521 / 2450) loss: 1.539230\n(Iteration 531 / 2450) loss: 1.587106\n"
     ]
    },
    {
     "name": "stdout",
     "output_type": "stream",
     "text": [
      "(Iteration 541 / 2450) loss: 1.621021\n(Iteration 551 / 2450) loss: 1.614811\n(Iteration 561 / 2450) loss: 1.580669\n"
     ]
    },
    {
     "name": "stdout",
     "output_type": "stream",
     "text": [
      "(Iteration 571 / 2450) loss: 1.504441\n(Iteration 581 / 2450) loss: 1.493844\n(Iteration 591 / 2450) loss: 1.591896\n"
     ]
    },
    {
     "name": "stdout",
     "output_type": "stream",
     "text": [
      "(Iteration 601 / 2450) loss: 1.746831\n(Iteration 611 / 2450) loss: 1.525307\n(Iteration 621 / 2450) loss: 1.653212\n"
     ]
    },
    {
     "name": "stdout",
     "output_type": "stream",
     "text": [
      "(Iteration 631 / 2450) loss: 1.496373\n(Iteration 641 / 2450) loss: 1.575206\n(Iteration 651 / 2450) loss: 1.604762\n"
     ]
    },
    {
     "name": "stdout",
     "output_type": "stream",
     "text": [
      "(Iteration 661 / 2450) loss: 1.637537\n(Iteration 671 / 2450) loss: 1.502431\n(Iteration 681 / 2450) loss: 1.605336\n"
     ]
    },
    {
     "name": "stdout",
     "output_type": "stream",
     "text": [
      "(Iteration 691 / 2450) loss: 1.441059\n(Iteration 701 / 2450) loss: 1.595071\n(Iteration 711 / 2450) loss: 1.444626\n"
     ]
    },
    {
     "name": "stdout",
     "output_type": "stream",
     "text": [
      "(Iteration 721 / 2450) loss: 1.379329\n(Iteration 731 / 2450) loss: 1.573626\n(Epoch 3 / 10) train acc: 0.468000; val_acc: 0.444000\n(Iteration 741 / 2450) loss: 1.533930\n"
     ]
    },
    {
     "name": "stdout",
     "output_type": "stream",
     "text": [
      "(Iteration 751 / 2450) loss: 1.549163\n(Iteration 761 / 2450) loss: 1.415145\n(Iteration 771 / 2450) loss: 1.484658\n"
     ]
    },
    {
     "name": "stdout",
     "output_type": "stream",
     "text": [
      "(Iteration 781 / 2450) loss: 1.563647\n(Iteration 791 / 2450) loss: 1.467833\n(Iteration 801 / 2450) loss: 1.697460\n"
     ]
    },
    {
     "name": "stdout",
     "output_type": "stream",
     "text": [
      "(Iteration 811 / 2450) loss: 1.513115\n(Iteration 821 / 2450) loss: 1.569751\n(Iteration 831 / 2450) loss: 1.646281\n"
     ]
    },
    {
     "name": "stdout",
     "output_type": "stream",
     "text": [
      "(Iteration 841 / 2450) loss: 1.600590\n(Iteration 851 / 2450) loss: 1.691109\n(Iteration 861 / 2450) loss: 1.536085\n"
     ]
    },
    {
     "name": "stdout",
     "output_type": "stream",
     "text": [
      "(Iteration 871 / 2450) loss: 1.606172\n(Iteration 881 / 2450) loss: 1.462005\n(Iteration 891 / 2450) loss: 1.436519\n"
     ]
    },
    {
     "name": "stdout",
     "output_type": "stream",
     "text": [
      "(Iteration 901 / 2450) loss: 1.431747\n(Iteration 911 / 2450) loss: 1.456304\n(Iteration 921 / 2450) loss: 1.557160\n"
     ]
    },
    {
     "name": "stdout",
     "output_type": "stream",
     "text": [
      "(Iteration 931 / 2450) loss: 1.564079\n(Iteration 941 / 2450) loss: 1.517541\n(Iteration 951 / 2450) loss: 1.544625\n"
     ]
    },
    {
     "name": "stdout",
     "output_type": "stream",
     "text": [
      "(Iteration 961 / 2450) loss: 1.550193\n(Iteration 971 / 2450) loss: 1.426231\n(Epoch 4 / 10) train acc: 0.489000; val_acc: 0.440000\n(Iteration 981 / 2450) loss: 1.443825\n"
     ]
    },
    {
     "name": "stdout",
     "output_type": "stream",
     "text": [
      "(Iteration 991 / 2450) loss: 1.467714\n(Iteration 1001 / 2450) loss: 1.383135\n(Iteration 1011 / 2450) loss: 1.487538\n"
     ]
    },
    {
     "name": "stdout",
     "output_type": "stream",
     "text": [
      "(Iteration 1021 / 2450) loss: 1.482768\n(Iteration 1031 / 2450) loss: 1.562189\n(Iteration 1041 / 2450) loss: 1.414741\n"
     ]
    },
    {
     "name": "stdout",
     "output_type": "stream",
     "text": [
      "(Iteration 1051 / 2450) loss: 1.442079\n(Iteration 1061 / 2450) loss: 1.352054\n(Iteration 1071 / 2450) loss: 1.370348\n"
     ]
    },
    {
     "name": "stdout",
     "output_type": "stream",
     "text": [
      "(Iteration 1081 / 2450) loss: 1.463459\n(Iteration 1091 / 2450) loss: 1.571618\n(Iteration 1101 / 2450) loss: 1.462857\n"
     ]
    },
    {
     "name": "stdout",
     "output_type": "stream",
     "text": [
      "(Iteration 1111 / 2450) loss: 1.252825\n(Iteration 1121 / 2450) loss: 1.626240\n(Iteration 1131 / 2450) loss: 1.438764\n"
     ]
    },
    {
     "name": "stdout",
     "output_type": "stream",
     "text": [
      "(Iteration 1141 / 2450) loss: 1.430389\n(Iteration 1151 / 2450) loss: 1.559177\n(Iteration 1161 / 2450) loss: 1.469199\n"
     ]
    },
    {
     "name": "stdout",
     "output_type": "stream",
     "text": [
      "(Iteration 1171 / 2450) loss: 1.403754\n(Iteration 1181 / 2450) loss: 1.481932\n(Iteration 1191 / 2450) loss: 1.463069\n"
     ]
    },
    {
     "name": "stdout",
     "output_type": "stream",
     "text": [
      "(Iteration 1201 / 2450) loss: 1.367590\n(Iteration 1211 / 2450) loss: 1.402260\n(Iteration 1221 / 2450) loss: 1.460389\n"
     ]
    },
    {
     "name": "stdout",
     "output_type": "stream",
     "text": [
      "(Epoch 5 / 10) train acc: 0.542000; val_acc: 0.447000\n(Iteration 1231 / 2450) loss: 1.402839\n(Iteration 1241 / 2450) loss: 1.276862\n"
     ]
    },
    {
     "name": "stdout",
     "output_type": "stream",
     "text": [
      "(Iteration 1251 / 2450) loss: 1.588607\n(Iteration 1261 / 2450) loss: 1.509325\n(Iteration 1271 / 2450) loss: 1.368997\n"
     ]
    },
    {
     "name": "stdout",
     "output_type": "stream",
     "text": [
      "(Iteration 1281 / 2450) loss: 1.489982\n(Iteration 1291 / 2450) loss: 1.443157\n(Iteration 1301 / 2450) loss: 1.362033\n"
     ]
    },
    {
     "name": "stdout",
     "output_type": "stream",
     "text": [
      "(Iteration 1311 / 2450) loss: 1.423209\n(Iteration 1321 / 2450) loss: 1.377618\n(Iteration 1331 / 2450) loss: 1.474092\n"
     ]
    },
    {
     "name": "stdout",
     "output_type": "stream",
     "text": [
      "(Iteration 1341 / 2450) loss: 1.286191\n(Iteration 1351 / 2450) loss: 1.242343\n(Iteration 1361 / 2450) loss: 1.390588\n"
     ]
    },
    {
     "name": "stdout",
     "output_type": "stream",
     "text": [
      "(Iteration 1371 / 2450) loss: 1.381444\n(Iteration 1381 / 2450) loss: 1.325884\n(Iteration 1391 / 2450) loss: 1.575383\n"
     ]
    },
    {
     "name": "stdout",
     "output_type": "stream",
     "text": [
      "(Iteration 1401 / 2450) loss: 1.402684\n(Iteration 1411 / 2450) loss: 1.551654\n(Iteration 1421 / 2450) loss: 1.404485\n"
     ]
    },
    {
     "name": "stdout",
     "output_type": "stream",
     "text": [
      "(Iteration 1431 / 2450) loss: 1.320921\n(Iteration 1441 / 2450) loss: 1.406858\n(Iteration 1451 / 2450) loss: 1.432323\n"
     ]
    },
    {
     "name": "stdout",
     "output_type": "stream",
     "text": [
      "(Iteration 1461 / 2450) loss: 1.382120\n(Epoch 6 / 10) train acc: 0.524000; val_acc: 0.452000\n(Iteration 1471 / 2450) loss: 1.450808\n(Iteration 1481 / 2450) loss: 1.527225\n"
     ]
    },
    {
     "name": "stdout",
     "output_type": "stream",
     "text": [
      "(Iteration 1491 / 2450) loss: 1.552407\n(Iteration 1501 / 2450) loss: 1.324226\n(Iteration 1511 / 2450) loss: 1.385929\n"
     ]
    },
    {
     "name": "stdout",
     "output_type": "stream",
     "text": [
      "(Iteration 1521 / 2450) loss: 1.506664\n(Iteration 1531 / 2450) loss: 1.193915\n(Iteration 1541 / 2450) loss: 1.408518\n"
     ]
    },
    {
     "name": "stdout",
     "output_type": "stream",
     "text": [
      "(Iteration 1551 / 2450) loss: 1.284433\n(Iteration 1561 / 2450) loss: 1.488362\n(Iteration 1571 / 2450) loss: 1.351277\n"
     ]
    },
    {
     "name": "stdout",
     "output_type": "stream",
     "text": [
      "(Iteration 1581 / 2450) loss: 1.406578\n(Iteration 1591 / 2450) loss: 1.379949\n(Iteration 1601 / 2450) loss: 1.465337\n"
     ]
    },
    {
     "name": "stdout",
     "output_type": "stream",
     "text": [
      "(Iteration 1611 / 2450) loss: 1.469569\n(Iteration 1621 / 2450) loss: 1.392049\n(Iteration 1631 / 2450) loss: 1.402507\n"
     ]
    },
    {
     "name": "stdout",
     "output_type": "stream",
     "text": [
      "(Iteration 1641 / 2450) loss: 1.376800\n(Iteration 1651 / 2450) loss: 1.408953\n(Iteration 1661 / 2450) loss: 1.369297\n"
     ]
    },
    {
     "name": "stdout",
     "output_type": "stream",
     "text": [
      "(Iteration 1671 / 2450) loss: 1.406529\n(Iteration 1681 / 2450) loss: 1.424321\n(Iteration 1691 / 2450) loss: 1.368803\n"
     ]
    },
    {
     "name": "stdout",
     "output_type": "stream",
     "text": [
      "(Iteration 1701 / 2450) loss: 1.350226\n(Iteration 1711 / 2450) loss: 1.389231\n(Epoch 7 / 10) train acc: 0.549000; val_acc: 0.479000\n(Iteration 1721 / 2450) loss: 1.425791\n"
     ]
    },
    {
     "name": "stdout",
     "output_type": "stream",
     "text": [
      "(Iteration 1731 / 2450) loss: 1.393090\n(Iteration 1741 / 2450) loss: 1.362535\n(Iteration 1751 / 2450) loss: 1.410081\n"
     ]
    },
    {
     "name": "stdout",
     "output_type": "stream",
     "text": [
      "(Iteration 1761 / 2450) loss: 1.354309\n(Iteration 1771 / 2450) loss: 1.276491\n(Iteration 1781 / 2450) loss: 1.152577\n"
     ]
    },
    {
     "name": "stdout",
     "output_type": "stream",
     "text": [
      "(Iteration 1791 / 2450) loss: 1.333510\n(Iteration 1801 / 2450) loss: 1.439544\n(Iteration 1811 / 2450) loss: 1.296496\n"
     ]
    },
    {
     "name": "stdout",
     "output_type": "stream",
     "text": [
      "(Iteration 1821 / 2450) loss: 1.419055\n(Iteration 1831 / 2450) loss: 1.337352\n"
     ]
    },
    {
     "name": "stdout",
     "output_type": "stream",
     "text": [
      "(Iteration 1841 / 2450) loss: 1.408007\n(Iteration 1851 / 2450) loss: 1.349251\n(Iteration 1861 / 2450) loss: 1.191306\n"
     ]
    },
    {
     "name": "stdout",
     "output_type": "stream",
     "text": [
      "(Iteration 1871 / 2450) loss: 1.549978\n(Iteration 1881 / 2450) loss: 1.221656\n(Iteration 1891 / 2450) loss: 1.402870\n"
     ]
    },
    {
     "name": "stdout",
     "output_type": "stream",
     "text": [
      "(Iteration 1901 / 2450) loss: 1.239279\n(Iteration 1911 / 2450) loss: 1.291057\n(Iteration 1921 / 2450) loss: 1.339301\n"
     ]
    },
    {
     "name": "stdout",
     "output_type": "stream",
     "text": [
      "(Iteration 1931 / 2450) loss: 1.290734\n(Iteration 1941 / 2450) loss: 1.365881\n(Iteration 1951 / 2450) loss: 1.369895\n"
     ]
    },
    {
     "name": "stdout",
     "output_type": "stream",
     "text": [
      "(Epoch 8 / 10) train acc: 0.538000; val_acc: 0.478000\n(Iteration 1961 / 2450) loss: 1.221063\n(Iteration 1971 / 2450) loss: 1.193257\n(Iteration 1981 / 2450) loss: 1.442850\n"
     ]
    },
    {
     "name": "stdout",
     "output_type": "stream",
     "text": [
      "(Iteration 1991 / 2450) loss: 1.357908\n(Iteration 2001 / 2450) loss: 1.500097\n(Iteration 2011 / 2450) loss: 1.241580\n"
     ]
    },
    {
     "name": "stdout",
     "output_type": "stream",
     "text": [
      "(Iteration 2021 / 2450) loss: 1.281769\n(Iteration 2031 / 2450) loss: 1.283274\n(Iteration 2041 / 2450) loss: 1.327950\n"
     ]
    },
    {
     "name": "stdout",
     "output_type": "stream",
     "text": [
      "(Iteration 2051 / 2450) loss: 1.432474\n(Iteration 2061 / 2450) loss: 1.256256\n(Iteration 2071 / 2450) loss: 1.383621\n"
     ]
    },
    {
     "name": "stdout",
     "output_type": "stream",
     "text": [
      "(Iteration 2081 / 2450) loss: 1.304060\n(Iteration 2091 / 2450) loss: 1.257272\n(Iteration 2101 / 2450) loss: 1.282545\n"
     ]
    },
    {
     "name": "stdout",
     "output_type": "stream",
     "text": [
      "(Iteration 2111 / 2450) loss: 1.251615\n(Iteration 2121 / 2450) loss: 1.408067\n(Iteration 2131 / 2450) loss: 1.289657\n"
     ]
    },
    {
     "name": "stdout",
     "output_type": "stream",
     "text": [
      "(Iteration 2141 / 2450) loss: 1.246518\n(Iteration 2151 / 2450) loss: 1.271473\n(Iteration 2161 / 2450) loss: 1.418382\n"
     ]
    },
    {
     "name": "stdout",
     "output_type": "stream",
     "text": [
      "(Iteration 2171 / 2450) loss: 1.294358\n(Iteration 2181 / 2450) loss: 1.336172\n(Iteration 2191 / 2450) loss: 1.253473\n"
     ]
    },
    {
     "name": "stdout",
     "output_type": "stream",
     "text": [
      "(Iteration 2201 / 2450) loss: 1.232658\n(Epoch 9 / 10) train acc: 0.571000; val_acc: 0.471000\n(Iteration 2211 / 2450) loss: 1.396027\n(Iteration 2221 / 2450) loss: 1.281965\n"
     ]
    },
    {
     "name": "stdout",
     "output_type": "stream",
     "text": [
      "(Iteration 2231 / 2450) loss: 1.399538\n(Iteration 2241 / 2450) loss: 1.357157\n(Iteration 2251 / 2450) loss: 1.223901\n"
     ]
    },
    {
     "name": "stdout",
     "output_type": "stream",
     "text": [
      "(Iteration 2261 / 2450) loss: 1.145015\n(Iteration 2271 / 2450) loss: 1.328980\n(Iteration 2281 / 2450) loss: 1.250307\n"
     ]
    },
    {
     "name": "stdout",
     "output_type": "stream",
     "text": [
      "(Iteration 2291 / 2450) loss: 1.190427\n(Iteration 2301 / 2450) loss: 1.182473\n(Iteration 2311 / 2450) loss: 1.336441\n"
     ]
    },
    {
     "name": "stdout",
     "output_type": "stream",
     "text": [
      "(Iteration 2321 / 2450) loss: 1.333100\n(Iteration 2331 / 2450) loss: 1.304065\n(Iteration 2341 / 2450) loss: 1.339028\n"
     ]
    },
    {
     "name": "stdout",
     "output_type": "stream",
     "text": [
      "(Iteration 2351 / 2450) loss: 1.173939\n(Iteration 2361 / 2450) loss: 1.149689\n(Iteration 2371 / 2450) loss: 1.328335\n"
     ]
    },
    {
     "name": "stdout",
     "output_type": "stream",
     "text": [
      "(Iteration 2381 / 2450) loss: 1.322346\n(Iteration 2391 / 2450) loss: 1.302103\n(Iteration 2401 / 2450) loss: 1.266672\n"
     ]
    },
    {
     "name": "stdout",
     "output_type": "stream",
     "text": [
      "(Iteration 2411 / 2450) loss: 1.207438\n(Iteration 2421 / 2450) loss: 1.244814\n(Iteration 2431 / 2450) loss: 1.324780\n"
     ]
    },
    {
     "name": "stdout",
     "output_type": "stream",
     "text": [
      "(Iteration 2441 / 2450) loss: 1.193127\n(Epoch 10 / 10) train acc: 0.548000; val_acc: 0.466000\nlearning_rate = 0.000100, reg = 0.000100, best val loss = 0.479000\n"
     ]
    }
   ],
   "source": [
    "best_model = None\n",
    "################################################################################\n",
    "# TODO: Train the best FullyConnectedNet that you can on CIFAR-10. You might   #\n",
    "# batch normalization and dropout useful. Store your best model in the         #\n",
    "# best_model variable.                                                         #\n",
    "################################################################################\n",
    "best_acc = -1\n",
    "learning_rates = [1e-3, 1e-4]\n",
    "reg = [1e-2, 1e-3, 1e-4]\n",
    "for lr in learning_rates:\n",
    "    for rs in reg:\n",
    "        model = FullyConnectedNet([100, 100, 100, 100, 100], weight_scale=5e-2, reg = rs)\n",
    "\n",
    "        solver = Solver(model, data,\n",
    "                      num_epochs=10, batch_size=200,\n",
    "                      update_rule='rmsprop',\n",
    "                      optim_config={\n",
    "                        'learning_rate': lr\n",
    "                      },\n",
    "                      verbose=True)\n",
    "        solver.train()\n",
    "        print('learning_rate = %f, reg = %f, best val loss = %f' %(lr, rs, solver.best_val_acc))\n",
    "        if solver.best_val_acc > best_acc:\n",
    "            best_acc = solver.best_val_acc\n",
    "            best_model = model\n",
    "        \n",
    "################################################################################\n",
    "#                              END OF YOUR CODE                                #\n",
    "################################################################################"
   ]
  },
  {
   "cell_type": "markdown",
   "metadata": {
    "editable": true,
    "deletable": true
   },
   "source": [
    "# Test you model\n",
    "Run your best model on the validation and test sets. You should achieve above 50% accuracy on the validation set."
   ]
  },
  {
   "cell_type": "code",
   "execution_count": 35,
   "metadata": {
    "collapsed": false,
    "editable": true,
    "deletable": true
   },
   "outputs": [
    {
     "name": "stdout",
     "output_type": "stream",
     "text": [
      "Validation set accuracy:  0.508\nTest set accuracy:  0.497\n"
     ]
    }
   ],
   "source": [
    "y_test_pred = np.argmax(best_model.loss(data['X_test']), axis=1)\n",
    "y_val_pred = np.argmax(best_model.loss(data['X_val']), axis=1)\n",
    "print('Validation set accuracy: ', (y_val_pred == data['y_val']).mean())\n",
    "print('Test set accuracy: ', (y_test_pred == data['y_test']).mean())"
   ]
  },
  {
   "cell_type": "code",
   "execution_count": null,
   "metadata": {},
   "outputs": [],
   "source": []
  }
 ],
 "metadata": {
  "kernelspec": {
   "display_name": "Python 3",
   "name": "python3",
   "language": "python"
  },
  "language_info": {
   "mimetype": "text/x-python",
   "nbconvert_exporter": "python",
   "name": "python",
   "file_extension": ".py",
   "version": "3.5.0",
   "pygments_lexer": "ipython3",
   "codemirror_mode": {
    "version": 3,
    "name": "ipython"
   }
  }
 },
 "nbformat": 4,
 "nbformat_minor": 0
}
